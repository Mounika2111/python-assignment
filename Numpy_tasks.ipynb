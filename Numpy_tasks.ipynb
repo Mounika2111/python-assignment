{
  "cells": [
    {
      "cell_type": "markdown",
      "metadata": {
        "id": "view-in-github",
        "colab_type": "text"
      },
      "source": [
        "<a href=\"https://colab.research.google.com/github/Mounika2111/python-assignment/blob/main/Numpy_tasks.ipynb\" target=\"_parent\"><img src=\"https://colab.research.google.com/assets/colab-badge.svg\" alt=\"Open In Colab\"/></a>"
      ]
    },
    {
      "cell_type": "markdown",
      "metadata": {
        "id": "OsuAWjHkRiKB"
      },
      "source": [
        "# Numpy\n",
        "\n"
      ]
    },
    {
      "cell_type": "markdown",
      "metadata": {
        "id": "qM-L0WzaRiKE"
      },
      "source": [
        "#### 1. Import the numpy package under the name `np` (★☆☆) \n",
        "(**hint**: import … as …)"
      ]
    },
    {
      "cell_type": "code",
      "execution_count": 1,
      "metadata": {
        "collapsed": true,
        "id": "ZQnFOFe9RiKE"
      },
      "outputs": [],
      "source": [
        "import numpy as np"
      ]
    },
    {
      "cell_type": "markdown",
      "metadata": {
        "id": "YlvNXeaKRiKF"
      },
      "source": [
        "#### 2. Print the numpy version and the configuration (★☆☆) \n",
        "(**hint**: np.\\_\\_version\\_\\_, np.show\\_config)"
      ]
    },
    {
      "cell_type": "code",
      "execution_count": 2,
      "metadata": {
        "id": "D5LC5SLpRiKF",
        "outputId": "d4807f55-348e-45ce-9539-44b401c9e23f",
        "colab": {
          "base_uri": "https://localhost:8080/"
        }
      },
      "outputs": [
        {
          "output_type": "stream",
          "name": "stdout",
          "text": [
            "1.21.6\n",
            "blas_mkl_info:\n",
            "  NOT AVAILABLE\n",
            "blis_info:\n",
            "  NOT AVAILABLE\n",
            "openblas_info:\n",
            "    libraries = ['openblas', 'openblas']\n",
            "    library_dirs = ['/usr/local/lib']\n",
            "    language = c\n",
            "    define_macros = [('HAVE_CBLAS', None)]\n",
            "    runtime_library_dirs = ['/usr/local/lib']\n",
            "blas_opt_info:\n",
            "    libraries = ['openblas', 'openblas']\n",
            "    library_dirs = ['/usr/local/lib']\n",
            "    language = c\n",
            "    define_macros = [('HAVE_CBLAS', None)]\n",
            "    runtime_library_dirs = ['/usr/local/lib']\n",
            "lapack_mkl_info:\n",
            "  NOT AVAILABLE\n",
            "openblas_lapack_info:\n",
            "    libraries = ['openblas', 'openblas']\n",
            "    library_dirs = ['/usr/local/lib']\n",
            "    language = c\n",
            "    define_macros = [('HAVE_CBLAS', None)]\n",
            "    runtime_library_dirs = ['/usr/local/lib']\n",
            "lapack_opt_info:\n",
            "    libraries = ['openblas', 'openblas']\n",
            "    library_dirs = ['/usr/local/lib']\n",
            "    language = c\n",
            "    define_macros = [('HAVE_CBLAS', None)]\n",
            "    runtime_library_dirs = ['/usr/local/lib']\n",
            "Supported SIMD extensions in this NumPy install:\n",
            "    baseline = SSE,SSE2,SSE3\n",
            "    found = SSSE3,SSE41,POPCNT,SSE42,AVX,F16C,FMA3,AVX2\n",
            "    not found = AVX512F,AVX512CD,AVX512_KNL,AVX512_KNM,AVX512_SKX,AVX512_CLX,AVX512_CNL,AVX512_ICL\n",
            "None\n"
          ]
        }
      ],
      "source": [
        "print(np.__version__)\n",
        "print(np.show_config())"
      ]
    },
    {
      "cell_type": "markdown",
      "metadata": {
        "id": "m9ERc82TRiKF"
      },
      "source": [
        "#### 3. Create a null vector of size 10 (★☆☆) \n",
        "(**hint**: np.zeros)"
      ]
    },
    {
      "cell_type": "code",
      "execution_count": 3,
      "metadata": {
        "id": "4jk25PTiRiKG",
        "outputId": "f4eda078-622e-4766-c8d1-5002cc206e7d",
        "colab": {
          "base_uri": "https://localhost:8080/"
        }
      },
      "outputs": [
        {
          "output_type": "stream",
          "name": "stdout",
          "text": [
            "[0. 0. 0. 0. 0. 0. 0. 0. 0. 0.]\n"
          ]
        }
      ],
      "source": [
        "Z = np.zeros(10)\n",
        "print(Z)"
      ]
    },
    {
      "cell_type": "markdown",
      "metadata": {
        "id": "fP8_PMxzRiKG"
      },
      "source": [
        "#### 4.  How to find the memory size of any array (★☆☆) \n",
        "(**hint**: size, itemsize)"
      ]
    },
    {
      "cell_type": "code",
      "execution_count": 4,
      "metadata": {
        "id": "acZDFNXNRiKH",
        "outputId": "333ad8bc-6e82-49e1-8acf-d19ead5a24ff",
        "colab": {
          "base_uri": "https://localhost:8080/"
        }
      },
      "outputs": [
        {
          "output_type": "stream",
          "name": "stdout",
          "text": [
            "200 bytes\n"
          ]
        }
      ],
      "source": [
        "A = np.zeros((5,5))\n",
        "\n",
        "# To find the memory size of any array we should multiply Size of the Array with its Item Size.\n",
        "print(\"%d bytes\" % (A.size * A.itemsize))"
      ]
    },
    {
      "cell_type": "markdown",
      "metadata": {
        "id": "bF5R71AJRiKH"
      },
      "source": [
        "#### 5.  How to get the documentation of the numpy add function from the command line? (★☆☆) \n",
        "(**hint**: np.info)"
      ]
    },
    {
      "cell_type": "code",
      "execution_count": 5,
      "metadata": {
        "collapsed": true,
        "id": "n5mDHTyfRiKH",
        "outputId": "12e7301f-5e03-46f3-afaf-24f76303a24a",
        "colab": {
          "base_uri": "https://localhost:8080/"
        }
      },
      "outputs": [
        {
          "output_type": "stream",
          "name": "stdout",
          "text": [
            "add(x1, x2, /, out=None, *, where=True, casting='same_kind', order='K', dtype=None, subok=True[, signature, extobj])\n",
            "\n",
            "Add arguments element-wise.\n",
            "\n",
            "Parameters\n",
            "----------\n",
            "x1, x2 : array_like\n",
            "    The arrays to be added.\n",
            "    If ``x1.shape != x2.shape``, they must be broadcastable to a common\n",
            "    shape (which becomes the shape of the output).\n",
            "out : ndarray, None, or tuple of ndarray and None, optional\n",
            "    A location into which the result is stored. If provided, it must have\n",
            "    a shape that the inputs broadcast to. If not provided or None,\n",
            "    a freshly-allocated array is returned. A tuple (possible only as a\n",
            "    keyword argument) must have length equal to the number of outputs.\n",
            "where : array_like, optional\n",
            "    This condition is broadcast over the input. At locations where the\n",
            "    condition is True, the `out` array will be set to the ufunc result.\n",
            "    Elsewhere, the `out` array will retain its original value.\n",
            "    Note that if an uninitialized `out` array is created via the default\n",
            "    ``out=None``, locations within it where the condition is False will\n",
            "    remain uninitialized.\n",
            "**kwargs\n",
            "    For other keyword-only arguments, see the\n",
            "    :ref:`ufunc docs <ufuncs.kwargs>`.\n",
            "\n",
            "Returns\n",
            "-------\n",
            "add : ndarray or scalar\n",
            "    The sum of `x1` and `x2`, element-wise.\n",
            "    This is a scalar if both `x1` and `x2` are scalars.\n",
            "\n",
            "Notes\n",
            "-----\n",
            "Equivalent to `x1` + `x2` in terms of array broadcasting.\n",
            "\n",
            "Examples\n",
            "--------\n",
            ">>> np.add(1.0, 4.0)\n",
            "5.0\n",
            ">>> x1 = np.arange(9.0).reshape((3, 3))\n",
            ">>> x2 = np.arange(3.0)\n",
            ">>> np.add(x1, x2)\n",
            "array([[  0.,   2.,   4.],\n",
            "       [  3.,   5.,   7.],\n",
            "       [  6.,   8.,  10.]])\n",
            "\n",
            "The ``+`` operator can be used as a shorthand for ``np.add`` on ndarrays.\n",
            "\n",
            ">>> x1 = np.arange(9.0).reshape((3, 3))\n",
            ">>> x2 = np.arange(3.0)\n",
            ">>> x1 + x2\n",
            "array([[ 0.,  2.,  4.],\n",
            "       [ 3.,  5.,  7.],\n",
            "       [ 6.,  8., 10.]])\n",
            "None\n"
          ]
        }
      ],
      "source": [
        "print(np.info(np.add))"
      ]
    },
    {
      "cell_type": "markdown",
      "metadata": {
        "id": "G3ZLaOsGRiKH"
      },
      "source": [
        "#### 6.  Create a null vector of size 10 but the fifth value which is 1 (★☆☆) \n",
        "(**hint**: array\\[4\\])"
      ]
    },
    {
      "cell_type": "code",
      "execution_count": 6,
      "metadata": {
        "id": "1EuCLDXhRiKI",
        "outputId": "644b2806-7084-492a-9cab-54ab5ac67510",
        "colab": {
          "base_uri": "https://localhost:8080/"
        }
      },
      "outputs": [
        {
          "output_type": "stream",
          "name": "stdout",
          "text": [
            "[0. 0. 0. 0. 1. 0. 0. 0. 0. 0.]\n"
          ]
        }
      ],
      "source": [
        "array = np.zeros(10)\n",
        "array[4] = 1\n",
        "\n",
        "print(array)"
      ]
    },
    {
      "cell_type": "markdown",
      "metadata": {
        "id": "b1YoaV05RiKI"
      },
      "source": [
        "#### 7.  Create a vector with values ranging from 10 to 49 (★☆☆) \n",
        "(**hint**: np.arange)"
      ]
    },
    {
      "cell_type": "code",
      "execution_count": 7,
      "metadata": {
        "id": "ywTaO2NPRiKI",
        "outputId": "9c8e3ee5-0837-4f1b-f1f9-93bff2fb4bb4",
        "colab": {
          "base_uri": "https://localhost:8080/"
        }
      },
      "outputs": [
        {
          "output_type": "stream",
          "name": "stdout",
          "text": [
            "[10 11 12 13 14 15 16 17 18 19 20 21 22 23 24 25 26 27 28 29 30 31 32 33\n",
            " 34 35 36 37 38 39 40 41 42 43 44 45 46 47 48] \n",
            "\n",
            "[10 11 12 13 14 15 16 17 18 19 20 21 22 23 24 25 26 27 28 29 30 31 32 33\n",
            " 34 35 36 37 38 39 40 41 42 43 44 45 46 47 48 49]\n"
          ]
        }
      ],
      "source": [
        "vector = np.arange(10,49)\n",
        "print(vector,\"\\n\")\n",
        "\n",
        "# If 49 needs to be included the\n",
        "\n",
        "vector1 = np.arange(10,50)\n",
        "print(vector1)"
      ]
    },
    {
      "cell_type": "markdown",
      "metadata": {
        "id": "wLRug73HRiKI"
      },
      "source": [
        "#### 8.  Reverse a vector (first element becomes last) (★☆☆) \n",
        "(**hint**: array\\[::-1\\])"
      ]
    },
    {
      "cell_type": "code",
      "execution_count": 8,
      "metadata": {
        "id": "AWkpq2wKRiKJ",
        "outputId": "8e7ceb0b-cbd9-40b5-ed2b-d40139711de4",
        "colab": {
          "base_uri": "https://localhost:8080/"
        }
      },
      "outputs": [
        {
          "output_type": "stream",
          "name": "stdout",
          "text": [
            "Vector before reversed :  \n",
            " [10 11 12 13 14 15 16 17 18 19 20 21 22 23 24 25 26 27 28 29 30 31 32 33\n",
            " 34 35 36 37 38 39 40 41 42 43 44 45 46 47 48] \n",
            "\n",
            "Vector before reversed :  \n",
            " [48 47 46 45 44 43 42 41 40 39 38 37 36 35 34 33 32 31 30 29 28 27 26 25\n",
            " 24 23 22 21 20 19 18 17 16 15 14 13 12 11 10]\n"
          ]
        }
      ],
      "source": [
        "vector = np.arange(10,49)\n",
        "\n",
        "print(\"Vector before reversed : \",\"\\n\",vector,\"\\n\")\n",
        "print(\"Vector before reversed : \",\"\\n\",vector[::-1])"
      ]
    },
    {
      "cell_type": "markdown",
      "metadata": {
        "id": "gOP0qoXGRiKJ"
      },
      "source": [
        "#### 9.  Create a 3x3 matrix with values ranging from 0 to 8 (★☆☆) \n",
        "(**hint**: reshape)"
      ]
    },
    {
      "cell_type": "code",
      "execution_count": 9,
      "metadata": {
        "id": "vyOJ28ffRiKJ",
        "outputId": "b37468ce-8ee3-40f4-c397-456856fba431",
        "colab": {
          "base_uri": "https://localhost:8080/"
        }
      },
      "outputs": [
        {
          "output_type": "stream",
          "name": "stdout",
          "text": [
            "[[0 1 2]\n",
            " [3 4 5]\n",
            " [6 7 8]]\n"
          ]
        }
      ],
      "source": [
        "x =  np.arange(0,9).reshape(3,3)\n",
        "print(x)"
      ]
    },
    {
      "cell_type": "markdown",
      "metadata": {
        "id": "nMrIs8pDRiKJ"
      },
      "source": [
        "#### 10. Find indices of non-zero elements from \\[1,2,0,0,4,0\\] (★☆☆) \n",
        "(**hint**: np.nonzero)"
      ]
    },
    {
      "cell_type": "code",
      "execution_count": 10,
      "metadata": {
        "id": "l-MeAFzfRiKK",
        "outputId": "abbc5e40-7d76-4c85-e7ba-ff58edd07c26",
        "colab": {
          "base_uri": "https://localhost:8080/"
        }
      },
      "outputs": [
        {
          "output_type": "stream",
          "name": "stdout",
          "text": [
            "Indices of non-zero elements from [1,2,0,0,4,0] is :  \n",
            " (array([0, 1, 4]),)\n"
          ]
        }
      ],
      "source": [
        "A = [1,2,0,0,4,0]\n",
        "print(\"Indices of non-zero elements from [1,2,0,0,4,0] is : \",\"\\n\",np.nonzero(A))"
      ]
    },
    {
      "cell_type": "markdown",
      "metadata": {
        "id": "B3Ss1MPlRiKK"
      },
      "source": [
        "#### 11. Create a 3x3 identity matrix (★☆☆) \n",
        "(**hint**: np.eye)"
      ]
    },
    {
      "cell_type": "code",
      "execution_count": 11,
      "metadata": {
        "id": "7Q8jT0hXRiKK",
        "outputId": "050e1c91-9581-47ea-bf08-e0a9a9bea293",
        "colab": {
          "base_uri": "https://localhost:8080/"
        }
      },
      "outputs": [
        {
          "output_type": "stream",
          "name": "stdout",
          "text": [
            "The 3x3 Identity Matrix is :  \n",
            " [[1. 0. 0.]\n",
            " [0. 1. 0.]\n",
            " [0. 0. 1.]]\n"
          ]
        }
      ],
      "source": [
        "Imat=np.eye(3,3)\n",
        "print(\"The 3x3 Identity Matrix is : \",\"\\n\",Imat)"
      ]
    },
    {
      "cell_type": "markdown",
      "metadata": {
        "id": "sRe-X17BRiKK"
      },
      "source": [
        "#### 12. Create a 3x3x3 array with random values (★☆☆) \n",
        "(**hint**: np.random.random)"
      ]
    },
    {
      "cell_type": "code",
      "execution_count": 12,
      "metadata": {
        "collapsed": true,
        "id": "Crompy5IRiKK",
        "outputId": "6f9afb65-76b1-4575-b746-24f9c6d7e395",
        "colab": {
          "base_uri": "https://localhost:8080/"
        }
      },
      "outputs": [
        {
          "output_type": "stream",
          "name": "stdout",
          "text": [
            "The 3x3x3 Array with Random Values \n",
            " [[[0.35021528 0.50515291 0.82821625]\n",
            "  [0.22557173 0.42802588 0.92840394]\n",
            "  [0.94881977 0.04662627 0.53630164]]\n",
            "\n",
            " [[0.80848119 0.07932229 0.4765997 ]\n",
            "  [0.94783818 0.59512146 0.01533428]\n",
            "  [0.4283631  0.90144383 0.83741782]]\n",
            "\n",
            " [[0.45580645 0.79045988 0.38757298]\n",
            "  [0.04547006 0.08572372 0.24993333]\n",
            "  [0.66296635 0.89962314 0.61687905]]]\n"
          ]
        }
      ],
      "source": [
        "ran = np.random.random((3,3,3))\n",
        "print(\"The 3x3x3 Array with Random Values\",\"\\n\",ran)"
      ]
    },
    {
      "cell_type": "markdown",
      "metadata": {
        "id": "0dKRn-suRiKK"
      },
      "source": [
        "#### 13. Create a 10x10 array with random values and find the minimum and maximum values (★☆☆) \n",
        "(**hint**: min, max)"
      ]
    },
    {
      "cell_type": "code",
      "execution_count": 13,
      "metadata": {
        "id": "fRq0ZwhiRiKK",
        "outputId": "8f9d5802-c058-4792-dca8-35cc761ea26c",
        "colab": {
          "base_uri": "https://localhost:8080/"
        }
      },
      "outputs": [
        {
          "output_type": "stream",
          "name": "stdout",
          "text": [
            "The Minimum Value is :  0.007891895921971814\n",
            "The Maximum Value is :  0.9999259685141537\n"
          ]
        }
      ],
      "source": [
        "ran1 = np.random.random((10,10))\n",
        "print(\"The Minimum Value is : \",ran1.min())\n",
        "print(\"The Maximum Value is : \",ran1.max())"
      ]
    },
    {
      "cell_type": "markdown",
      "metadata": {
        "id": "5yQDKLoTRiKK"
      },
      "source": [
        "#### 14. Create a random vector of size 30 and find the mean value (★☆☆) \n",
        "(**hint**: mean)"
      ]
    },
    {
      "cell_type": "code",
      "execution_count": 14,
      "metadata": {
        "id": "ePXjFcD-RiKL",
        "outputId": "9420f289-3303-4e09-b79e-04b25a5041d0",
        "colab": {
          "base_uri": "https://localhost:8080/"
        }
      },
      "outputs": [
        {
          "output_type": "stream",
          "name": "stdout",
          "text": [
            "The mean value of the random vector of size 30 is :  0.5227978730625322\n"
          ]
        }
      ],
      "source": [
        "ran2 = np.random.random(30)\n",
        "print(\"The mean value of the random vector of size 30 is : \",ran2.mean())"
      ]
    },
    {
      "cell_type": "markdown",
      "metadata": {
        "id": "yg_lYovuRiKL"
      },
      "source": [
        "#### 15. Create a 2d array with 1 on the border and 0 inside (★☆☆) \n",
        "(**hint**: array\\[1:-1, 1:-1\\])"
      ]
    },
    {
      "cell_type": "code",
      "execution_count": 15,
      "metadata": {
        "id": "2yCXUWaERiKL",
        "outputId": "0f794eab-3bbf-4e03-bf61-92be1ce34cf6",
        "colab": {
          "base_uri": "https://localhost:8080/"
        }
      },
      "outputs": [
        {
          "output_type": "stream",
          "name": "stdout",
          "text": [
            "2d array with 1 on the border and 0 inside :  \n",
            " [[1. 1. 1. 1. 1. 1. 1. 1. 1. 1.]\n",
            " [1. 0. 0. 0. 0. 0. 0. 0. 0. 1.]\n",
            " [1. 0. 0. 0. 0. 0. 0. 0. 0. 1.]\n",
            " [1. 0. 0. 0. 0. 0. 0. 0. 0. 1.]\n",
            " [1. 0. 0. 0. 0. 0. 0. 0. 0. 1.]\n",
            " [1. 0. 0. 0. 0. 0. 0. 0. 0. 1.]\n",
            " [1. 0. 0. 0. 0. 0. 0. 0. 0. 1.]\n",
            " [1. 0. 0. 0. 0. 0. 0. 0. 0. 1.]\n",
            " [1. 0. 0. 0. 0. 0. 0. 0. 0. 1.]\n",
            " [1. 1. 1. 1. 1. 1. 1. 1. 1. 1.]]\n"
          ]
        }
      ],
      "source": [
        "Z = np.ones((10,10))\n",
        "Z[1:-1,1:-1]=0\n",
        "print(\"2d array with 1 on the border and 0 inside : \",\"\\n\",Z)"
      ]
    },
    {
      "cell_type": "markdown",
      "metadata": {
        "id": "HD5xEtJtRiKL"
      },
      "source": [
        "#### 16. How to add a border (filled with 0's) around an existing array? (★☆☆) \n",
        "(**hint**: np.pad)"
      ]
    },
    {
      "cell_type": "code",
      "execution_count": 16,
      "metadata": {
        "id": "eSUVhAzERiKL",
        "outputId": "3d24579c-0226-496e-fe0c-b7b225302044",
        "colab": {
          "base_uri": "https://localhost:8080/"
        }
      },
      "outputs": [
        {
          "output_type": "stream",
          "name": "stdout",
          "text": [
            "A border (filled with 0's) around an existing array :  \n",
            " [[0. 0. 0. 0. 0. 0. 0. 0. 0. 0. 0. 0.]\n",
            " [0. 1. 1. 1. 1. 1. 1. 1. 1. 1. 1. 0.]\n",
            " [0. 1. 1. 1. 1. 1. 1. 1. 1. 1. 1. 0.]\n",
            " [0. 1. 1. 1. 1. 1. 1. 1. 1. 1. 1. 0.]\n",
            " [0. 1. 1. 1. 1. 1. 1. 1. 1. 1. 1. 0.]\n",
            " [0. 1. 1. 1. 1. 1. 1. 1. 1. 1. 1. 0.]\n",
            " [0. 1. 1. 1. 1. 1. 1. 1. 1. 1. 1. 0.]\n",
            " [0. 1. 1. 1. 1. 1. 1. 1. 1. 1. 1. 0.]\n",
            " [0. 1. 1. 1. 1. 1. 1. 1. 1. 1. 1. 0.]\n",
            " [0. 1. 1. 1. 1. 1. 1. 1. 1. 1. 1. 0.]\n",
            " [0. 1. 1. 1. 1. 1. 1. 1. 1. 1. 1. 0.]\n",
            " [0. 0. 0. 0. 0. 0. 0. 0. 0. 0. 0. 0.]]\n"
          ]
        }
      ],
      "source": [
        "Z = np.ones((10,10))\n",
        "Z = np.pad(Z, pad_width=1, mode='constant', constant_values=0)\n",
        "print(\"A border (filled with 0's) around an existing array : \",\"\\n\",Z)"
      ]
    },
    {
      "cell_type": "markdown",
      "metadata": {
        "id": "3aUhyCcFRiKL"
      },
      "source": [
        "#### 17. What is the result of the following expression? (★☆☆) \n",
        "(**hint**: NaN = not a number, inf = infinity)"
      ]
    },
    {
      "cell_type": "markdown",
      "metadata": {
        "id": "PhYPh8_IRiKL"
      },
      "source": [
        "```python\n",
        "0 * np.nan\n",
        "np.nan == np.nan\n",
        "np.inf > np.nan\n",
        "np.nan - np.nan\n",
        "0.3 == 3 * 0.1\n",
        "```"
      ]
    },
    {
      "cell_type": "code",
      "execution_count": 17,
      "metadata": {
        "id": "6AsWa3hGRiKM",
        "outputId": "451764a6-7c4b-4141-939c-a18ca13b276b",
        "colab": {
          "base_uri": "https://localhost:8080/"
        }
      },
      "outputs": [
        {
          "output_type": "stream",
          "name": "stdout",
          "text": [
            "nan\n",
            "False\n",
            "False\n",
            "nan\n",
            "False\n"
          ]
        }
      ],
      "source": [
        "print(0 * np.nan)\n",
        "print(np.nan == np.nan)\n",
        "print(np.inf > np.nan)\n",
        "print(np.nan - np.nan)\n",
        "print(0.3 == 3 * 0.1)"
      ]
    },
    {
      "cell_type": "markdown",
      "metadata": {
        "id": "oAa1btQwRiKM"
      },
      "source": [
        "#### 18. Create a 5x5 matrix with values 1,2,3,4 just below the diagonal (★☆☆) \n",
        "(**hint**: np.diag)"
      ]
    },
    {
      "cell_type": "code",
      "execution_count": 18,
      "metadata": {
        "id": "zgInhIZFRiKM",
        "outputId": "7d3f234e-ef0f-4b0c-8595-b21c23595a4e",
        "colab": {
          "base_uri": "https://localhost:8080/"
        }
      },
      "outputs": [
        {
          "output_type": "stream",
          "name": "stdout",
          "text": [
            "[[0 0 0 0 0]\n",
            " [1 0 0 0 0]\n",
            " [0 2 0 0 0]\n",
            " [0 0 3 0 0]\n",
            " [0 0 0 4 0]]\n"
          ]
        }
      ],
      "source": [
        "Z = np.diag(1+np.arange(4), k = -1)\n",
        "\n",
        "print (Z)"
      ]
    },
    {
      "cell_type": "markdown",
      "metadata": {
        "id": "LiqFrRsaRiKM"
      },
      "source": [
        "#### 19. Create a 8x8 matrix and fill it with a checkerboard pattern (★☆☆) \n",
        "(**hint**: array\\[::2\\])"
      ]
    },
    {
      "cell_type": "code",
      "execution_count": 19,
      "metadata": {
        "id": "em6pjNgdRiKM",
        "outputId": "5f031e40-a59e-4da7-843a-9ef8ba95183e",
        "colab": {
          "base_uri": "https://localhost:8080/"
        }
      },
      "outputs": [
        {
          "output_type": "stream",
          "name": "stdout",
          "text": [
            "[[0 1 0 1 0 1 0 1]\n",
            " [1 0 1 0 1 0 1 0]\n",
            " [0 1 0 1 0 1 0 1]\n",
            " [1 0 1 0 1 0 1 0]\n",
            " [0 1 0 1 0 1 0 1]\n",
            " [1 0 1 0 1 0 1 0]\n",
            " [0 1 0 1 0 1 0 1]\n",
            " [1 0 1 0 1 0 1 0]]\n"
          ]
        }
      ],
      "source": [
        "Checker = np.zeros ((8,8), dtype=int)\n",
        "\n",
        "Checker[1::2, ::2]= 1\n",
        "Checker[::2, 1::2] = 1\n",
        "\n",
        "print (Checker)"
      ]
    },
    {
      "cell_type": "markdown",
      "metadata": {
        "id": "EraNE3n3RiKM"
      },
      "source": [
        "#### 20. Consider a (6,7,8) shape array, what is the index (x,y,z) of the 100th element? \n",
        "(**hint**: np.unravel_index)"
      ]
    },
    {
      "cell_type": "code",
      "execution_count": 20,
      "metadata": {
        "id": "9oCF9R4jRiKM",
        "outputId": "c684f968-6c59-43d0-fbeb-f60030ceacd0",
        "colab": {
          "base_uri": "https://localhost:8080/"
        }
      },
      "outputs": [
        {
          "output_type": "stream",
          "name": "stdout",
          "text": [
            "In (6,7,8) shape array the index (x,y,z) of the 100th element is :  (1, 5, 4)\n"
          ]
        }
      ],
      "source": [
        "print (\"In (6,7,8) shape array the index (x,y,z) of the 100th element is : \",np.unravel_index(100, (6,7,8)))"
      ]
    },
    {
      "cell_type": "markdown",
      "metadata": {
        "id": "4raas5zgRiKN"
      },
      "source": [
        "#### 21. Create a checkerboard 8x8 matrix using the tile function (★☆☆) \n",
        "(**hint**: np.tile)"
      ]
    },
    {
      "cell_type": "code",
      "execution_count": 21,
      "metadata": {
        "id": "f0iFryxyRiKN",
        "outputId": "27440725-bc37-4d40-e1a5-4807b5f28f69",
        "colab": {
          "base_uri": "https://localhost:8080/"
        }
      },
      "outputs": [
        {
          "output_type": "stream",
          "name": "stdout",
          "text": [
            "Checkerboard 8x8 matrix using the tile function :  \n",
            " [[0 1 0 1 0 1 0 1]\n",
            " [1 0 1 0 1 0 1 0]\n",
            " [0 1 0 1 0 1 0 1]\n",
            " [1 0 1 0 1 0 1 0]\n",
            " [0 1 0 1 0 1 0 1]\n",
            " [1 0 1 0 1 0 1 0]\n",
            " [0 1 0 1 0 1 0 1]\n",
            " [1 0 1 0 1 0 1 0]]\n"
          ]
        }
      ],
      "source": [
        "array1= np.array([[0,1], [1,0]])\n",
        "Za = np.tile(array1,(4,4))\n",
        "\n",
        "print (\"Checkerboard 8x8 matrix using the tile function : \",\"\\n\",Za)"
      ]
    },
    {
      "cell_type": "markdown",
      "metadata": {
        "id": "3XjCMycARiKN"
      },
      "source": [
        "#### 22. Normalize a 5x5 random matrix (★☆☆) \n",
        "(**hint**: (x - min) / (max - min))"
      ]
    },
    {
      "cell_type": "code",
      "execution_count": 22,
      "metadata": {
        "id": "h8SQR067RiKN",
        "outputId": "8a0e8374-a17b-4221-f8b0-3e16ae300686",
        "colab": {
          "base_uri": "https://localhost:8080/"
        }
      },
      "outputs": [
        {
          "output_type": "stream",
          "name": "stdout",
          "text": [
            "Normalized a 5x5 random matrix is : \n",
            " [[1.         0.36178889 0.36497597 0.52121219 0.        ]\n",
            " [0.6757144  0.02407111 0.46938541 0.25053506 0.93228761]\n",
            " [0.45702151 0.91622122 0.18337744 0.74764488 0.15130954]\n",
            " [0.44836722 0.40238477 0.15538888 0.99374163 0.99448986]\n",
            " [0.91950643 0.9079782  0.47094732 0.18201149 0.03473903]]\n"
          ]
        }
      ],
      "source": [
        "Norm = np.random.random((5,5))\n",
        "Normmax, Normmin = Norm.max(), Norm.min()\n",
        "mat= (Norm-Normmin)/(Normmax-Normmin)\n",
        "\n",
        "print (\"Normalized a 5x5 random matrix is :\",\"\\n\",mat)"
      ]
    },
    {
      "cell_type": "markdown",
      "metadata": {
        "id": "9jsiHW9BRiKN"
      },
      "source": [
        "#### 23. Create a custom dtype that describes a color as four unsigned bytes (RGBA) (★☆☆) \n",
        "(**hint**: np.dtype)"
      ]
    },
    {
      "cell_type": "code",
      "execution_count": 24,
      "metadata": {
        "collapsed": true,
        "id": "JShztveqRiKN",
        "outputId": "d7197f91-fc90-4215-8ede-35c731d20e53",
        "colab": {
          "base_uri": "https://localhost:8080/"
        }
      },
      "outputs": [
        {
          "output_type": "stream",
          "name": "stdout",
          "text": [
            "blue\n",
            "4\n"
          ]
        },
        {
          "output_type": "execute_result",
          "data": {
            "text/plain": [
              "numpy.ndarray"
            ]
          },
          "metadata": {},
          "execution_count": 24
        }
      ],
      "source": [
        "RGBA = np.dtype([('red',np.uint8),('green',np.uint8),('blue',np.uint8),('alpha',np.uint8)])\n",
        "color = np.array((1,2,4,3),dtype = RGBA)\n",
        "\n",
        "col = input()\n",
        "print(color[col])\n",
        "type(color)"
      ]
    },
    {
      "cell_type": "markdown",
      "metadata": {
        "id": "6nc1rPIoRiKN"
      },
      "source": [
        "#### 24. Multiply a 5x3 matrix by a 3x2 matrix (real matrix product) (★☆☆) \n",
        "(**hint**: np.dot | @)"
      ]
    },
    {
      "cell_type": "code",
      "execution_count": 25,
      "metadata": {
        "id": "y6gGbDQ1RiKN",
        "outputId": "c9456cc3-8ff0-458a-d783-ca38797ad2a1",
        "colab": {
          "base_uri": "https://localhost:8080/"
        }
      },
      "outputs": [
        {
          "output_type": "stream",
          "name": "stdout",
          "text": [
            "[[3. 3.]\n",
            " [3. 3.]\n",
            " [3. 3.]\n",
            " [3. 3.]\n",
            " [3. 3.]]\n"
          ]
        }
      ],
      "source": [
        "mat1= np.dot(np.ones((5,3)), np.ones((3,2)))\n",
        "\n",
        "print (mat1)"
      ]
    },
    {
      "cell_type": "markdown",
      "metadata": {
        "id": "atfjOvjDRiKN"
      },
      "source": [
        "#### 25. Given a 1D array, negate all elements which are between 3 and 8, in place. (★☆☆) \n",
        "(**hint**: >, <=)"
      ]
    },
    {
      "cell_type": "code",
      "execution_count": 26,
      "metadata": {
        "id": "X4plNJY6RiKO",
        "outputId": "70e23d52-4a33-4ff7-85b4-01864bccf4e1",
        "colab": {
          "base_uri": "https://localhost:8080/"
        }
      },
      "outputs": [
        {
          "output_type": "stream",
          "name": "stdout",
          "text": [
            "If 3 and 8 Not to be included :  \n",
            "\n",
            "[ 0  1  2 -1 -1 -1 -1 -1 -1  9 10 11 12 13 14 15] \n",
            "\n",
            "If 3 and 8 are to be included :  \n",
            "\n",
            "[ 0  1  2  3 -1 -1 -1 -1  8  9 10 11 12 13 14 15]\n",
            "Or According to the hint :  \n",
            "\n",
            "[ 0  1  2  3 -1 -1 -1 -1 -1  9 10 11 12 13 14 15]\n"
          ]
        }
      ],
      "source": [
        "arr1 = np.arange(16)\n",
        "\n",
        "print(\"If 3 and 8 Not to be included : \",\"\\n\")\n",
        "arr1 [(arr1 >= 3) & (arr1 <= 8)] = (-1)\n",
        "print(arr1,\"\\n\")\n",
        "\n",
        "arr2 = np.arange(16)\n",
        "print(\"If 3 and 8 are to be included : \",\"\\n\")\n",
        "arr2 [(arr2 > 3) & (arr2 < 8)] = (-1)\n",
        "print(arr2)\n",
        "\n",
        "arr3 = np.arange(16)\n",
        "print(\"Or According to the hint : \",\"\\n\")\n",
        "arr3 [(arr3 > 3) & (arr3 <= 8)] = (-1)\n",
        "print(arr3)\n"
      ]
    },
    {
      "cell_type": "markdown",
      "metadata": {
        "id": "GfMQLd6fRiKO"
      },
      "source": [
        "#### 26. What is the output of the following script? (★☆☆) \n",
        "(**hint**: np.sum)"
      ]
    },
    {
      "cell_type": "markdown",
      "metadata": {
        "id": "DAkynyQLRiKO"
      },
      "source": [
        "```python\n",
        "# Author: Jake VanderPlas\n",
        "\n",
        "print(sum(range(5),-1))\n",
        "from numpy import *\n",
        "print(sum(range(5),-1))\n",
        "```"
      ]
    },
    {
      "cell_type": "code",
      "execution_count": 27,
      "metadata": {
        "id": "c47BTXF7RiKO",
        "outputId": "8e39bd14-2ee9-4e53-8cea-365443c38240",
        "colab": {
          "base_uri": "https://localhost:8080/"
        }
      },
      "outputs": [
        {
          "output_type": "stream",
          "name": "stdout",
          "text": [
            "10\n",
            "10\n"
          ]
        }
      ],
      "source": [
        "print(np.sum(range(5),-1))\n",
        "from numpy import *\n",
        "print(np.sum(range(5),-1))"
      ]
    },
    {
      "cell_type": "markdown",
      "metadata": {
        "id": "UT3FaKWVRiKO"
      },
      "source": [
        "#### 27. Consider an integer vector Z, which of these expressions are legal? (★☆☆)"
      ]
    },
    {
      "cell_type": "markdown",
      "metadata": {
        "id": "5L0PiP82RiKO"
      },
      "source": [
        "```python\n",
        "Z**Z\n",
        "2 << Z >> 2\n",
        "Z <- Z\n",
        "1j*Z\n",
        "Z/1/1\n",
        "Z<Z>Z\n",
        "```"
      ]
    },
    {
      "cell_type": "code",
      "execution_count": 28,
      "metadata": {
        "id": "_cOrmsXsRiKO",
        "outputId": "2d6e141f-a8b9-4f78-d488-0c143939e2ff",
        "colab": {
          "base_uri": "https://localhost:8080/",
          "height": 287
        }
      },
      "outputs": [
        {
          "output_type": "stream",
          "name": "stdout",
          "text": [
            "[1 1 4]\n",
            "[0 1 2]\n",
            "[False False False]\n",
            "[0.+0.j 0.+1.j 0.+2.j]\n",
            "[0. 1. 2.]\n"
          ]
        },
        {
          "output_type": "error",
          "ename": "ValueError",
          "evalue": "ignored",
          "traceback": [
            "\u001b[0;31m---------------------------------------------------------------------------\u001b[0m",
            "\u001b[0;31mValueError\u001b[0m                                Traceback (most recent call last)",
            "\u001b[0;32m<ipython-input-28-d61ea463c5b8>\u001b[0m in \u001b[0;36m<module>\u001b[0;34m\u001b[0m\n\u001b[1;32m      5\u001b[0m \u001b[0mprint\u001b[0m\u001b[0;34m(\u001b[0m\u001b[0;36m1j\u001b[0m\u001b[0;34m*\u001b[0m\u001b[0mZ\u001b[0m\u001b[0;34m)\u001b[0m\u001b[0;34m\u001b[0m\u001b[0;34m\u001b[0m\u001b[0m\n\u001b[1;32m      6\u001b[0m \u001b[0mprint\u001b[0m\u001b[0;34m(\u001b[0m\u001b[0mZ\u001b[0m\u001b[0;34m/\u001b[0m\u001b[0;36m1\u001b[0m\u001b[0;34m/\u001b[0m\u001b[0;36m1\u001b[0m\u001b[0;34m)\u001b[0m\u001b[0;34m\u001b[0m\u001b[0;34m\u001b[0m\u001b[0m\n\u001b[0;32m----> 7\u001b[0;31m \u001b[0mprint\u001b[0m\u001b[0;34m(\u001b[0m\u001b[0mZ\u001b[0m\u001b[0;34m<\u001b[0m\u001b[0mZ\u001b[0m\u001b[0;34m>\u001b[0m\u001b[0mZ\u001b[0m\u001b[0;34m)\u001b[0m \u001b[0;31m# This expression is illegal\u001b[0m\u001b[0;34m\u001b[0m\u001b[0;34m\u001b[0m\u001b[0m\n\u001b[0m",
            "\u001b[0;31mValueError\u001b[0m: The truth value of an array with more than one element is ambiguous. Use a.any() or a.all()"
          ]
        }
      ],
      "source": [
        "Z = np.arange(3) \n",
        "print(Z**Z)\n",
        "print(2 << Z >> 2)\n",
        "print(Z <- Z)\n",
        "print(1j*Z)\n",
        "print(Z/1/1)\n",
        "print(Z<Z>Z) # This expression is illegal"
      ]
    },
    {
      "cell_type": "markdown",
      "metadata": {
        "id": "C2XybOFbRiKO"
      },
      "source": [
        "#### 28. What are the result of the following expressions?"
      ]
    },
    {
      "cell_type": "markdown",
      "metadata": {
        "id": "xFNrqUgIRiKO"
      },
      "source": [
        "```python\n",
        "np.array(0) / np.array(0)\n",
        "np.array(0) // np.array(0)\n",
        "np.array([np.nan]).astype(int).astype(float)\n",
        "```"
      ]
    },
    {
      "cell_type": "code",
      "execution_count": 29,
      "metadata": {
        "id": "b9dpRQJkRiKP",
        "outputId": "931c6dd1-6ea5-4df2-e679-4a5a9f106ff1",
        "colab": {
          "base_uri": "https://localhost:8080/"
        }
      },
      "outputs": [
        {
          "output_type": "stream",
          "name": "stdout",
          "text": [
            "nan\n",
            "0\n",
            "[-9.22337204e+18]\n"
          ]
        },
        {
          "output_type": "stream",
          "name": "stderr",
          "text": [
            "/usr/local/lib/python3.7/dist-packages/ipykernel_launcher.py:1: RuntimeWarning: invalid value encountered in true_divide\n",
            "  \"\"\"Entry point for launching an IPython kernel.\n",
            "/usr/local/lib/python3.7/dist-packages/ipykernel_launcher.py:2: RuntimeWarning: divide by zero encountered in floor_divide\n",
            "  \n"
          ]
        }
      ],
      "source": [
        "print(np.array(0) / np.array(0))\n",
        "print(np.array(0) // np.array(0))\n",
        "print(np.array([np.nan]).astype(int).astype(float))"
      ]
    },
    {
      "cell_type": "markdown",
      "metadata": {
        "id": "_aMdsN1LRiKP"
      },
      "source": [
        "#### 29. How to round away from zero a float array ? (★☆☆) \n",
        "(**hint**: np.uniform, np.copysign, np.ceil, np.abs)"
      ]
    },
    {
      "cell_type": "code",
      "execution_count": 30,
      "metadata": {
        "id": "Z4CNpmmGRiKP",
        "outputId": "8084d399-3278-4ea4-dff6-b0d143671f65",
        "colab": {
          "base_uri": "https://localhost:8080/"
        }
      },
      "outputs": [
        {
          "output_type": "stream",
          "name": "stdout",
          "text": [
            "[ 2.  8.  8. -8. -2.  3.  9.  4.  3. -3.]\n"
          ]
        }
      ],
      "source": [
        "round = np.random.uniform(-10, +10, 10)\n",
        "Rounds = np.copysign(np.ceil(np.abs(round)), round)\n",
        "\n",
        "print(Rounds)"
      ]
    },
    {
      "cell_type": "markdown",
      "metadata": {
        "id": "Zj1NKPK4RiKP"
      },
      "source": [
        "#### 30. How to find common values between two arrays? (★☆☆) \n",
        "(**hint**: np.intersect1d)"
      ]
    },
    {
      "cell_type": "code",
      "execution_count": 31,
      "metadata": {
        "id": "EtdLgnRPRiKP",
        "outputId": "8bfbe916-5ee1-4405-ff97-029d9bc9c80b",
        "colab": {
          "base_uri": "https://localhost:8080/"
        }
      },
      "outputs": [
        {
          "output_type": "stream",
          "name": "stdout",
          "text": [
            "[15 16 17 18 19]\n"
          ]
        }
      ],
      "source": [
        "A1 = np.arange(0, 20)\n",
        "A2 = np.arange(15, 30)\n",
        "CA = np.intersect1d(A1,A2)\n",
        "\n",
        "print(CA)"
      ]
    },
    {
      "cell_type": "markdown",
      "metadata": {
        "id": "MX4aGFl_RiKP"
      },
      "source": [
        "#### 31. How to ignore all numpy warnings (not recommended)? (★☆☆) \n",
        "(**hint**: np.seterr, np.errstate)"
      ]
    },
    {
      "cell_type": "code",
      "execution_count": 32,
      "metadata": {
        "id": "1GlRnoZ3RiKP",
        "outputId": "5f5c7782-b6a5-4d3f-f5bc-57577a3f9a1e",
        "colab": {
          "base_uri": "https://localhost:8080/"
        }
      },
      "outputs": [
        {
          "output_type": "stream",
          "name": "stdout",
          "text": [
            "[inf]\n"
          ]
        }
      ],
      "source": [
        "defaults = np.seterr(all=\"ignore\")\n",
        "Zd = np.ones(1) / 0\n",
        "print(Zd)\n",
        "\n",
        "# Back to Normal\n",
        "_ = np.seterr(**defaults)"
      ]
    },
    {
      "cell_type": "markdown",
      "metadata": {
        "id": "4Dd7t6yrRiKP"
      },
      "source": [
        "#### 32. Is the following expressions true? (★☆☆) \n",
        "(**hint**: imaginary number)"
      ]
    },
    {
      "cell_type": "markdown",
      "metadata": {
        "id": "GfchxCIpRiKP"
      },
      "source": [
        "```python\n",
        "np.sqrt(-1) == np.emath.sqrt(-1)\n",
        "```"
      ]
    },
    {
      "cell_type": "code",
      "execution_count": 33,
      "metadata": {
        "id": "lAapMEmeRiKQ",
        "outputId": "02fcbb6d-4d4d-4763-9167-de7ebaa70482",
        "colab": {
          "base_uri": "https://localhost:8080/"
        }
      },
      "outputs": [
        {
          "output_type": "stream",
          "name": "stdout",
          "text": [
            "False\n"
          ]
        },
        {
          "output_type": "stream",
          "name": "stderr",
          "text": [
            "/usr/local/lib/python3.7/dist-packages/ipykernel_launcher.py:1: RuntimeWarning: invalid value encountered in sqrt\n",
            "  \"\"\"Entry point for launching an IPython kernel.\n"
          ]
        }
      ],
      "source": [
        "print(np.sqrt(-1) == np.emath.sqrt(-1))\n",
        "#  No the expression is false"
      ]
    },
    {
      "cell_type": "markdown",
      "metadata": {
        "id": "4FZbLhD6RiKQ"
      },
      "source": [
        "#### 33. How to get the dates of yesterday, today and tomorrow? (★☆☆) \n",
        "(**hint**: np.datetime64, np.timedelta64)"
      ]
    },
    {
      "cell_type": "code",
      "execution_count": 34,
      "metadata": {
        "collapsed": true,
        "id": "HpuEYNGMRiKQ",
        "outputId": "18a32d5e-22dc-498f-8cb5-6c894698bd84",
        "colab": {
          "base_uri": "https://localhost:8080/"
        }
      },
      "outputs": [
        {
          "output_type": "stream",
          "name": "stdout",
          "text": [
            "Yesterday :  2022-09-16\n",
            "Today :  2022-09-17\n",
            "Tomorrow :  2022-09-18\n"
          ]
        }
      ],
      "source": [
        "yesterday = np.datetime64('today', 'D') - np.timedelta64(1, 'D')\n",
        "today     = np.datetime64('today', 'D')\n",
        "tomorrow  = np.datetime64('today', 'D') + np.timedelta64(1, 'D')\n",
        "\n",
        "print(\"Yesterday : \",yesterday)\n",
        "print(\"Today : \",today)\n",
        "print(\"Tomorrow : \",tomorrow)"
      ]
    },
    {
      "cell_type": "markdown",
      "metadata": {
        "id": "4nbGx7YgRiKQ"
      },
      "source": [
        "#### 34. How to get all the dates corresponding to the month of July 2016? (★★☆) \n",
        "(**hint**: np.arange(dtype=datetime64\\['D'\\]))"
      ]
    },
    {
      "cell_type": "code",
      "execution_count": 35,
      "metadata": {
        "id": "w4gzgiK-RiKQ",
        "outputId": "58577537-61f8-40f4-8c67-ca4618cde17a",
        "colab": {
          "base_uri": "https://localhost:8080/"
        }
      },
      "outputs": [
        {
          "output_type": "stream",
          "name": "stdout",
          "text": [
            "['2016-07-01' '2016-07-02' '2016-07-03' '2016-07-04' '2016-07-05'\n",
            " '2016-07-06' '2016-07-07' '2016-07-08' '2016-07-09' '2016-07-10'\n",
            " '2016-07-11' '2016-07-12' '2016-07-13' '2016-07-14' '2016-07-15'\n",
            " '2016-07-16' '2016-07-17' '2016-07-18' '2016-07-19' '2016-07-20'\n",
            " '2016-07-21' '2016-07-22' '2016-07-23' '2016-07-24' '2016-07-25'\n",
            " '2016-07-26' '2016-07-27' '2016-07-28' '2016-07-29' '2016-07-30'\n",
            " '2016-07-31']\n"
          ]
        }
      ],
      "source": [
        "mon = np.arange('2016-07', '2016-08', dtype='datetime64[D]')\n",
        "\n",
        "print(mon)"
      ]
    },
    {
      "cell_type": "markdown",
      "metadata": {
        "id": "i5flCGOORiKQ"
      },
      "source": [
        "#### 35. How to compute ((A+B)\\*(-A/2)) in place (without copy)? (★★☆) \n",
        "(**hint**: np.add(out=), np.negative(out=), np.multiply(out=), np.divide(out=))"
      ]
    },
    {
      "cell_type": "code",
      "execution_count": 36,
      "metadata": {
        "id": "P4MQTJuERiKQ",
        "outputId": "709e36d8-e80c-4bfb-badf-9ccdcec32b02",
        "colab": {
          "base_uri": "https://localhost:8080/"
        }
      },
      "outputs": [
        {
          "output_type": "stream",
          "name": "stdout",
          "text": [
            "Addision :  [3. 3. 3.] \n",
            "\n",
            "Division : [0.5 0.5 0.5] \n",
            "\n",
            "Negative :  [-0.5 -0.5 -0.5] \n",
            "\n",
            "Multiplication :  [-1.5 -1.5 -1.5]\n"
          ]
        }
      ],
      "source": [
        "A = np.ones(3) * 1\n",
        "B = np.ones(3) * 2\n",
        "C = np.ones(3) * 3\n",
        "\n",
        "print(\"Addision : \",np.add(A, B, out=B),\"\\n\")\n",
        "print(\"Division :\",np.divide(A, 2, out=A),\"\\n\")\n",
        "print(\"Negative : \",np.negative(A, out=A),\"\\n\")\n",
        "print(\"Multiplication : \",np.multiply(A, B, out=A))"
      ]
    },
    {
      "cell_type": "markdown",
      "metadata": {
        "id": "o2PLwTfYRiKQ"
      },
      "source": [
        "#### 36. Extract the integer part of a random array using 5 different methods (★★☆) \n",
        "(**hint**: %, np.floor, np.ceil, astype, np.trunc)"
      ]
    },
    {
      "cell_type": "code",
      "execution_count": 37,
      "metadata": {
        "id": "YzwbditgRiKQ",
        "outputId": "49cbcfa3-6fc9-49d4-8461-e2ab3581d00b",
        "colab": {
          "base_uri": "https://localhost:8080/"
        }
      },
      "outputs": [
        {
          "output_type": "stream",
          "name": "stdout",
          "text": [
            "[5. 9. 7. 1. 7. 1. 1. 2. 8. 2.]\n",
            "[5. 9. 7. 1. 7. 1. 1. 2. 8. 2.]\n",
            "[5. 9. 7. 1. 7. 1. 1. 2. 8. 2.]\n",
            "[5 9 7 1 7 1 1 2 8 2]\n",
            "[5. 9. 7. 1. 7. 1. 1. 2. 8. 2.]\n"
          ]
        }
      ],
      "source": [
        "Z = np.random.uniform(0,10,10)\n",
        "\n",
        "print (Z - Z%1)\n",
        "print (np.floor(Z))\n",
        "print (np.ceil(Z)-1)\n",
        "print (Z.astype(int))\n",
        "print(np.trunc(Z))"
      ]
    },
    {
      "cell_type": "markdown",
      "metadata": {
        "id": "HIwRetdkRiKQ"
      },
      "source": [
        "#### 37. Create a 5x5 matrix with row values ranging from 0 to 4 (★★☆) \n",
        "(**hint**: np.arange)"
      ]
    },
    {
      "cell_type": "code",
      "execution_count": 38,
      "metadata": {
        "id": "XhcTd17ERiKR",
        "outputId": "cbe3c02c-8a2b-4272-d6a5-fddb6e775a5c",
        "colab": {
          "base_uri": "https://localhost:8080/"
        }
      },
      "outputs": [
        {
          "output_type": "stream",
          "name": "stdout",
          "text": [
            "[[0. 1. 2. 3. 4.]\n",
            " [0. 1. 2. 3. 4.]\n",
            " [0. 1. 2. 3. 4.]\n",
            " [0. 1. 2. 3. 4.]\n",
            " [0. 1. 2. 3. 4.]]\n"
          ]
        }
      ],
      "source": [
        "Z = np.zeros((5,5))\n",
        "Z += np.arange(5)\n",
        "\n",
        "print(Z)"
      ]
    },
    {
      "cell_type": "markdown",
      "metadata": {
        "id": "Y3lS_eVjRiKR"
      },
      "source": [
        "#### 38. Consider a generator function that generates 10 integers and use it to build an array (★☆☆) \n",
        "(**hint**: np.fromiter)"
      ]
    },
    {
      "cell_type": "code",
      "execution_count": 39,
      "metadata": {
        "id": "BlN5knlmRiKR",
        "outputId": "91904776-6230-4079-b13f-10ec3a26869b",
        "colab": {
          "base_uri": "https://localhost:8080/"
        }
      },
      "outputs": [
        {
          "output_type": "stream",
          "name": "stdout",
          "text": [
            "[0. 1. 2. 3. 4. 5. 6. 7. 8. 9.]\n"
          ]
        }
      ],
      "source": [
        "def generate(): \n",
        "    for x in range(10):\n",
        "        yield x\n",
        "        \n",
        "Z = np.fromiter(generate(), dtype=float, count=-1)\n",
        "\n",
        "print (Z)"
      ]
    },
    {
      "cell_type": "markdown",
      "metadata": {
        "id": "j-IXcNu2RiKR"
      },
      "source": [
        "#### 39. Create a vector of size 10 with values ranging from 0 to 1, both excluded (★★☆) \n",
        "(**hint**: np.linspace)"
      ]
    },
    {
      "cell_type": "code",
      "execution_count": 40,
      "metadata": {
        "id": "x3lyaiKjRiKR",
        "outputId": "0d84bd6f-a14b-456c-c9e6-bc1b515b1167",
        "colab": {
          "base_uri": "https://localhost:8080/"
        }
      },
      "outputs": [
        {
          "output_type": "stream",
          "name": "stdout",
          "text": [
            "[0.11111111 0.22222222 0.33333333 0.44444444 0.55555556 0.66666667\n",
            " 0.77777778 0.88888889]\n"
          ]
        }
      ],
      "source": [
        "za = np.linspace(0,1,10,endpoint=True)[1:-1]\n",
        "\n",
        "print(za)"
      ]
    },
    {
      "cell_type": "markdown",
      "metadata": {
        "id": "CV1l65PTRiKR"
      },
      "source": [
        "#### 40. Create a random vector of size 10 and sort it (★★☆) \n",
        "(**hint**: sort)"
      ]
    },
    {
      "cell_type": "code",
      "execution_count": 41,
      "metadata": {
        "id": "aRT3JYbbRiKR",
        "outputId": "23eb4b3c-c79a-443a-e404-c784011269d2",
        "colab": {
          "base_uri": "https://localhost:8080/"
        }
      },
      "outputs": [
        {
          "output_type": "stream",
          "name": "stdout",
          "text": [
            "[0.00476576 0.17136534 0.27644729 0.36496544 0.39322456 0.59975753\n",
            " 0.69375116 0.79567649 0.79901983 0.95201459]\n"
          ]
        }
      ],
      "source": [
        "so = np.random.random(10)\n",
        "so.sort()\n",
        "\n",
        "print(so)"
      ]
    },
    {
      "cell_type": "markdown",
      "metadata": {
        "id": "5eCWctC7RiKR"
      },
      "source": [
        "#### 41. How to sum a small array faster than np.sum? (★★☆) \n",
        "(**hint**: np.add.reduce)"
      ]
    },
    {
      "cell_type": "code",
      "execution_count": 42,
      "metadata": {
        "id": "3-N-V8FZRiKR",
        "outputId": "c1c79402-9d63-4229-fbd5-fc695843fa02",
        "colab": {
          "base_uri": "https://localhost:8080/"
        }
      },
      "outputs": [
        {
          "output_type": "execute_result",
          "data": {
            "text/plain": [
              "300"
            ]
          },
          "metadata": {},
          "execution_count": 42
        }
      ],
      "source": [
        "Z = np.arange(25)\n",
        "np.add.reduce(Z)\n"
      ]
    },
    {
      "cell_type": "markdown",
      "metadata": {
        "id": "UKhLos8CRiKR"
      },
      "source": [
        "#### 42. Consider two random array A and B, check if they are equal (★★☆) \n",
        "(**hint**: np.allclose, np.array\\_equal)"
      ]
    },
    {
      "cell_type": "code",
      "execution_count": 43,
      "metadata": {
        "id": "nd3xb7IjRiKS",
        "outputId": "2b65c70d-fd38-4936-aa22-ca604a06d8b7",
        "colab": {
          "base_uri": "https://localhost:8080/"
        }
      },
      "outputs": [
        {
          "output_type": "stream",
          "name": "stdout",
          "text": [
            "False\n",
            "False\n"
          ]
        }
      ],
      "source": [
        "A = np.random.randint(0,5,10)\n",
        "B = np.random.randint(0,20,10)\n",
        "close = np.allclose(A,B)\n",
        "equal = np.array_equal(A,B)\n",
        "\n",
        "print(equal)\n",
        "print(close)"
      ]
    },
    {
      "cell_type": "markdown",
      "metadata": {
        "id": "jgh9vQ2aRiKS"
      },
      "source": [
        "#### 43. Make an array immutable (read-only) (★★☆) \n",
        "(**hint**: flags.writeable)"
      ]
    },
    {
      "cell_type": "code",
      "execution_count": 44,
      "metadata": {
        "id": "iFm6QsvZRiKS",
        "outputId": "fd0abf40-b5d9-40a2-ca59-87daa4e3086a",
        "colab": {
          "base_uri": "https://localhost:8080/",
          "height": 200
        }
      },
      "outputs": [
        {
          "output_type": "error",
          "ename": "ValueError",
          "evalue": "ignored",
          "traceback": [
            "\u001b[0;31m---------------------------------------------------------------------------\u001b[0m",
            "\u001b[0;31mValueError\u001b[0m                                Traceback (most recent call last)",
            "\u001b[0;32m<ipython-input-44-8671806f3db5>\u001b[0m in \u001b[0;36m<module>\u001b[0;34m\u001b[0m\n\u001b[1;32m      1\u001b[0m \u001b[0mimm\u001b[0m \u001b[0;34m=\u001b[0m \u001b[0mnp\u001b[0m\u001b[0;34m.\u001b[0m\u001b[0mzeros\u001b[0m\u001b[0;34m(\u001b[0m\u001b[0;36m10\u001b[0m\u001b[0;34m)\u001b[0m\u001b[0;34m\u001b[0m\u001b[0;34m\u001b[0m\u001b[0m\n\u001b[1;32m      2\u001b[0m \u001b[0mimm\u001b[0m\u001b[0;34m.\u001b[0m\u001b[0mflags\u001b[0m\u001b[0;34m.\u001b[0m\u001b[0mwriteable\u001b[0m \u001b[0;34m=\u001b[0m \u001b[0;32mFalse\u001b[0m\u001b[0;34m\u001b[0m\u001b[0;34m\u001b[0m\u001b[0m\n\u001b[0;32m----> 3\u001b[0;31m \u001b[0mimm\u001b[0m\u001b[0;34m[\u001b[0m\u001b[0;36m0\u001b[0m\u001b[0;34m]\u001b[0m \u001b[0;34m=\u001b[0m \u001b[0;36m1\u001b[0m \u001b[0;31m# Proof\u001b[0m\u001b[0;34m\u001b[0m\u001b[0;34m\u001b[0m\u001b[0m\n\u001b[0m",
            "\u001b[0;31mValueError\u001b[0m: assignment destination is read-only"
          ]
        }
      ],
      "source": [
        "imm = np.zeros(10)\n",
        "imm.flags.writeable = False\n",
        "imm[0] = 1 # Proof"
      ]
    },
    {
      "cell_type": "markdown",
      "metadata": {
        "id": "_ENzplBmRiKS"
      },
      "source": [
        "#### 44. Consider a random 10x2 matrix representing cartesian coordinates, convert them to polar coordinates (★★☆) \n",
        "(**hint**: np.sqrt, np.arctan2)"
      ]
    },
    {
      "cell_type": "code",
      "execution_count": 45,
      "metadata": {
        "id": "rwuw-t1lRiKS",
        "outputId": "6661793c-8237-437d-ca9e-2797b8a1b06d",
        "colab": {
          "base_uri": "https://localhost:8080/"
        }
      },
      "outputs": [
        {
          "output_type": "stream",
          "name": "stdout",
          "text": [
            "[0.24582244 0.96581596 0.98055399 0.75494881 1.21519946 0.55987162\n",
            " 0.69073351 0.89222498 0.67331144 0.77484603] \n",
            "\n",
            "[1.53201664 0.91670706 0.75688298 0.32799955 0.71518468 0.40190691\n",
            " 0.37918857 0.872509   0.63453767 0.7048239 ]\n"
          ]
        }
      ],
      "source": [
        "po = np.random.random((10,2))\n",
        "X,Y = po[:,0], po[:,1]\n",
        "\n",
        "R = np.sqrt(X**2+Y**2)\n",
        "T = np.arctan2(Y,X)\n",
        "\n",
        "print(R,\"\\n\")\n",
        "print(T)"
      ]
    },
    {
      "cell_type": "markdown",
      "metadata": {
        "id": "vUtDsIQdRiKS"
      },
      "source": [
        "#### 45. Create random vector of size 10 and replace the maximum value by 0 (★★☆) \n",
        "(**hint**: argmax)"
      ]
    },
    {
      "cell_type": "code",
      "execution_count": 46,
      "metadata": {
        "id": "8QYI1bkSRiKS",
        "outputId": "4d12c080-bc6a-4bc7-f82f-8e0c62fed0ba",
        "colab": {
          "base_uri": "https://localhost:8080/"
        }
      },
      "outputs": [
        {
          "output_type": "stream",
          "name": "stdout",
          "text": [
            "[0.31651849 0.03752033 0.13652242 0.30650907 0.77632455 0.66351943\n",
            " 0.25437374 0.08013289 0.         0.47981232]\n"
          ]
        }
      ],
      "source": [
        "ma = np.random.random(10)\n",
        "ma[ma.argmax()] = 0\n",
        "\n",
        "print(ma)"
      ]
    },
    {
      "cell_type": "markdown",
      "metadata": {
        "id": "c5TTKrd4RiKS"
      },
      "source": [
        "#### 46. Create a structured array with `x` and `y` coordinates covering the \\[0,1\\]x\\[0,1\\] area (★★☆) \n",
        "(**hint**: np.meshgrid)"
      ]
    },
    {
      "cell_type": "code",
      "execution_count": 47,
      "metadata": {
        "id": "uUUcBTdhRiKS",
        "outputId": "78e88cfd-fbac-475e-ffe4-660af99b4d00",
        "colab": {
          "base_uri": "https://localhost:8080/"
        }
      },
      "outputs": [
        {
          "output_type": "stream",
          "name": "stdout",
          "text": [
            "[[(0.        , 0.        ) (0.11111111, 0.        )\n",
            "  (0.22222222, 0.        ) (0.33333333, 0.        )\n",
            "  (0.44444444, 0.        ) (0.55555556, 0.        )\n",
            "  (0.66666667, 0.        ) (0.77777778, 0.        )\n",
            "  (0.88888889, 0.        ) (1.        , 0.        )]\n",
            " [(0.        , 0.11111111) (0.11111111, 0.11111111)\n",
            "  (0.22222222, 0.11111111) (0.33333333, 0.11111111)\n",
            "  (0.44444444, 0.11111111) (0.55555556, 0.11111111)\n",
            "  (0.66666667, 0.11111111) (0.77777778, 0.11111111)\n",
            "  (0.88888889, 0.11111111) (1.        , 0.11111111)]\n",
            " [(0.        , 0.22222222) (0.11111111, 0.22222222)\n",
            "  (0.22222222, 0.22222222) (0.33333333, 0.22222222)\n",
            "  (0.44444444, 0.22222222) (0.55555556, 0.22222222)\n",
            "  (0.66666667, 0.22222222) (0.77777778, 0.22222222)\n",
            "  (0.88888889, 0.22222222) (1.        , 0.22222222)]\n",
            " [(0.        , 0.33333333) (0.11111111, 0.33333333)\n",
            "  (0.22222222, 0.33333333) (0.33333333, 0.33333333)\n",
            "  (0.44444444, 0.33333333) (0.55555556, 0.33333333)\n",
            "  (0.66666667, 0.33333333) (0.77777778, 0.33333333)\n",
            "  (0.88888889, 0.33333333) (1.        , 0.33333333)]\n",
            " [(0.        , 0.44444444) (0.11111111, 0.44444444)\n",
            "  (0.22222222, 0.44444444) (0.33333333, 0.44444444)\n",
            "  (0.44444444, 0.44444444) (0.55555556, 0.44444444)\n",
            "  (0.66666667, 0.44444444) (0.77777778, 0.44444444)\n",
            "  (0.88888889, 0.44444444) (1.        , 0.44444444)]\n",
            " [(0.        , 0.55555556) (0.11111111, 0.55555556)\n",
            "  (0.22222222, 0.55555556) (0.33333333, 0.55555556)\n",
            "  (0.44444444, 0.55555556) (0.55555556, 0.55555556)\n",
            "  (0.66666667, 0.55555556) (0.77777778, 0.55555556)\n",
            "  (0.88888889, 0.55555556) (1.        , 0.55555556)]\n",
            " [(0.        , 0.66666667) (0.11111111, 0.66666667)\n",
            "  (0.22222222, 0.66666667) (0.33333333, 0.66666667)\n",
            "  (0.44444444, 0.66666667) (0.55555556, 0.66666667)\n",
            "  (0.66666667, 0.66666667) (0.77777778, 0.66666667)\n",
            "  (0.88888889, 0.66666667) (1.        , 0.66666667)]\n",
            " [(0.        , 0.77777778) (0.11111111, 0.77777778)\n",
            "  (0.22222222, 0.77777778) (0.33333333, 0.77777778)\n",
            "  (0.44444444, 0.77777778) (0.55555556, 0.77777778)\n",
            "  (0.66666667, 0.77777778) (0.77777778, 0.77777778)\n",
            "  (0.88888889, 0.77777778) (1.        , 0.77777778)]\n",
            " [(0.        , 0.88888889) (0.11111111, 0.88888889)\n",
            "  (0.22222222, 0.88888889) (0.33333333, 0.88888889)\n",
            "  (0.44444444, 0.88888889) (0.55555556, 0.88888889)\n",
            "  (0.66666667, 0.88888889) (0.77777778, 0.88888889)\n",
            "  (0.88888889, 0.88888889) (1.        , 0.88888889)]\n",
            " [(0.        , 1.        ) (0.11111111, 1.        )\n",
            "  (0.22222222, 1.        ) (0.33333333, 1.        )\n",
            "  (0.44444444, 1.        ) (0.55555556, 1.        )\n",
            "  (0.66666667, 1.        ) (0.77777778, 1.        )\n",
            "  (0.88888889, 1.        ) (1.        , 1.        )]]\n"
          ]
        }
      ],
      "source": [
        "z = np.zeros((10, 10), [('x', float), ('y', float)])\n",
        "z['x'], z['y'] = np.meshgrid(np.linspace(0, 1, 10), np.linspace(0, 1, 10))\n",
        "\n",
        "print(z)"
      ]
    },
    {
      "cell_type": "markdown",
      "metadata": {
        "id": "Cy380DKTRiKT"
      },
      "source": [
        "####  47. Given two arrays, X and Y, construct the Cauchy matrix C (Cij =1/(xi - yj)) \n",
        "(**hint**: np.subtract.outer)"
      ]
    },
    {
      "cell_type": "code",
      "execution_count": 48,
      "metadata": {
        "id": "KSZBYVRIRiKT",
        "outputId": "1723eb11-5fc4-4916-ca3d-e97427650c03",
        "colab": {
          "base_uri": "https://localhost:8080/"
        }
      },
      "outputs": [
        {
          "output_type": "stream",
          "name": "stdout",
          "text": [
            "[[-3.51176370e+08 -1.57009834e+08  8.82477316e+15 -3.86682823e+17\n",
            "   6.54145924e+14 -7.62774967e+12 -8.31246643e+13  2.24067277e+10\n",
            "  -1.28739695e+13 -3.16085029e+13]\n",
            " [ 8.67965560e+14 -1.35569612e+14 -5.45463672e+12 -1.30531911e+10\n",
            "   2.58873483e+16  1.11071947e+14  4.29236634e+15 -3.62178721e+13\n",
            "   3.96517459e+13 -2.10351446e+08]\n",
            " [-2.16971092e+13  3.37086212e+13  2.43099095e+14  1.50751841e+12\n",
            "  -7.17888686e+13  5.11554914e+12  8.51347052e+11  6.85313642e+16\n",
            "   8.41475265e+13  3.81213559e+14]\n",
            " [ 1.20790715e+13 -1.13037650e+14  7.75919914e+14  1.33265586e+13\n",
            "   2.48336119e+14 -1.09231810e+11  2.94109614e+13 -7.26879683e+15\n",
            "  -8.97517181e+14  3.13948365e+13]\n",
            " [-8.16353289e+08 -4.78882704e+14 -1.21774039e+09  4.05583842e+13\n",
            "   2.28424082e+13 -2.09050063e+13 -7.62302753e+08 -1.69803023e+15\n",
            "  -3.76753392e+14 -6.37735838e+14]\n",
            " [-2.65408700e+13 -4.51164247e+14  5.36249476e+15  2.47526310e+16\n",
            "  -1.45342055e+15 -2.34379352e+13  2.63166009e+13  1.40446233e+14\n",
            "   1.22013020e+12  3.21903213e+13]\n",
            " [-7.94314060e+12  1.06165792e+13 -7.62115939e+13  1.16247083e+15\n",
            "  -1.34663780e+13  1.09786222e+16  9.02256334e+13  1.87057075e+12\n",
            "   3.41362722e+13 -1.56212771e+13]\n",
            " [ 6.30569491e+13 -1.54063137e+14  3.21018254e+14  4.65296581e+13\n",
            "  -7.33908763e+13  9.10481388e+12  3.54965328e+14  4.91084991e+15\n",
            "  -1.62139537e+15  2.18754327e+13]\n",
            " [ 2.34372416e+13 -2.78616161e+15  9.91636028e+11 -3.09036031e+13\n",
            "   3.77938272e+09  1.93937137e+15  1.52992639e+13  6.35287407e+14\n",
            "   1.92974284e+13  1.63277196e+11]\n",
            " [ 6.14374300e+15  2.35222285e+17 -1.85571150e+15  7.44510335e+13\n",
            "   4.84940487e+12 -6.51320234e+14 -2.42155563e+13 -5.99583654e+15\n",
            "  -5.07888603e+15 -9.38977085e+11]]\n"
          ]
        }
      ],
      "source": [
        "x = np.random.random((10, 10))\n",
        "y = np.random.random((10, 10))\n",
        "\n",
        "c = 1 / (x - y)\n",
        "c = 1 / np.subtract.outer(x, y)\n",
        "\n",
        "print(np.linalg.det(c))"
      ]
    },
    {
      "cell_type": "markdown",
      "metadata": {
        "id": "k6yLEAksRiKT"
      },
      "source": [
        "#### 48. Print the minimum and maximum representable value for each numpy scalar type (★★☆) \n",
        "(**hint**: np.iinfo, np.finfo, eps)"
      ]
    },
    {
      "cell_type": "code",
      "execution_count": 49,
      "metadata": {
        "id": "_oNlYp4pRiKT",
        "outputId": "aee46fd7-2428-4aa2-c878-ed0af4ef6a36",
        "colab": {
          "base_uri": "https://localhost:8080/"
        }
      },
      "outputs": [
        {
          "output_type": "stream",
          "name": "stdout",
          "text": [
            "For Integer : \n",
            "-128\n",
            "127 \n",
            "\n",
            "-2147483648\n",
            "2147483647 \n",
            "\n",
            "-9223372036854775808\n",
            "9223372036854775807 \n",
            "\n",
            "For Float : \n",
            "-3.4028235e+38\n",
            "3.4028235e+38\n",
            "1.1920929e-07 \n",
            "\n",
            "-1.7976931348623157e+308\n",
            "1.7976931348623157e+308\n",
            "2.220446049250313e-16 \n",
            "\n"
          ]
        }
      ],
      "source": [
        "print(\"For Integer : \")\n",
        "for dtype in [np.int8, np.int32, np.int64]:\n",
        "    print(np.iinfo(dtype).min)\n",
        "    print(np.iinfo(dtype).max,\"\\n\")\n",
        "\n",
        "print(\"For Float : \")\n",
        "for dtype in [np.float32, np.float64]:\n",
        "    print(np.finfo(dtype).min)\n",
        "    print(np.finfo(dtype).max)\n",
        "    print(np.finfo(dtype).eps,\"\\n\")"
      ]
    },
    {
      "cell_type": "markdown",
      "metadata": {
        "id": "Is2CZTOjRiKT"
      },
      "source": [
        "#### 49. How to print all the values of an array? (★★☆) \n",
        "(**hint**: np.set\\_printoptions)"
      ]
    },
    {
      "cell_type": "code",
      "execution_count": 50,
      "metadata": {
        "id": "zdqa2ptWRiKT",
        "outputId": "b41826f0-9a77-4435-ba1e-1482134ad475",
        "colab": {
          "base_uri": "https://localhost:8080/"
        }
      },
      "outputs": [
        {
          "output_type": "stream",
          "name": "stdout",
          "text": [
            "[[1. 1. 1. 1. 1. 1. 1. 1. 1. 1. 1. 1. 1. 1. 1. 1. 1. 1. 1. 1. 1. 1. 1. 1. 1. 1. 1. 1. 1. 1. 1. 1. 1. 1. 1. 1. 1. 1. 1. 1. 1. 1. 1. 1. 1. 1. 1. 1. 1. 1.]\n",
            " [1. 1. 1. 1. 1. 1. 1. 1. 1. 1. 1. 1. 1. 1. 1. 1. 1. 1. 1. 1. 1. 1. 1. 1. 1. 1. 1. 1. 1. 1. 1. 1. 1. 1. 1. 1. 1. 1. 1. 1. 1. 1. 1. 1. 1. 1. 1. 1. 1. 1.]\n",
            " [1. 1. 1. 1. 1. 1. 1. 1. 1. 1. 1. 1. 1. 1. 1. 1. 1. 1. 1. 1. 1. 1. 1. 1. 1. 1. 1. 1. 1. 1. 1. 1. 1. 1. 1. 1. 1. 1. 1. 1. 1. 1. 1. 1. 1. 1. 1. 1. 1. 1.]\n",
            " [1. 1. 1. 1. 1. 1. 1. 1. 1. 1. 1. 1. 1. 1. 1. 1. 1. 1. 1. 1. 1. 1. 1. 1. 1. 1. 1. 1. 1. 1. 1. 1. 1. 1. 1. 1. 1. 1. 1. 1. 1. 1. 1. 1. 1. 1. 1. 1. 1. 1.]\n",
            " [1. 1. 1. 1. 1. 1. 1. 1. 1. 1. 1. 1. 1. 1. 1. 1. 1. 1. 1. 1. 1. 1. 1. 1. 1. 1. 1. 1. 1. 1. 1. 1. 1. 1. 1. 1. 1. 1. 1. 1. 1. 1. 1. 1. 1. 1. 1. 1. 1. 1.]\n",
            " [1. 1. 1. 1. 1. 1. 1. 1. 1. 1. 1. 1. 1. 1. 1. 1. 1. 1. 1. 1. 1. 1. 1. 1. 1. 1. 1. 1. 1. 1. 1. 1. 1. 1. 1. 1. 1. 1. 1. 1. 1. 1. 1. 1. 1. 1. 1. 1. 1. 1.]\n",
            " [1. 1. 1. 1. 1. 1. 1. 1. 1. 1. 1. 1. 1. 1. 1. 1. 1. 1. 1. 1. 1. 1. 1. 1. 1. 1. 1. 1. 1. 1. 1. 1. 1. 1. 1. 1. 1. 1. 1. 1. 1. 1. 1. 1. 1. 1. 1. 1. 1. 1.]\n",
            " [1. 1. 1. 1. 1. 1. 1. 1. 1. 1. 1. 1. 1. 1. 1. 1. 1. 1. 1. 1. 1. 1. 1. 1. 1. 1. 1. 1. 1. 1. 1. 1. 1. 1. 1. 1. 1. 1. 1. 1. 1. 1. 1. 1. 1. 1. 1. 1. 1. 1.]\n",
            " [1. 1. 1. 1. 1. 1. 1. 1. 1. 1. 1. 1. 1. 1. 1. 1. 1. 1. 1. 1. 1. 1. 1. 1. 1. 1. 1. 1. 1. 1. 1. 1. 1. 1. 1. 1. 1. 1. 1. 1. 1. 1. 1. 1. 1. 1. 1. 1. 1. 1.]\n",
            " [1. 1. 1. 1. 1. 1. 1. 1. 1. 1. 1. 1. 1. 1. 1. 1. 1. 1. 1. 1. 1. 1. 1. 1. 1. 1. 1. 1. 1. 1. 1. 1. 1. 1. 1. 1. 1. 1. 1. 1. 1. 1. 1. 1. 1. 1. 1. 1. 1. 1.]\n",
            " [1. 1. 1. 1. 1. 1. 1. 1. 1. 1. 1. 1. 1. 1. 1. 1. 1. 1. 1. 1. 1. 1. 1. 1. 1. 1. 1. 1. 1. 1. 1. 1. 1. 1. 1. 1. 1. 1. 1. 1. 1. 1. 1. 1. 1. 1. 1. 1. 1. 1.]\n",
            " [1. 1. 1. 1. 1. 1. 1. 1. 1. 1. 1. 1. 1. 1. 1. 1. 1. 1. 1. 1. 1. 1. 1. 1. 1. 1. 1. 1. 1. 1. 1. 1. 1. 1. 1. 1. 1. 1. 1. 1. 1. 1. 1. 1. 1. 1. 1. 1. 1. 1.]\n",
            " [1. 1. 1. 1. 1. 1. 1. 1. 1. 1. 1. 1. 1. 1. 1. 1. 1. 1. 1. 1. 1. 1. 1. 1. 1. 1. 1. 1. 1. 1. 1. 1. 1. 1. 1. 1. 1. 1. 1. 1. 1. 1. 1. 1. 1. 1. 1. 1. 1. 1.]\n",
            " [1. 1. 1. 1. 1. 1. 1. 1. 1. 1. 1. 1. 1. 1. 1. 1. 1. 1. 1. 1. 1. 1. 1. 1. 1. 1. 1. 1. 1. 1. 1. 1. 1. 1. 1. 1. 1. 1. 1. 1. 1. 1. 1. 1. 1. 1. 1. 1. 1. 1.]\n",
            " [1. 1. 1. 1. 1. 1. 1. 1. 1. 1. 1. 1. 1. 1. 1. 1. 1. 1. 1. 1. 1. 1. 1. 1. 1. 1. 1. 1. 1. 1. 1. 1. 1. 1. 1. 1. 1. 1. 1. 1. 1. 1. 1. 1. 1. 1. 1. 1. 1. 1.]\n",
            " [1. 1. 1. 1. 1. 1. 1. 1. 1. 1. 1. 1. 1. 1. 1. 1. 1. 1. 1. 1. 1. 1. 1. 1. 1. 1. 1. 1. 1. 1. 1. 1. 1. 1. 1. 1. 1. 1. 1. 1. 1. 1. 1. 1. 1. 1. 1. 1. 1. 1.]\n",
            " [1. 1. 1. 1. 1. 1. 1. 1. 1. 1. 1. 1. 1. 1. 1. 1. 1. 1. 1. 1. 1. 1. 1. 1. 1. 1. 1. 1. 1. 1. 1. 1. 1. 1. 1. 1. 1. 1. 1. 1. 1. 1. 1. 1. 1. 1. 1. 1. 1. 1.]\n",
            " [1. 1. 1. 1. 1. 1. 1. 1. 1. 1. 1. 1. 1. 1. 1. 1. 1. 1. 1. 1. 1. 1. 1. 1. 1. 1. 1. 1. 1. 1. 1. 1. 1. 1. 1. 1. 1. 1. 1. 1. 1. 1. 1. 1. 1. 1. 1. 1. 1. 1.]\n",
            " [1. 1. 1. 1. 1. 1. 1. 1. 1. 1. 1. 1. 1. 1. 1. 1. 1. 1. 1. 1. 1. 1. 1. 1. 1. 1. 1. 1. 1. 1. 1. 1. 1. 1. 1. 1. 1. 1. 1. 1. 1. 1. 1. 1. 1. 1. 1. 1. 1. 1.]\n",
            " [1. 1. 1. 1. 1. 1. 1. 1. 1. 1. 1. 1. 1. 1. 1. 1. 1. 1. 1. 1. 1. 1. 1. 1. 1. 1. 1. 1. 1. 1. 1. 1. 1. 1. 1. 1. 1. 1. 1. 1. 1. 1. 1. 1. 1. 1. 1. 1. 1. 1.]\n",
            " [1. 1. 1. 1. 1. 1. 1. 1. 1. 1. 1. 1. 1. 1. 1. 1. 1. 1. 1. 1. 1. 1. 1. 1. 1. 1. 1. 1. 1. 1. 1. 1. 1. 1. 1. 1. 1. 1. 1. 1. 1. 1. 1. 1. 1. 1. 1. 1. 1. 1.]\n",
            " [1. 1. 1. 1. 1. 1. 1. 1. 1. 1. 1. 1. 1. 1. 1. 1. 1. 1. 1. 1. 1. 1. 1. 1. 1. 1. 1. 1. 1. 1. 1. 1. 1. 1. 1. 1. 1. 1. 1. 1. 1. 1. 1. 1. 1. 1. 1. 1. 1. 1.]\n",
            " [1. 1. 1. 1. 1. 1. 1. 1. 1. 1. 1. 1. 1. 1. 1. 1. 1. 1. 1. 1. 1. 1. 1. 1. 1. 1. 1. 1. 1. 1. 1. 1. 1. 1. 1. 1. 1. 1. 1. 1. 1. 1. 1. 1. 1. 1. 1. 1. 1. 1.]\n",
            " [1. 1. 1. 1. 1. 1. 1. 1. 1. 1. 1. 1. 1. 1. 1. 1. 1. 1. 1. 1. 1. 1. 1. 1. 1. 1. 1. 1. 1. 1. 1. 1. 1. 1. 1. 1. 1. 1. 1. 1. 1. 1. 1. 1. 1. 1. 1. 1. 1. 1.]\n",
            " [1. 1. 1. 1. 1. 1. 1. 1. 1. 1. 1. 1. 1. 1. 1. 1. 1. 1. 1. 1. 1. 1. 1. 1. 1. 1. 1. 1. 1. 1. 1. 1. 1. 1. 1. 1. 1. 1. 1. 1. 1. 1. 1. 1. 1. 1. 1. 1. 1. 1.]]\n"
          ]
        }
      ],
      "source": [
        "np.set_printoptions(threshold=np.inf, linewidth=np.nan)\n",
        "Z = np.ones((25,50))\n",
        "\n",
        "print(Z)"
      ]
    },
    {
      "cell_type": "markdown",
      "metadata": {
        "id": "f50iD7WQRiKT"
      },
      "source": [
        "#### 50. How to find the closest value (to a given scalar) in a vector? (★★☆) \n",
        "(**hint**: argmin)"
      ]
    },
    {
      "cell_type": "code",
      "execution_count": 51,
      "metadata": {
        "id": "GkBGfXlHRiKT",
        "outputId": "cb6f998a-15e6-48ae-9bbd-0209a53eb2de",
        "colab": {
          "base_uri": "https://localhost:8080/"
        }
      },
      "outputs": [
        {
          "output_type": "stream",
          "name": "stdout",
          "text": [
            "9\n"
          ]
        }
      ],
      "source": [
        "Z = np.arange(10)\n",
        "v = np.random.uniform(0,100)\n",
        "index = (np.abs(Z-v)).argmin()\n",
        "\n",
        "print(Z[index])"
      ]
    },
    {
      "cell_type": "markdown",
      "metadata": {
        "id": "ss9pOMzjRiKT"
      },
      "source": [
        "#### 51. Create a structured array representing a position (x,y) and a color (r,g,b) (★★☆) \n",
        "(**hint**: dtype)"
      ]
    },
    {
      "cell_type": "code",
      "execution_count": 52,
      "metadata": {
        "id": "2q8mdP17RiKT",
        "outputId": "88e0594c-55d9-455c-e43a-f1e195a4eba9",
        "colab": {
          "base_uri": "https://localhost:8080/"
        }
      },
      "outputs": [
        {
          "output_type": "stream",
          "name": "stdout",
          "text": [
            "[((0., 0.), (0., 0., 0.)) ((0., 0.), (0., 0., 0.)) ((0., 0.), (0., 0., 0.)) ((0., 0.), (0., 0., 0.)) ((0., 0.), (0., 0., 0.)) ((0., 0.), (0., 0., 0.)) ((0., 0.), (0., 0., 0.)) ((0., 0.), (0., 0., 0.)) ((0., 0.), (0., 0., 0.)) ((0., 0.), (0., 0., 0.))]\n"
          ]
        },
        {
          "output_type": "stream",
          "name": "stderr",
          "text": [
            "/usr/local/lib/python3.7/dist-packages/ipykernel_launcher.py:1: FutureWarning: Passing (type, 1) or '1type' as a synonym of type is deprecated; in a future version of numpy, it will be understood as (type, (1,)) / '(1,)type'.\n",
            "  \"\"\"Entry point for launching an IPython kernel.\n"
          ]
        }
      ],
      "source": [
        "Z = np.zeros(10, [ ('position', [ ('x', float, 1), ('y', float, 1)]), ('color',    [ ('r', float, 1), ('g', float, 1), ('b', float, 1)])])\n",
        "\n",
        "print(Z)"
      ]
    },
    {
      "cell_type": "markdown",
      "metadata": {
        "id": "L4TqtvoDRiKU"
      },
      "source": [
        "#### 52. Consider a random vector with shape (100,2) representing coordinates, find point by point distances (★★☆) \n",
        "(**hint**: np.atleast\\_2d, T, np.sqrt)"
      ]
    },
    {
      "cell_type": "code",
      "execution_count": 53,
      "metadata": {
        "id": "7q9t-lKVRiKU",
        "outputId": "0aca5f8e-f860-4c94-942c-5b36024d77d9",
        "colab": {
          "base_uri": "https://localhost:8080/"
        }
      },
      "outputs": [
        {
          "output_type": "stream",
          "name": "stdout",
          "text": [
            "[[0.         0.32797746 0.56883884 0.72903692 0.62971008 0.1426954  0.3071702  0.46229661 0.33098329 0.20318106 0.20135883 0.72364848 0.37398192 0.43738012 0.33928674 0.2152409  0.58665894 0.654288   0.63109777 0.17979066 0.58901197 0.32490183 0.15447878 0.73222733 0.54353262 0.85253716 0.49615515 0.38404418 0.32092627 0.44513801 0.45803667 0.34212134 0.76055326 0.32290266 0.0573678  0.70399361 0.78147901 0.21710749 0.18859596 0.58720243 0.8428088  0.18108557 0.10786183 0.32211143 0.7325857  0.01953971 0.67760814 0.056824   0.18854511 0.3623062  0.47391738 0.38378984 0.31601357 0.70632132 0.53136362 0.83521359 0.47261492 0.60995695 0.15250459 0.56685682 0.43437313 0.22442608 0.36485009 0.04693143 0.56462282 0.52430743 0.59706145 0.66794922 0.51539417 0.49685901 0.76228575 0.52888438 0.40409707 0.2171191  0.67039798 0.23739215 0.08842363 0.41117194 0.51808518 0.75090943 0.19285675 0.56488763 0.49930189 0.25295669 0.44510006 0.66836477 0.74648474 0.456799   0.83855579 0.60277259 0.49689264 0.21512254 0.41973353 0.40742039 0.46169869 0.44594293 0.42445307 0.32630528 0.16067841 0.3533504 ]\n",
            " [0.32797746 0.         0.58376509 0.98654452 0.71032258 0.39969752 0.47869343 0.62878511 0.64073095 0.50014993 0.356761   0.74278433 0.41233042 0.18509654 0.66662278 0.40249978 0.86046492 0.6904766  0.90954404 0.15047471 0.7568662  0.59032816 0.36589882 1.04309026 0.28845395 0.91595721 0.7792608  0.31599216 0.64009339 0.67601762 0.52573447 0.6420846  0.86382596 0.52058935 0.37064581 0.92061413 1.06197565 0.44092206 0.51144398 0.64898967 0.88793454 0.47057078 0.28802969 0.48005379 0.73436139 0.31087398 0.67684472 0.29667062 0.40872279 0.316871   0.71849161 0.71046707 0.22596615 0.64800295 0.84376549 0.90949847 0.79297151 0.32158711 0.31717067 0.48962836 0.19299696 0.28374711 0.09002277 0.37458954 0.35571155 0.52763465 0.70190902 0.60862162 0.57988904 0.26964076 0.84445091 0.37477463 0.72907953 0.54497169 0.95288683 0.36018772 0.41569711 0.68013331 0.31001205 0.8527699  0.45975814 0.88902142 0.3000679  0.58077451 0.15291652 0.86880721 1.02942377 0.62271963 0.88135466 0.48098208 0.53943484 0.18713221 0.3168839  0.19081443 0.38592561 0.73781847 0.20917245 0.57063106 0.39464671 0.6390717 ]\n",
            " [0.56883884 0.58376509 0.         0.64797282 0.15881726 0.45736656 0.87482276 0.27126988 0.82482041 0.51152951 0.36863544 0.16236573 0.19802016 0.46599569 0.75141349 0.78134824 0.60063287 0.10748537 0.64641561 0.53415429 0.31829479 0.45714529 0.72037179 0.85986185 0.468422   0.33364171 0.57687742 0.26828515 0.79057063 0.40621652 0.12370663 0.55887381 0.30646854 0.33237155 0.54136723 0.51229841 0.76644513 0.3965471  0.59056151 0.09618835 0.30421693 0.73246686 0.64980133 0.28509114 0.16450314 0.57390071 0.10877807 0.51729709 0.40619877 0.26762927 0.45158133 0.72428277 0.35885483 0.17451874 0.71885477 0.3305206  0.72627424 0.55531137 0.70328094 0.16359963 0.45125602 0.36156326 0.51387485 0.58741606 0.38804511 0.05620491 0.18655606 0.15190697 0.09057597 0.41997516 0.27297192 0.29898311 0.71809141 0.66404627 0.68893504 0.3315568  0.58453101 0.49193371 0.38735144 0.29553946 0.45582738 0.8222578  0.37577983 0.68584233 0.52701632 0.44551709 0.74800491 0.2695529  0.29773888 0.23868201 0.07644324 0.66933554 0.27764932 0.42733795 0.21185956 0.5797127  0.41896357 0.41175983 0.72945764 0.51820334]\n",
            " [0.72903692 0.98654452 0.64797282 0.         0.52019314 0.60205118 0.94919225 0.40324795 0.70525403 0.52698442 0.63011167 0.6592747  0.64924784 0.97855378 0.57724024 0.88844342 0.1504667  0.61253024 0.12524981 0.85194372 0.3314162  0.40627754 0.8441639  0.2956043  1.03589378 0.60175273 0.24364707 0.77757301 0.65844797 0.31235722 0.5759458  0.40168398 0.47859733 0.46956056 0.67167121 0.15660632 0.12578236 0.54727067 0.57119595 0.56068646 0.64022208 0.75918533 0.83428993 0.52056518 0.69689987 0.747687   0.688549   0.72333809 0.58046992 0.75542418 0.26806935 0.49209696 0.81112834 0.8036858  0.318665   0.56965435 0.39437342 1.12754507 0.86794223 0.79856865 0.96628711 0.70927184 0.96758284 0.70166804 0.98509309 0.66850137 0.47170039 0.79353399 0.56586743 0.97749899 0.52967838 0.89836715 0.46211895 0.60621914 0.1203214  0.6320014  0.66109585 0.31794569 0.96342358 0.48023004 0.54242052 0.41577868 0.94517143 0.5920125  1.02454604 0.21641015 0.12237988 0.4079251  0.64386638 0.8757073  0.60722942 0.9398753  0.81601418 0.93273157 0.78421848 0.30035147 0.93668927 0.41741279 0.82845374 0.37835445]\n",
            " [0.62971008 0.71032258 0.15881726 0.52019314 0.         0.49781942 0.9349542  0.21333784 0.83368588 0.52087499 0.43209286 0.14787924 0.29937998 0.61278809 0.74068525 0.84467598 0.50148806 0.09234041 0.54151323 0.63621345 0.1925129  0.4309843  0.78414926 0.76254686 0.62448289 0.2228879  0.50031131 0.40420685 0.79376769 0.33891082 0.18694112 0.52619622 0.15488406 0.3319652  0.59034518 0.373229   0.64372054 0.42544148 0.60269862 0.06558571 0.21675533 0.7719024  0.72450908 0.3102295  0.18189118 0.63915897 0.16849371 0.58581048 0.44616775 0.39647443 0.37383463 0.69629294 0.48524745 0.28558485 0.64971517 0.20745374 0.6740216  0.71261553 0.77649474 0.3219221  0.59812469 0.45460579 0.64947956 0.63720411 0.546383   0.20563635 0.05492787 0.28108477 0.13050127 0.57393094 0.13665116 0.45685339 0.68350821 0.67477919 0.58014902 0.40159782 0.62325373 0.43602032 0.54352034 0.14372267 0.47655251 0.76073147 0.53080542 0.68936938 0.67245851 0.30708164 0.63014478 0.21537784 0.21378362 0.39551817 0.1725077  0.76758321 0.4227396  0.57136398 0.36221219 0.51789454 0.56538371 0.38996275 0.78743931 0.48105934]\n",
            " [0.1426954  0.39969752 0.45736656 0.60205118 0.49781942 0.         0.43860258 0.32063368 0.37636511 0.10593052 0.10307537 0.60358741 0.27646766 0.45325749 0.33265091 0.35094654 0.46658753 0.53219237 0.51415244 0.25464807 0.44643617 0.1963286  0.29208087 0.64509215 0.54644406 0.71951457 0.38147409 0.33109997 0.34899974 0.3065061  0.33828702 0.24349687 0.62230898 0.18072642 0.09383954 0.5652406  0.66658188 0.07526963 0.15423579 0.46119738 0.71356246 0.27691049 0.24943943 0.18759766 0.6170119  0.15775055 0.56500679 0.12203248 0.05219256 0.30506756 0.33945411 0.3438392  0.29611426 0.61100598 0.44777252 0.7005036  0.40559363 0.62635836 0.29514115 0.48856264 0.44583468 0.17593505 0.40595814 0.14004769 0.54273549 0.42016184 0.46129732 0.575161   0.39237652 0.49179956 0.62728176 0.48667368 0.35420958 0.2213607  0.55630487 0.1400595  0.12775942 0.28632581 0.50130176 0.61297429 0.06081299 0.50659846 0.48107305 0.25107476 0.47932809 0.52715522 0.63302872 0.31526279 0.70988315 0.53892016 0.38190345 0.33964329 0.37364945 0.4135491  0.39609967 0.33824483 0.42629859 0.18866632 0.29157176 0.23972587]\n",
            " [0.3071702  0.47869343 0.87482276 0.94919225 0.9349542  0.43860258 0.         0.75602459 0.29649203 0.45076653 0.50849719 1.03070298 0.67825166 0.64964023 0.40413111 0.0940945  0.79884115 0.96145772 0.83310438 0.39150934 0.87613701 0.57926376 0.15460437 0.8623118  0.75929649 1.15737637 0.70557599 0.66754439 0.32992329 0.71071243 0.76520673 0.5494219  1.060543   0.61632516 0.34505826 0.96054957 0.96921115 0.51320409 0.3848298  0.89407346 1.14921856 0.19059539 0.23277812 0.6252642  1.03898025 0.30094462 0.98346959 0.35754751 0.48935939 0.64992433 0.72672786 0.488148   0.5833365  1.00518709 0.67802374 1.1389185  0.59979688 0.80026424 0.18151026 0.85830116 0.65269488 0.5202966  0.55610561 0.29855532 0.80799138 0.82861854 0.89982048 0.96591845 0.82249892 0.72727466 1.06573577 0.79468961 0.5188164  0.34309227 0.86325863 0.54406922 0.32021373 0.64898003 0.75965235 1.0513337  0.47214068 0.65820515 0.74408595 0.36067822 0.63033946 0.93673154 0.93288748 0.75098554 1.14511463 0.88312061 0.80371562 0.29162452 0.69595025 0.63615631 0.74880302 0.64884647 0.6556436  0.59683541 0.14751875 0.58044039]\n",
            " [0.46229661 0.62878511 0.27126988 0.40324795 0.21333784 0.32063368 0.75602459 0.         0.62567277 0.31895938 0.2883838  0.35372734 0.24913606 0.58701431 0.5283355  0.67075806 0.33264052 0.28465078 0.38043358 0.51874016 0.13110771 0.21832233 0.61253592 0.58950401 0.63545627 0.41787288 0.30598889 0.37873911 0.58426131 0.13570084 0.17548361 0.31292438 0.30744091 0.14010004 0.4139856  0.29933645 0.51182508 0.24545076 0.39957593 0.21099966 0.42381965 0.58073143 0.5664698  0.15256303 0.38155616 0.4756474  0.34807261 0.42950283 0.27418213 0.35862023 0.18032361 0.48304142 0.42595383 0.44404712 0.45042047 0.39431448 0.46591019 0.7273992  0.61459352 0.40327543 0.5738181  0.34584236 0.59144932 0.45895443 0.5818915  0.27642087 0.16267586 0.42315108 0.18094253 0.57761393 0.32209943 0.49520048 0.47082888 0.4694374  0.42447322 0.27239524 0.43649368 0.22742496 0.56126251 0.29909392 0.2845636  0.55736113 0.54342771 0.48098988 0.63812994 0.24186628 0.48913948 0.00608958 0.42212768 0.47916821 0.21332869 0.63634706 0.41504186 0.54125704 0.38097131 0.31318181 0.54271734 0.17918476 0.61042436 0.26796736]\n",
            " [0.33098329 0.64073095 0.82482041 0.70525403 0.83368588 0.37636511 0.29649203 0.62567277 0.         0.31538304 0.47814107 0.95876304 0.65247419 0.7678373  0.12810457 0.28977958 0.55755012 0.88627547 0.58177911 0.50308943 0.72020565 0.41095586 0.29115832 0.57435919 0.87449701 1.04335808 0.47049807 0.69823984 0.04718628 0.5349551  0.70187435 0.33809434 0.92785422 0.50382951 0.31818226 0.75173257 0.70245357 0.42858281 0.23456357 0.81141229 1.048544   0.17220783 0.35483964 0.54089967 0.97753255 0.34253847 0.92947508 0.38312692 0.42332519 0.6736651  0.53245792 0.21479871 0.64216803 0.98517572 0.40438515 1.01895448 0.32327577 0.9392885  0.34098448 0.86468977 0.76519367 0.53565121 0.69110493 0.28728832 0.89307378 0.79264097 0.78699163 0.95022921 0.74995662 0.82753916 0.94741596 0.85025562 0.24588813 0.16099213 0.60405175 0.51602801 0.26366445 0.44832458 0.8473197  0.92065892 0.36899321 0.36631206 0.82813449 0.14468296 0.7717611  0.74477123 0.66668948 0.62231946 1.04638974 0.91239065 0.74838509 0.47725291 0.73804609 0.73839836 0.76909171 0.41532747 0.75534604 0.4465982  0.26086194 0.38122736]\n",
            " [0.20318106 0.50014993 0.51152951 0.52698442 0.52087499 0.10593052 0.45076653 0.31895938 0.31538304 0.         0.19781292 0.6434173  0.35196898 0.55905044 0.2446603  0.37488678 0.38351357 0.57093092 0.42801467 0.35172655 0.42944946 0.12976084 0.32369075 0.54294392 0.6510162  0.7353995  0.29312445 0.42657915 0.27921838 0.26010634 0.38799897 0.14290771 0.62610452 0.18923216 0.14607776 0.51389235 0.57882561 0.12108743 0.0818463  0.49620156 0.7370435  0.26617546 0.30731855 0.22653713 0.66226761 0.22230119 0.6148604  0.20823961 0.12927591 0.39994468 0.27992535 0.24217725 0.39999122 0.67622044 0.3439631  0.71281483 0.29967418 0.73186055 0.34229256 0.56815384 0.55145651 0.27874228 0.51107408 0.1750576  0.64322001 0.48292307 0.47648463 0.64306769 0.43475482 0.59568342 0.64014689 0.58230436 0.25003681 0.1547082  0.46775592 0.2292925  0.13695453 0.21009566 0.60321252 0.61794749 0.06175963 0.40073303 0.58289159 0.17431837 0.58508453 0.48643041 0.54408351 0.31483186 0.73445621 0.62512294 0.43516599 0.41731252 0.47019503 0.51897195 0.4846947  0.24415717 0.53133371 0.14726101 0.31311039 0.15016968]\n",
            " [0.20135883 0.356761   0.36863544 0.63011167 0.43209286 0.10307537 0.50849719 0.2883838  0.47814107 0.19781292 0.         0.52230326 0.17828771 0.37282485 0.43468648 0.41606971 0.50831991 0.45299167 0.55838445 0.2320104  0.41948147 0.24375336 0.35505027 0.71353377 0.4576391  0.65481903 0.4330522  0.22958284 0.45186186 0.31927552 0.25676184 0.31804351 0.56971163 0.16506423 0.17383341 0.56768221 0.70991886 0.09280252 0.25675067 0.38675886 0.64290777 0.36581392 0.2924186  0.13632229 0.53175654 0.20854172 0.47736727 0.15389479 0.06964719 0.20319574 0.36206542 0.43997473 0.20680468 0.5140588  0.52270745 0.6390512  0.49058054 0.54182011 0.34451013 0.38662233 0.36351751 0.0866338  0.34195472 0.21915539 0.44552923 0.32655068 0.40373082 0.47716387 0.31443112 0.40098582 0.56675678 0.38543944 0.44722241 0.32440753 0.60279287 0.03857123 0.22122371 0.33042099 0.40617895 0.55956765 0.13780676 0.59319082 0.38582931 0.35403311 0.4076161  0.51992815 0.67861126 0.28237656 0.63843212 0.43586465 0.29577306 0.34850207 0.27282492 0.32995332 0.29302843 0.399126   0.34022344 0.21699825 0.36190034 0.30166439]\n",
            " [0.72364848 0.74278433 0.16236573 0.6592747  0.14787924 0.60358741 1.03070298 0.35372734 0.95876304 0.6434173  0.52230326 0.         0.35856763 0.61318075 0.87356998 0.93787098 0.64881052 0.07248759 0.68792468 0.69648013 0.33808244 0.56671907 0.87680648 0.90949626 0.59834433 0.1891577  0.64774383 0.4268268  0.92121195 0.48422583 0.26623026 0.66509208 0.21698062 0.45543098 0.69186771 0.50718491 0.7842273  0.53663966 0.72476027 0.14781352 0.14916754 0.88048748 0.80875553 0.42044455 0.03883631 0.73006399 0.07171713 0.6740238  0.55147345 0.42844521 0.52091484 0.83490347 0.51936878 0.17636394 0.79681103 0.19655139 0.81866822 0.6784962  0.86207946 0.28062347 0.59858884 0.5225541  0.66941104 0.7385746  0.50865456 0.21695331 0.2027051  0.1908747  0.21133077 0.55676907 0.16557564 0.4264745  0.82399393 0.79808015 0.72562956 0.48675345 0.7313132  0.58008064 0.5189593  0.20881792 0.59291056 0.90714935 0.51111135 0.81606805 0.67482723 0.44323644 0.7727187  0.35474151 0.14170983 0.33799165 0.22736454 0.83161064 0.43043041 0.57792347 0.36168431 0.66359199 0.5673368  0.5234976  0.88419094 0.62085438]\n",
            " [0.37398192 0.41233042 0.19802016 0.64924784 0.29937998 0.27646766 0.67825166 0.24913606 0.65247419 0.35196898 0.17828771 0.35856763 0.         0.34055179 0.59653146 0.5844848  0.55906297 0.29457953 0.60952587 0.34099718 0.362529   0.34060809 0.5236561  0.79906366 0.38685127 0.51309945 0.50638305 0.1296454  0.62315516 0.34960691 0.11342627 0.43734138 0.45178015 0.21300625 0.35186209 0.54719818 0.75120478 0.23088198 0.42353946 0.24093937 0.49219683 0.54383784 0.45188853 0.15107258 0.36246556 0.37776059 0.3059157  0.32089624 0.22964366 0.11088742 0.39953914 0.58662228 0.19032283 0.33578158 0.62751692 0.50305685 0.61436678 0.47868545 0.50539204 0.21621762 0.32687893 0.163991   0.35811187 0.39648722 0.33988947 0.15044694 0.28985871 0.29911273 0.16910454 0.32872461 0.43515446 0.25881892 0.58742189 0.49491222 0.65493895 0.1397804  0.39930567 0.40553071 0.31461499 0.44076728 0.29096772 0.71631183 0.29606243 0.52151352 0.39469169 0.48673291 0.72522509 0.24380317 0.48661521 0.27684723 0.13419724 0.47510737 0.16676925 0.29529506 0.14610037 0.49014993 0.29510647 0.29807485 0.53401361 0.40600684]\n",
            " [0.43738012 0.18509654 0.46599569 0.97855378 0.61278809 0.45325749 0.64964023 0.58701431 0.7678373  0.55905044 0.37282485 0.61318075 0.34055179 0.         0.76755892 0.56590545 0.87140867 0.5725762  0.92220052 0.26996144 0.70301882 0.61522636 0.51998706 1.08623847 0.11026262 0.79721894 0.8025501  0.21360778 0.757893   0.66843511 0.44419145 0.68972835 0.76715395 0.51335876 0.46200414 0.88628623 1.07087799 0.46560551 0.59508439 0.54761726 0.76214234 0.60708667 0.43551897 0.45840277 0.59766021 0.42530443 0.54290169 0.38897655 0.4401754  0.22966456 0.71636174 0.79389106 0.16941878 0.49210602 0.8949771  0.79615035 0.85834108 0.17445042 0.47594621 0.33909367 0.01474081 0.28619911 0.09632213 0.48275058 0.1710623  0.41140867 0.61780452 0.45486261 0.4881754  0.08487767 0.73827793 0.20441706 0.80654481 0.64548668 0.96741764 0.35680354 0.51526828 0.69884639 0.12699967 0.75600902 0.50497561 0.95977859 0.12054796 0.68057777 0.06166482 0.82688912 1.04165441 0.5813784  0.75482454 0.31284382 0.44199228 0.36145453 0.190062   0.04589189 0.25421008 0.77144735 0.04740515 0.58383958 0.54562238 0.67444401]\n",
            " [0.33928674 0.66662278 0.75141349 0.57724024 0.74068525 0.33265091 0.40413111 0.5283355  0.12810457 0.2446603  0.43468648 0.87356998 0.59653146 0.76755892 0.         0.37458638 0.42997494 0.80152016 0.45367467 0.51905393 0.61108815 0.310014   0.35675666 0.45819237 0.86854763 0.94227528 0.34429551 0.66372408 0.08182937 0.42426166 0.62777869 0.22346142 0.82244516 0.42051001 0.3057763  0.62803157 0.57598725 0.36568622 0.17852718 0.72584632 0.95175512 0.23767946 0.39823469 0.46715104 0.89580119 0.35581441 0.85161214 0.38012828 0.37012794 0.63760338 0.41561709 0.08744995 0.62326145 0.91906464 0.27875121 0.91629506 0.19826851 0.9419037  0.40110259 0.81263917 0.76253498 0.50657173 0.70215324 0.29239272 0.87327025 0.72592238 0.69101135 0.88669728 0.67026557 0.81679835 0.84632128 0.81932154 0.11878994 0.12274963 0.47629774 0.46954201 0.25399167 0.33205391 0.83030651 0.81599405 0.3056281  0.25661959 0.81030825 0.08713864 0.78159614 0.62489512 0.54003702 0.52575815 0.95028317 0.86823036 0.67557933 0.52626011 0.70627841 0.73256914 0.72658124 0.29017173 0.74756349 0.35094809 0.32948106 0.26885987]\n",
            " [0.2152409  0.40249978 0.78134824 0.88844342 0.84467598 0.35094654 0.0940945  0.67075806 0.28977958 0.37488678 0.41606971 0.93787098 0.5844848  0.56590545 0.37458638 0.         0.73915634 0.86900788 0.77680802 0.30228804 0.79358506 0.50462214 0.06106454 0.82781054 0.67608411 1.06740761 0.64549528 0.57417086 0.31165238 0.63435251 0.67281692 0.48676546 0.97312817 0.53067162 0.2571252  0.88851241 0.91848942 0.42611522 0.31756166 0.80239947 1.05804824 0.13851711 0.13970079 0.53593794 0.94562581 0.20780699 0.88992381 0.26409048 0.40059338 0.55621922 0.65431304 0.45184107 0.49116392 0.91110472 0.63554937 1.04963815 0.56103576 0.72236356 0.09081674 0.76454115 0.56795851 0.42620271 0.4745237  0.21182473 0.72032971 0.7347909  0.81095365 0.87185352 0.73042988 0.64122693 0.97657745 0.70361444 0.48085876 0.28987649 0.81000613 0.45111765 0.23952191 0.57998362 0.67200589 0.96370869 0.38919671 0.63101604 0.65583635 0.3145324  0.55126707 0.86076265 0.88225221 0.66553612 1.0537951  0.79043291 0.71069274 0.21730572 0.60332238 0.54953281 0.65527077 0.58966532 0.56883429 0.5179524  0.06180859 0.51320347]\n",
            " [0.58665894 0.86046492 0.60063287 0.1504667  0.50148806 0.46658753 0.79884115 0.33264052 0.55755012 0.38351357 0.50831991 0.64881052 0.55906297 0.87140867 0.42997494 0.73915634 0.         0.59027585 0.05088069 0.72029154 0.31186361 0.27090732 0.69611383 0.26147381 0.93926058 0.63510126 0.09366442 0.6820533  0.51051634 0.20955852 0.50681178 0.25267187 0.50600304 0.35841871 0.52943062 0.22002474 0.20170315 0.41982085 0.42255806 0.52601972 0.66408761 0.60898799 0.69015161 0.4163592  0.68336299 0.60568985 0.66272667 0.58572592 0.45174356 0.65776942 0.15957464 0.34660169 0.7020568  0.769223   0.19151073 0.60386186 0.25735718 1.02948428 0.72165508 0.73527781 0.86016828 0.59187095 0.85006804 0.5567036  0.89894239 0.60905965 0.44744999 0.75202186 0.51170125 0.88047007 0.54925377 0.81652062 0.31770842 0.45581028 0.09634429 0.51642447 0.51499811 0.18067168 0.87182075 0.50427283 0.40591627 0.30232532 0.85254649 0.4416421  0.91264994 0.24624879 0.17054263 0.33563519 0.66595691 0.81046278 0.54596898 0.79994272 0.72342769 0.8262007  0.70200891 0.15002839 0.83247158 0.29132738 0.67957449 0.23339512]\n",
            " [0.654288   0.6904766  0.10748537 0.61253024 0.09234041 0.53219237 0.96145772 0.28465078 0.88627547 0.57093092 0.45299167 0.07248759 0.29457953 0.5725762  0.80152016 0.86900788 0.59027585 0.         0.63154574 0.63503103 0.28399252 0.49540165 0.80796214 0.85170227 0.56962001 0.22617134 0.58341444 0.37549215 0.84876246 0.41732205 0.19625194 0.5944043  0.21068611 0.38299497 0.62119655 0.46509141 0.73595935 0.46459319 0.65228681 0.07570923 0.19864927 0.8090905  0.74153789 0.34825426 0.09691667 0.66128689 0.07629569 0.6056333  0.48002644 0.37380068 0.45612541 0.76395253 0.46502694 0.19460367 0.73147759 0.22357619 0.75048699 0.65417581 0.79467442 0.25505875 0.55784699 0.45808656 0.62132784 0.6680042  0.48495012 0.16356715 0.14344191 0.19411762 0.13985782 0.52348535 0.17023153 0.39812513 0.75364418 0.72559711 0.6709096  0.41819744 0.65983617 0.51188321 0.48882103 0.20042234 0.52058682 0.84061886 0.47858611 0.74361107 0.63379271 0.39916552 0.72205756 0.28526001 0.19265046 0.32289621 0.16087071 0.76956019 0.38492733 0.53448645 0.3183922  0.59656004 0.52572018 0.45185544 0.81459312 0.55052353]\n",
            " [0.63109777 0.90954404 0.64641561 0.12524981 0.54151323 0.51415244 0.83310438 0.38043358 0.58177911 0.42801467 0.55838445 0.68792468 0.60952587 0.92220052 0.45367467 0.77680802 0.05088069 0.63154574 0.         0.76838114 0.34986387 0.31936867 0.73575394 0.22227288 0.99011119 0.66341424 0.13496114 0.7328261  0.53521226 0.25992449 0.5552911  0.29278508 0.53501785 0.40928435 0.57409062 0.23163622 0.15254393 0.46930498 0.46214159 0.56932291 0.69510807 0.64437831 0.73331596 0.46721795 0.72326847 0.65029011 0.70499822 0.63228243 0.50092957 0.70858969 0.20999073 0.36782366 0.75283138 0.8133838  0.19440258 0.63175042 0.26914531 1.08035786 0.76311455 0.78359177 0.91098944 0.64225086 0.90025651 0.59958162 0.94941513 0.65662211 0.48819848 0.79731442 0.55818389 0.93132031 0.58069014 0.86668466 0.33754322 0.49030735 0.04550331 0.56700204 0.5570927  0.22941136 0.92252773 0.53417285 0.45336421 0.2967028  0.90328325 0.4734582  0.96322746 0.26946575 0.12022939 0.38367859 0.69744973 0.859111   0.59358474 0.84521118 0.77411784 0.87701783 0.75210446 0.187965   0.88333203 0.34140984 0.71805299 0.27803479]\n",
            " [0.17979066 0.15047471 0.53415429 0.85194372 0.63621345 0.25464807 0.39150934 0.51874016 0.50308943 0.35172655 0.2320104  0.69648013 0.34099718 0.26996144 0.51905393 0.30228804 0.72029154 0.63503103 0.76838114 0.         0.64968033 0.44939502 0.25197669 0.89436167 0.37970554 0.85363586 0.63610641 0.28902179 0.49787412 0.54608257 0.44972752 0.49436116 0.78382703 0.3960546  0.22021562 0.79875941 0.92089733 0.30502819 0.3610212  0.58095757 0.83310343 0.33825815 0.16669503 0.36620414 0.69582216 0.16400876 0.63788035 0.14627937 0.27160493 0.27706279 0.58521435 0.56037563 0.19735014 0.63604527 0.6944906  0.8424132  0.64262497 0.43739617 0.21148539 0.48134751 0.269908   0.18198231 0.18803887 0.22671666 0.41821047 0.48082168 0.61756929 0.59592737 0.5079642  0.34057802 0.77285206 0.40392354 0.57868085 0.39670849 0.81082591 0.24717362 0.26636613 0.53964687 0.36992619 0.77314547 0.31541486 0.73855101 0.35357062 0.43255557 0.26868982 0.75190541 0.88754113 0.51267629 0.82743147 0.49655128 0.47517499 0.13536949 0.31061466 0.24861172 0.37035691 0.59232001 0.26760542 0.43456381 0.27640056 0.49417283]\n",
            " [0.58901197 0.7568662  0.31829479 0.3314162  0.1925129  0.44643617 0.87613701 0.13110771 0.72020565 0.42944946 0.41948147 0.33808244 0.362529   0.70301882 0.61108815 0.79358506 0.31186361 0.28399252 0.34986387 0.64968033 0.         0.310827   0.73663705 0.57166193 0.74079716 0.33944706 0.32363705 0.49049056 0.67600705 0.18684372 0.26537352 0.38774945 0.21356946 0.26639209 0.53851139 0.19557097 0.45304936 0.3720464  0.50622637 0.22927898 0.36011949 0.69537147 0.69454151 0.28361212 0.373722   0.60320118 0.35914753 0.55880783 0.40234338 0.47338295 0.20494631 0.55199346 0.54788978 0.47266718 0.47342907 0.31071111 0.50947207 0.83248253 0.74151543 0.4743857  0.68924844 0.47522278 0.71522016 0.58213865 0.67748036 0.34450385 0.14112234 0.46215285 0.24160602 0.6845816  0.24649227 0.58793133 0.53369079 0.57135888 0.387795   0.40296383 0.5559799  0.28235681 0.66312591 0.20847144 0.40450998 0.58714855 0.64678326 0.57719958 0.75694548 0.12975449 0.43818281 0.13713369 0.36086707 0.55162399 0.28672363 0.76725814 0.52229018 0.65782352 0.4777168  0.35218146 0.65724687 0.28242598 0.73248724 0.34222875]\n",
            " [0.32490183 0.59032816 0.45714529 0.40627754 0.4309843  0.1963286  0.57926376 0.21832233 0.41095586 0.12976084 0.24375336 0.56671907 0.34060809 0.61522636 0.310014   0.50462214 0.27090732 0.49540165 0.31936867 0.44939502 0.310827   0.         0.45320759 0.47178206 0.69395274 0.63372247 0.18990939 0.44595288 0.36802769 0.13202563 0.3367285  0.10182174 0.51690317 0.13030048 0.2678403  0.38419297 0.47189846 0.15187375 0.19816941 0.41979823 0.64187878 0.39213487 0.43184891 0.19045572 0.59115422 0.34303686 0.55067923 0.31710164 0.18222491 0.41964847 0.15054229 0.26892968 0.44686431 0.63032836 0.28853158 0.60861213 0.27527024 0.7810636  0.46989833 0.54859087 0.60524915 0.32989985 0.58467062 0.30245221 0.66831621 0.44171657 0.38099799 0.60211322 0.37052521 0.63585097 0.53769058 0.59501319 0.26102565 0.26066308 0.36256019 0.25919599 0.26639112 0.09025262 0.63447119 0.50976429 0.13620772 0.37626721 0.61434558 0.26696517 0.65136773 0.35747297 0.43910674 0.21579816 0.64032738 0.61557197 0.38442194 0.53369928 0.4898012  0.57138258 0.48576913 0.15661728 0.58015514 0.04550764 0.44285771 0.06540668]\n",
            " [0.15447878 0.36589882 0.72037179 0.8441639  0.78414926 0.29208087 0.15460437 0.61253592 0.29115832 0.32369075 0.35505027 0.87680648 0.5236561  0.51998706 0.35675666 0.06106454 0.69611383 0.80796214 0.73575394 0.25197669 0.73663705 0.45320759 0.         0.80054134 0.63020436 1.0069474  0.60270173 0.51628629 0.30409388 0.58127915 0.61178325 0.44353903 0.9136817  0.4724601  0.19855676 0.83737321 0.8803964  0.3673493  0.27369621 0.74148334 0.99723209 0.12188416 0.085429   0.47590227 0.88461763 0.14674251 0.82897541 0.20308188 0.34099101 0.49766168 0.60359528 0.42738167 0.43541055 0.8512173  0.60443852 0.98942205 0.53319312 0.68142427 0.05063538 0.70574664 0.52097041 0.36615425 0.43149892 0.154643   0.66966361 0.67401493 0.75095923 0.81209069 0.66944088 0.5925322  0.91642157 0.64898523 0.45472689 0.25778589 0.77074444 0.39005321 0.18681691 0.53178827 0.62147658 0.90417528 0.33307482 0.61009222 0.60467468 0.28682938 0.51016894 0.80738129 0.84435161 0.60722645 0.99294234 0.73351172 0.64963336 0.18883489 0.546671   0.50057215 0.59701321 0.54784831 0.51958141 0.46376422 0.03046314 0.46662667]\n",
            " [0.73222733 1.04309026 0.85986185 0.2956043  0.76254686 0.64509215 0.8623118  0.58950401 0.57435919 0.54294392 0.71353377 0.90949626 0.79906366 1.08623847 0.45819237 0.82781054 0.26147381 0.85170227 0.22227288 0.89436167 0.57166193 0.47178206 0.80054134 0.         1.16548384 0.88277503 0.29274603 0.91428908 0.53449633 0.45835313 0.76037113 0.40159805 0.75520491 0.58800076 0.67973583 0.44140019 0.19913187 0.62073391 0.54481422 0.7872839  0.91607655 0.68929344 0.82107781 0.64959432 0.94443309 0.75167102 0.92417834 0.74928382 0.64759376 0.88853361 0.41009799 0.37619441 0.9184636  1.0298947  0.20087269 0.85089159 0.26737665 1.25284496 0.83827829 0.98827108 1.07658281 0.80015307 1.04965004 0.69175483 1.13570341 0.86487512 0.70872802 1.01163885 0.77011864 1.10721159 0.80201632 1.05778661 0.34696203 0.54288681 0.18987937 0.73095346 0.64685789 0.39436332 1.10412923 0.75485902 0.58700679 0.20978869 1.08419258 0.51429288 1.11986941 0.4879483  0.17977489 0.59187805 0.91864525 1.06183621 0.80191019 0.94465894 0.95747688 1.04280063 0.94478612 0.31516642 1.05187103 0.50725414 0.77662109 0.41188625]\n",
            " [0.54353262 0.28845395 0.468422   1.03589378 0.62448289 0.54644406 0.75929649 0.63545627 0.87449701 0.6510162  0.4576391  0.59834433 0.38685127 0.11026262 0.86854763 0.67608411 0.93926058 0.56962001 0.99011119 0.37970554 0.74079716 0.69395274 0.63020436 1.16548384 0.         0.78697228 0.87685728 0.25849613 0.8628062  0.73174883 0.47564149 0.77539353 0.7748895  0.58192916 0.56442278 0.93120535 1.13531053 0.54897673 0.69344348 0.55908235 0.74662343 0.71578162 0.5456315  0.52290794 0.57661419 0.53237292 0.52662978 0.49312648 0.52692387 0.28174726 0.78106621 0.88986919 0.25128894 0.45417368 0.97914265 0.79035428 0.94794696 0.09197745 0.58619323 0.31783435 0.11000815 0.37278029 0.20368562 0.58808322 0.09607504 0.41886504 0.63895202 0.42133053 0.50983641 0.05879105 0.73953221 0.17210201 0.9006008  0.74741364 1.03560196 0.43548636 0.6185204  0.77314169 0.08107229 0.7639507  0.59400274 1.05032062 0.09455746 0.78200303 0.13902835 0.86866535 1.10794346 0.63026903 0.73882161 0.26867781 0.46229766 0.46993358 0.2204163  0.1364772  0.26547766 0.85047519 0.12100135 0.65872195 0.6557061  0.75588245]\n",
            " [0.85253716 0.91595721 0.33364171 0.60175273 0.2228879  0.71951457 1.15737637 0.41787288 1.04335808 0.7353995  0.65481903 0.1891577  0.51309945 0.79721894 0.94227528 1.06740761 0.63510126 0.22617134 0.66341424 0.85363586 0.33944706 0.63372247 1.0069474  0.88277503 0.78697228 0.         0.66112035 0.60154754 1.00142865 0.52209596 0.40475382 0.72107832 0.12919643 0.54881115 0.81249329 0.44576531 0.72617687 0.6462322  0.81668849 0.27274331 0.05305099 0.99173208 0.94719229 0.53218118 0.21640388 0.86204686 0.26071704 0.80861452 0.66817938 0.59908936 0.5443521  0.88860327 0.69015702 0.35683893 0.80970633 0.03210067 0.84882183 0.86763715 0.99929401 0.46913935 0.7825238  0.67333739 0.84749884 0.85926106 0.69777441 0.38973564 0.2596425  0.37746464 0.34603613 0.74416813 0.09603192 0.61492972 0.87170735 0.88718993 0.69292442 0.62371663 0.84382517 0.61976872 0.70719435 0.13197816 0.69501787 0.924032   0.69867818 0.89869761 0.85866167 0.39483313 0.72326246 0.42146933 0.06078901 0.5269175  0.37959152 0.98663656 0.61071868 0.7599987  0.54346653 0.69162304 0.75067146 0.59676496 1.00989308 0.67517123]\n",
            " [0.49615515 0.7792608  0.57687742 0.24364707 0.50031131 0.38147409 0.70557599 0.30598889 0.47049807 0.29312445 0.4330522  0.64774383 0.50638305 0.8025501  0.34429551 0.64549528 0.09366442 0.58341444 0.13496114 0.63610641 0.32363705 0.18990939 0.60270173 0.29274603 0.87685728 0.66112035 0.         0.62314601 0.42331413 0.17067439 0.47103949 0.15916605 0.53279361 0.29625764 0.43918621 0.28655755 0.28603851 0.34171862 0.32905715 0.51334262 0.68373948 0.51554101 0.59846157 0.35744378 0.67946177 0.51536446 0.65146854 0.49825923 0.37202705 0.59773617 0.12734604 0.26476654 0.63340741 0.75003567 0.15011468 0.63124137 0.19243176 0.96554392 0.62889827 0.69764149 0.79207595 0.51863994 0.7744848  0.46477295 0.84381709 0.57682386 0.44539246 0.72855616 0.4863272  0.81827357 0.56978051 0.76516199 0.23826851 0.36270585 0.17517342 0.44574753 0.4225304  0.10384953 0.81332168 0.52917978 0.32069157 0.26351156 0.79354856 0.34970626 0.84038865 0.29448359 0.25183763 0.30739764 0.68449764 0.77031232 0.51438197 0.71039977 0.66596083 0.75810111 0.65204486 0.056932   0.76587386 0.21882943 0.58596263 0.14338437]\n",
            " [0.38404418 0.31599216 0.26828515 0.77757301 0.40420685 0.33109997 0.66754439 0.37873911 0.69823984 0.42657915 0.22958284 0.4268268  0.1296454  0.21360778 0.66372408 0.57417086 0.6820533  0.37549215 0.7328261  0.28902179 0.49049056 0.44595288 0.51628629 0.91428908 0.25849613 0.60154754 0.62314601 0.         0.67607041 0.47374869 0.23067371 0.535168   0.55909085 0.32691757 0.38116516 0.67674567 0.87707092 0.31166068 0.48533056 0.34016198 0.57217985 0.56465935 0.43476648 0.26640126 0.41945294 0.38115351 0.36162239 0.32722143 0.29731417 0.0268016  0.52327949 0.66856507 0.0950642  0.3473422  0.73426528 0.59672533 0.71169015 0.34998694 0.48671292 0.19261289 0.19947034 0.16284828 0.24653811 0.41864401 0.22237945 0.21208068 0.40542809 0.30718882 0.27665104 0.19995394 0.53439919 0.15586015 0.67425298 0.55047307 0.7783288  0.19764591 0.43491021 0.52011436 0.19024755 0.54792952 0.36544693 0.81459397 0.17066119 0.58162096 0.27060801 0.61588189 0.85006312 0.37336869 0.56552187 0.21881677 0.23180887 0.42217684 0.04417617 0.1695613  0.08174147 0.60090302 0.16708248 0.40741956 0.53332423 0.51009051]\n",
            " [0.32092627 0.64009339 0.79057063 0.65844797 0.79376769 0.34899974 0.32992329 0.58426131 0.04718628 0.27921838 0.45186186 0.92121195 0.62315516 0.757893   0.08182937 0.31165238 0.51051634 0.84876246 0.53521226 0.49787412 0.67600705 0.36802769 0.30409388 0.53449633 0.8628062  1.00142865 0.42331413 0.67607041 0.         0.49018063 0.66714673 0.29213893 0.88472376 0.46578639 0.30033575 0.70471973 0.65754689 0.39589443 0.20062948 0.77355661 1.00778322 0.18223435 0.35904388 0.50572452 0.94101941 0.33456088 0.89405322 0.36968551 0.39351629 0.65088454 0.48644356 0.16914256 0.62510599 0.95343323 0.35989478 0.97659232 0.27902879 0.93085116 0.3521393  0.8372105  0.75437779 0.51451925 0.68505396 0.27514552 0.87651967 0.76036654 0.74620038 0.91924337 0.71369069 0.81401216 0.90541806 0.82975814 0.20042044 0.12824298 0.55812549 0.48904314 0.24549625 0.40231625 0.83162946 0.87771305 0.33558636 0.32848122 0.81210773 0.10518479 0.76554392 0.69832727 0.62165347 0.58110253 1.0058158  0.88759294 0.71415706 0.48491618 0.71694243 0.72634926 0.74449209 0.36815448 0.74265465 0.40508438 0.27469555 0.33579521]\n",
            " [0.44513801 0.67601762 0.40621652 0.31235722 0.33891082 0.3065061  0.71071243 0.13570084 0.5349551  0.26010634 0.31927552 0.48422583 0.34960691 0.66843511 0.42426166 0.63435251 0.20955852 0.41732205 0.25992449 0.54608257 0.18684372 0.13202563 0.58127915 0.45835313 0.73174883 0.52209596 0.17067439 0.47374869 0.49018063 0.         0.30204885 0.20090846 0.39920151 0.15720339 0.38961213 0.25895721 0.40367909 0.24206963 0.33007773 0.34528121 0.53697112 0.52412266 0.55299781 0.21019991 0.51407216 0.46204469 0.48304498 0.42796555 0.27569802 0.45000161 0.04998774 0.36655053 0.50000723 0.5795714  0.31500188 0.4947337  0.33513164 0.82255251 0.59444143 0.52997702 0.65657961 0.39700027 0.65522568 0.4281575  0.68949417 0.4070635  0.28473752 0.55788235 0.31565832 0.67298866 0.42693655 0.60699179 0.34991919 0.39046417 0.30533231 0.31966987 0.39502798 0.09831724 0.66300919 0.39328575 0.25229803 0.42329886 0.64390317 0.39330784 0.7129409  0.22642463 0.37631618 0.13684758 0.53655314 0.60397497 0.34433757 0.64523741 0.51457277 0.62278917 0.4925327  0.17937992 0.62781335 0.11884116 0.57254606 0.15541677]\n",
            " [0.45803667 0.52573447 0.12370663 0.5759458  0.18694112 0.33828702 0.76520673 0.17548361 0.70187435 0.38799897 0.25676184 0.26623026 0.11342627 0.44419145 0.62777869 0.67281692 0.50681178 0.19625194 0.5552911  0.44972752 0.26537352 0.3367285  0.61178325 0.76037113 0.47564149 0.40475382 0.47103949 0.23067371 0.66714673 0.30204885 0.         0.43852596 0.33841772 0.20967484 0.42567569 0.45806647 0.68695363 0.27437163 0.46742195 0.13235885 0.38824862 0.61492636 0.54644202 0.16147607 0.27876631 0.46515902 0.2279619  0.40972575 0.28641296 0.2178001  0.35050406 0.6021161  0.30268864 0.29397201 0.60741108 0.39270757 0.60911083 0.56721328 0.59935669 0.22849859 0.42994818 0.26868756 0.46964837 0.47235356 0.41316104 0.10661383 0.17702329 0.26546272 0.05887512 0.4199023  0.32337847 0.32439919 0.5969715  0.5409682  0.59962026 0.22239887 0.46601985 0.37945655 0.39775249 0.32742479 0.33299713 0.70713948 0.38148133 0.56231547 0.50107515 0.39411477 0.66460441 0.17183029 0.38334701 0.30384544 0.04804166 0.58201217 0.25859418 0.40019829 0.21256695 0.46751811 0.39737748 0.29122106 0.61836272 0.39935725]\n",
            " [0.34212134 0.6420846  0.55887381 0.40168398 0.52619622 0.24349687 0.5494219  0.31292438 0.33809434 0.14290771 0.31804351 0.66509208 0.43734138 0.68972835 0.22346142 0.48676546 0.25267187 0.5944043  0.29278508 0.49436116 0.38774945 0.10182174 0.44353903 0.40159805 0.77539353 0.72107832 0.15916605 0.535168   0.29213893 0.20090846 0.43852596 0.         0.59972724 0.23097289 0.28623992 0.4187486  0.4406368  0.22651097 0.16989735 0.51906601 0.73297814 0.35886405 0.44165177 0.28938034 0.69066272 0.3615856  0.6514289  0.35110438 0.24960524 0.50847205 0.19436387 0.17011864 0.52484562 0.73214785 0.20544281 0.69443561 0.1773106  0.85982771 0.47034634 0.64825575 0.68095946 0.40412664 0.64865923 0.30789252 0.75696991 0.54331774 0.47445631 0.70386799 0.47184928 0.71827585 0.62537183 0.6874618  0.15971408 0.20890235 0.32979809 0.34104876 0.26472642 0.11023047 0.72062448 0.59353509 0.18604028 0.27989901 0.70031766 0.2023617  0.72026247 0.40718604 0.40522042 0.311203   0.73196305 0.71371553 0.48624051 0.55723611 0.57932897 0.64761597 0.58084467 0.10500784 0.65823849 0.14732161 0.42694829 0.04590709]\n",
            " [0.76055326 0.86382596 0.30646854 0.47859733 0.15488406 0.62230898 1.060543   0.30744091 0.92785422 0.62610452 0.56971163 0.21698062 0.45178015 0.76715395 0.82244516 0.97312817 0.50600304 0.21068611 0.53501785 0.78382703 0.21356946 0.51690317 0.9136817  0.75520491 0.7748895  0.12919643 0.53279361 0.55909085 0.88472376 0.39920151 0.33841772 0.59972724 0.         0.44495755 0.71613697 0.32199263 0.60398607 0.54739173 0.70612961 0.21956831 0.16180798 0.88791485 0.86028759 0.43869798 0.25494295 0.77192943 0.27532129 0.72120555 0.57269071 0.55112226 0.4181582  0.76531934 0.63937842 0.39147333 0.68094144 0.09853265 0.72158818 0.86147232 0.91086287 0.46451084 0.75246467 0.60186231 0.80420908 0.76218014 0.69327744 0.35758317 0.16663131 0.39973255 0.28428226 0.72589852 0.0548515  0.60499994 0.7472536  0.77466629 0.56553298 0.54281278 0.74247541 0.49574614 0.69381818 0.01116303 0.59112691 0.7953331  0.68205002 0.78365562 0.8270572  0.2675781  0.59896002 0.31189333 0.16527411 0.5335638  0.32735971 0.91277291 0.5771012  0.72604175 0.51529104 0.56485547 0.71976329 0.48293147 0.91384101 0.55393488]\n",
            " [0.32290266 0.52058935 0.33237155 0.46956056 0.3319652  0.18072642 0.61632516 0.14010004 0.50382951 0.18923216 0.16506423 0.45543098 0.21300625 0.51335876 0.42051001 0.53067162 0.35841871 0.38299497 0.40928435 0.3960546  0.26639209 0.13030048 0.4724601  0.58800076 0.58192916 0.54881115 0.29625764 0.32691757 0.46578639 0.15720339 0.20967484 0.23097289 0.44495755 0.         0.27390388 0.40279492 0.55754127 0.10579529 0.27106553 0.30778319 0.54847638 0.44364637 0.42814955 0.06199625 0.47594369 0.33684103 0.4311049  0.29304646 0.13611529 0.30164956 0.2035013  0.39246515 0.34424995 0.50354907 0.41467441 0.52754141 0.40555363 0.67157631 0.47537785 0.41833867 0.50192354 0.239932   0.4980223  0.31888628 0.5477355  0.31291514 0.28919647 0.47396927 0.24975635 0.5231955  0.45442509 0.47056024 0.38795337 0.34373454 0.45465584 0.16252208 0.29752064 0.19364865 0.51713551 0.43606553 0.14652998 0.50624863 0.49742172 0.36066126 0.55641968 0.3567503  0.52839128 0.13486713 0.54570777 0.48594283 0.25770875 0.5051473  0.36971526 0.46798793 0.35904535 0.27719182 0.47405583 0.08589548 0.47042556 0.1952584 ]\n",
            " [0.0573678  0.37064581 0.54136723 0.67167121 0.59034518 0.09383954 0.34505826 0.4139856  0.31818226 0.14607776 0.17383341 0.69186771 0.35186209 0.46200414 0.3057763  0.2571252  0.52943062 0.62119655 0.57409062 0.22021562 0.53851139 0.2678403  0.19855676 0.67973583 0.56442278 0.81249329 0.43918621 0.38116516 0.30033575 0.38961213 0.42567569 0.28623992 0.71613697 0.27390388 0.         0.64818976 0.72474666 0.16899501 0.1408056  0.55163116 0.80544239 0.19199834 0.1641148  0.28031231 0.70335885 0.07625936 0.64987737 0.07528291 0.14433082 0.35727466 0.41726571 0.34059226 0.32487323 0.68741767 0.47895049 0.79386385 0.42341154 0.63624087 0.20520545 0.55516243 0.45733757 0.21831743 0.39758418 0.04694742 0.57625171 0.50033579 0.55477066 0.65011806 0.48142368 0.51434528 0.72067769 0.53214647 0.35846825 0.1834838  0.61366346 0.21214745 0.05488372 0.35381923 0.5312971  0.70678474 0.1375755  0.51842036 0.51177445 0.21868236 0.47639835 0.6139219  0.68987306 0.40868924 0.80157285 0.59759231 0.46727131 0.2714048  0.42020478 0.42804469 0.45462014 0.38950124 0.44370763 0.27082202 0.19782604 0.29620273]\n",
            " [0.70399361 0.92061413 0.51229841 0.15660632 0.373229   0.5652406  0.96054957 0.29933645 0.75173257 0.51389235 0.56768221 0.50718491 0.54719818 0.88628623 0.62803157 0.88851241 0.22002474 0.46509141 0.23163622 0.79875941 0.19557097 0.38419297 0.83737321 0.44140019 0.93120535 0.44576531 0.28655755 0.67674567 0.70471973 0.25895721 0.45806647 0.4187486  0.32199263 0.40279492 0.64818976 0.         0.28213568 0.49854465 0.57582239 0.42023696 0.48364804 0.77099169 0.8118371  0.44089239 0.54535097 0.72098648 0.54138469 0.68628463 0.53194963 0.65745919 0.23423106 0.55099177 0.72473286 0.65875118 0.41143975 0.41366865 0.47345602 1.02314319 0.85257343 0.66987308 0.87302112 0.637074   0.88889519 0.68563419 0.87119101 0.54006777 0.32888398 0.65203108 0.43716771 0.87408661 0.37321575 0.78208919 0.52482557 0.62648155 0.25270976 0.56044392 0.65056625 0.31248434 0.85486316 0.32366697 0.51113807 0.52198262 0.83789188 0.62098962 0.93736943 0.06685461 0.27751039 0.30504119 0.48726387 0.7470743  0.48200935 0.90303044 0.7112533  0.84055766 0.67054778 0.33810917 0.84175747 0.37771433 0.82681624 0.38190798]\n",
            " [0.78147901 1.06197565 0.76644513 0.12578236 0.64372054 0.66658188 0.96921115 0.51182508 0.70245357 0.57882561 0.70991886 0.7842273  0.75120478 1.07087799 0.57598725 0.91848942 0.20170315 0.73595935 0.15254393 0.92089733 0.45304936 0.47189846 0.8803964  0.19913187 1.13531053 0.72617687 0.28603851 0.87707092 0.65754689 0.40367909 0.68695363 0.4406368  0.60398607 0.55754127 0.72474666 0.28213568 0.         0.62148956 0.60796394 0.68165521 0.76544898 0.78332308 0.882281   0.61357743 0.82164518 0.80078933 0.81170296 0.78423864 0.65329402 0.85358294 0.3548209  0.48853938 0.90177708 0.92567557 0.29822339 0.6941024  0.37939453 1.22621474 0.9100433  0.91285163 1.05933652 0.79309578 1.05151496 0.74850524 1.09024954 0.78351627 0.5940505  0.91401775 0.68190977 1.07657355 0.65533763 1.00542355 0.4571984  0.62923396 0.11108434 0.71722458 0.70530317 0.3818686  1.06563216 0.60579612 0.60577823 0.36863242 1.04676802 0.60864403 1.1132832  0.34195471 0.0363278  0.51591091 0.76921087 0.98955529 0.72128671 0.99611786 0.91730683 1.02543707 0.89074565 0.33585015 1.03102931 0.49296205 0.86115351 0.42941493]\n",
            " [0.21710749 0.44092206 0.3965471  0.54727067 0.42544148 0.07526963 0.51320409 0.24545076 0.42858281 0.12108743 0.09280252 0.53663966 0.23088198 0.46560551 0.36568622 0.42611522 0.41982085 0.46459319 0.46930498 0.30502819 0.3720464  0.15187375 0.3673493  0.62073391 0.54897673 0.6462322  0.34171862 0.31166068 0.39589443 0.24206963 0.27437163 0.22651097 0.54739173 0.10579529 0.16899501 0.49854465 0.62148956 0.         0.19526509 0.39197177 0.64183583 0.34662806 0.32262653 0.11659207 0.55234224 0.23117094 0.50233226 0.18925387 0.03363282 0.28485926 0.28018634 0.35908914 0.29892555 0.55754285 0.43042089 0.62661922 0.40112754 0.63404686 0.36958537 0.44706942 0.45620696 0.17943293 0.4327976  0.21479336 0.53203585 0.36449622 0.38733546 0.52358322 0.32550211 0.49177006 0.55336536 0.46630044 0.36307283 0.26827729 0.51319755 0.1149991  0.19781346 0.24017653 0.49462602 0.53813902 0.06055471 0.50401185 0.4742903  0.29243451 0.49999068 0.45716063 0.58944334 0.24004688 0.63841376 0.50469759 0.32018812 0.40463057 0.35576067 0.42257359 0.36531653 0.30646284 0.43249315 0.12999718 0.36647453 0.20886192]\n",
            " [0.18859596 0.51144398 0.59056151 0.57119595 0.60269862 0.15423579 0.3848298  0.39957593 0.23456357 0.0818463  0.25675067 0.72476027 0.42353946 0.59508439 0.17852718 0.31756166 0.42255806 0.65228681 0.46214159 0.3610212  0.50622637 0.19816941 0.27369621 0.54481422 0.69344348 0.81668849 0.32905715 0.48533056 0.20062948 0.33007773 0.46742195 0.16989735 0.70612961 0.27106553 0.1408056  0.57582239 0.60796394 0.19526509 0.         0.5777357  0.81879387 0.19531011 0.2779342  0.30634027 0.74306539 0.20779266 0.6949249  0.21550194 0.19438827 0.45929811 0.342383   0.20057496 0.44600144 0.75280609 0.34421468 0.79378518 0.2840423  0.76947548 0.30217006 0.6386392  0.58915894 0.32827117 0.53605328 0.1469406  0.69521307 0.5597434  0.55804652 0.71870595 0.51547348 0.64056191 0.72127396 0.64084384 0.217669   0.07357471 0.49776753 0.29242447 0.10204368 0.26422271 0.65271508 0.69816776 0.13500686 0.37771633 0.63262981 0.09805129 0.61377409 0.55418619 0.57211853 0.39562318 0.81624257 0.69176502 0.51411878 0.3998799  0.52778092 0.5582559  0.54944033 0.27419265 0.57250455 0.22423296 0.25726343 0.19618373]\n",
            " [0.58720243 0.64898967 0.09618835 0.56068646 0.06558571 0.46119738 0.89407346 0.21099966 0.81141229 0.49620156 0.38675886 0.14781352 0.24093937 0.54761726 0.72584632 0.80239947 0.52601972 0.07570923 0.56932291 0.58095757 0.22927898 0.41979823 0.74148334 0.7872839  0.55908235 0.27274331 0.51334262 0.34016198 0.77355661 0.34528121 0.13235885 0.51906601 0.21956831 0.30778319 0.55163116 0.42023696 0.68165521 0.39197177 0.5777357  0.         0.25634975 0.73774536 0.67795439 0.27538365 0.17161448 0.59524404 0.13814131 0.54045472 0.40902004 0.33358139 0.38605351 0.68846017 0.42328924 0.24464434 0.66017768 0.26213753 0.67677795 0.6474707  0.73065058 0.25972146 0.53293584 0.4006427  0.58611529 0.59856038 0.48183229 0.14022453 0.09175227 0.23288743 0.07348719 0.50836151 0.19546155 0.39206063 0.67845174 0.65090906 0.61021432 0.35370418 0.58845211 0.43840996 0.47816337 0.20841575 0.4469256  0.76816896 0.46530862 0.66844361 0.60749132 0.35339306 0.66532762 0.21119716 0.2517173  0.33479708 0.10957894 0.71391012 0.3575564  0.50649999 0.29663599 0.52396125 0.50022071 0.37616576 0.74677077 0.47540488]\n",
            " [0.8428088  0.88793454 0.30421693 0.64022208 0.21675533 0.71356246 1.14921856 0.42381965 1.048544   0.7370435  0.64290777 0.14916754 0.49219683 0.76214234 0.95175512 1.05804824 0.66408761 0.19864927 0.69510807 0.83310343 0.36011949 0.64187878 0.99723209 0.91607655 0.74662343 0.05305099 0.68373948 0.57217985 1.00778322 0.53697112 0.38824862 0.73297814 0.16180798 0.54847638 0.80544239 0.48364804 0.76544898 0.64183583 0.81879387 0.25634975 0.         0.98842781 0.93430403 0.52606412 0.17118171 0.85125863 0.22047567 0.79670435 0.66165823 0.57176963 0.56328324 0.9020502  0.6630166  0.30887088 0.83339074 0.07883649 0.86833978 0.82539366 0.98698614 0.4292914  0.74752656 0.65482386 0.81658914 0.85237596 0.65586228 0.3603032  0.26159349 0.33195184 0.32949691 0.7057896  0.11486538 0.57504072 0.88670342 0.89046625 0.72664763 0.61005339 0.83958937 0.63525425 0.66763132 0.16129785 0.69330773 0.9472443  0.66009764 0.9039587  0.82376801 0.42907    0.76075601 0.42677567 0.00827864 0.48340252 0.35800863 0.9672741  0.57817655 0.72640051 0.50985728 0.71075301 0.71613536 0.60279967 1.00175259 0.68719304]\n",
            " [0.18108557 0.47057078 0.73246686 0.75918533 0.7719024  0.27691049 0.19059539 0.58073143 0.17220783 0.26617546 0.36581392 0.88048748 0.54383784 0.60708667 0.23767946 0.13851711 0.60898799 0.8090905  0.64437831 0.33825815 0.69537147 0.39213487 0.12188416 0.68929344 0.71578162 0.99173208 0.51554101 0.56465935 0.18223435 0.52412266 0.61492636 0.35886405 0.88791485 0.44364637 0.19199834 0.77099169 0.78332308 0.34662806 0.19531011 0.73774536 0.98842781 0.         0.18320567 0.46287078 0.8934515  0.18708517 0.84070921 0.2377203  0.32906434 0.54238018 0.53769309 0.3133709  0.49648336 0.87926995 0.49759602 0.97106269 0.42258033 0.77561702 0.1701839  0.74470072 0.60580332 0.40355999 0.52566275 0.14811248 0.74318007 0.6922296  0.73218878 0.84178991 0.66928561 0.67227356 0.89787856 0.70986004 0.34234307 0.15427408 0.67591147 0.40414521 0.14930238 0.45892339 0.69603438 0.87926931 0.29711689 0.49340293 0.67770749 0.17650385 0.60609822 0.74916157 0.74701668 0.57611462 0.9850376  0.78315703 0.6577395  0.30518963 0.60078683 0.58126911 0.64135944 0.45896208 0.59918685 0.4134322  0.09285188 0.39011824]\n",
            " [0.10786183 0.28802969 0.64980133 0.83428993 0.72450908 0.24943943 0.23277812 0.5664698  0.35483964 0.30731855 0.2924186  0.80875553 0.45188853 0.43551897 0.39823469 0.13970079 0.69015161 0.74153789 0.73331596 0.16669503 0.69454151 0.43184891 0.085429   0.82107781 0.5456315  0.94719229 0.59846157 0.43476648 0.35904388 0.55299781 0.54644202 0.44165177 0.86028759 0.42814955 0.1641148  0.8118371  0.882281   0.32262653 0.2779342  0.67795439 0.93430403 0.18320567 0.         0.4219543  0.81429986 0.09168906 0.75777879 0.13912871 0.29238239 0.41730494 0.58137566 0.45785332 0.3515545  0.77387522 0.62120881 0.93142103 0.55627897 0.59898619 0.05352915 0.62570948 0.43614784 0.29038484 0.34857381 0.13379192 0.5842351  0.60132081 0.69517043 0.73437903 0.60494732 0.50727043 0.85900761 0.56447099 0.48207179 0.28458021 0.77137768 0.32425112 0.17733495 0.51691501 0.536048   0.85036706 0.30070885 0.64189502 0.51925817 0.31831924 0.4280597  0.77604415 0.84685974 0.56083549 0.92959898 0.6507365  0.58149803 0.12805572 0.4636216  0.41530327 0.51604715 0.54648071 0.43426086 0.43416259 0.11012109 0.45688144]\n",
            " [0.32211143 0.48005379 0.28509114 0.52056518 0.3102295  0.18759766 0.6252642  0.15256303 0.54089967 0.22653713 0.13632229 0.42044455 0.15107258 0.45840277 0.46715104 0.53593794 0.4163592  0.34825426 0.46721795 0.36620414 0.28361212 0.19045572 0.47590227 0.64959432 0.52290794 0.53218118 0.35744378 0.26640126 0.50572452 0.21019991 0.16147607 0.28938034 0.43869798 0.06199625 0.28031231 0.44089239 0.61357743 0.11659207 0.30634027 0.27538365 0.52606412 0.46287078 0.4219543  0.         0.43715889 0.33323259 0.38859003 0.28312134 0.13600636 0.24162515 0.25876836 0.44614267 0.29056548 0.45213675 0.47647092 0.51376787 0.46540458 0.61319346 0.47219722 0.35887888 0.44644056 0.19631933 0.44985457 0.32709348 0.48637597 0.25940723 0.27505702 0.42068229 0.20972172 0.46411875 0.44065974 0.40862971 0.44379948 0.37991498 0.51270288 0.12066931 0.31373185 0.25535532 0.45661832 0.42894516 0.17273846 0.5667105  0.43705969 0.40084743 0.50408059 0.38900171 0.58542243 0.14650985 0.52247303 0.42511975 0.20883352 0.48480418 0.3087387  0.41269411 0.29706812 0.33918576 0.41761687 0.14715576 0.47783557 0.25580544]\n",
            " [0.7325857  0.73436139 0.16450314 0.69689987 0.18189118 0.6170119  1.03898025 0.38155616 0.97753255 0.66226761 0.53175654 0.03883631 0.36246556 0.59766021 0.89580119 0.94562581 0.68336299 0.09691667 0.72326847 0.69582216 0.373722   0.59115422 0.88461763 0.94443309 0.57661419 0.21640388 0.67946177 0.41945294 0.94101941 0.51407216 0.27876631 0.69066272 0.25494295 0.47594369 0.70335885 0.54535097 0.82164518 0.55234224 0.74306539 0.17161448 0.17118171 0.8934515  0.81429986 0.43715889 0.         0.73803597 0.05809138 0.6815383  0.56517765 0.42347847 0.55228899 0.85994865 0.51346404 0.14192664 0.82790602 0.22759579 0.84740366 0.65440554 0.86778243 0.26066462 0.58321865 0.52569449 0.65829504 0.74975907 0.48506747 0.21517278 0.23609224 0.16116268 0.22759333 0.53752704 0.20269018 0.40570335 0.85006619 0.81658468 0.76150933 0.49519378 0.74470845 0.60879798 0.49834972 0.24703349 0.60988329 0.93736388 0.49175669 0.83584011 0.65929418 0.48109751 0.80965322 0.38212186 0.16314472 0.3122437  0.23614433 0.83118689 0.41913132 0.56426633 0.34983384 0.6933692  0.5526439  0.54721811 0.89326137 0.64701034]\n",
            " [0.01953971 0.31087398 0.57390071 0.747687   0.63915897 0.15775055 0.30094462 0.4756474  0.34253847 0.22230119 0.20854172 0.73006399 0.37776059 0.42530443 0.35581441 0.20780699 0.60568985 0.66128689 0.65029011 0.16400876 0.60320118 0.34303686 0.14674251 0.75167102 0.53237292 0.86204686 0.51536446 0.38115351 0.33456088 0.46204469 0.46515902 0.3615856  0.77192943 0.33684103 0.07625936 0.72098648 0.80078933 0.23117094 0.20779266 0.59524404 0.85125863 0.18708517 0.09168906 0.33323259 0.73803597 0.         0.68257826 0.05692445 0.20147452 0.36026216 0.49160953 0.40207727 0.30958517 0.70806717 0.55081392 0.84526532 0.49174506 0.5970556  0.13919864 0.56634173 0.4228217  0.22403243 0.35050576 0.06389435 0.55634287 0.52820689 0.60771915 0.66937508 0.52296842 0.48686451 0.77249738 0.52341453 0.42275798 0.23415136 0.68970573 0.24331071 0.10700051 0.42976384 0.50940068 0.76217009 0.20998329 0.58359691 0.490902   0.26992764 0.43098328 0.68452004 0.76583141 0.47007203 0.84685815 0.59995483 0.50290433 0.19565076 0.4155504  0.39669026 0.45990402 0.46532301 0.41410125 0.34328437 0.15648056 0.37244965]\n",
            " [0.67760814 0.67684472 0.10877807 0.688549   0.16849371 0.56500679 0.98346959 0.34807261 0.92947508 0.6148604  0.47736727 0.07171713 0.3059157  0.54290169 0.85161214 0.88992381 0.66272667 0.07629569 0.70499822 0.63788035 0.35914753 0.55067923 0.82897541 0.92417834 0.52662978 0.26071704 0.65146854 0.36162239 0.89405322 0.48304498 0.2279619  0.6514289  0.27532129 0.4311049  0.64987737 0.54138469 0.81170296 0.50233226 0.6949249  0.13814131 0.22047567 0.84070921 0.75777879 0.38859003 0.05809138 0.68257826 0.         0.62592419 0.51351235 0.36540834 0.52419135 0.81949954 0.45548125 0.11929729 0.79803577 0.26675708 0.81286583 0.60693744 0.81129105 0.20894598 0.52836739 0.46860626 0.60152823 0.69602499 0.43706127 0.15749431 0.2180854  0.12453122 0.1813689  0.48531513 0.22808352 0.35478573 0.81114115 0.76849893 0.74499233 0.44033455 0.69244677 0.57506132 0.44730064 0.2659424  0.56081797 0.90541502 0.43962221 0.78899955 0.6045665  0.47545175 0.79732861 0.34785025 0.21285743 0.26716048 0.18310499 0.77324937 0.36229511 0.50850801 0.29312605 0.66125298 0.49740371 0.50597505 0.83821553 0.60882181]\n",
            " [0.056824   0.29667062 0.51729709 0.72333809 0.58581048 0.12203248 0.35754751 0.42950283 0.38312692 0.20823961 0.15389479 0.6740238  0.32089624 0.38897655 0.38012828 0.26409048 0.58572592 0.6056333  0.63228243 0.14627937 0.55880783 0.31710164 0.20308188 0.74928382 0.49312648 0.80861452 0.49825923 0.32722143 0.36968551 0.42796555 0.40972575 0.35110438 0.72120555 0.29304646 0.07528291 0.68628463 0.78423864 0.18925387 0.21550194 0.54045472 0.79670435 0.2377203  0.13912871 0.28312134 0.6815383  0.05692445 0.62592419 0.         0.15708447 0.30552565 0.46148642 0.41570846 0.26052637 0.6513143  0.54899289 0.79251736 0.49634583 0.56280991 0.19068433 0.51051728 0.3849615  0.16801164 0.32245454 0.09587427 0.51035429 0.47133705 0.55604413 0.61270292 0.46783586 0.44473894 0.72001223 0.47263023 0.43307693 0.25747264 0.67343057 0.18743632 0.12649521 0.40644459 0.4642927  0.71126451 0.18091781 0.59255473 0.44523071 0.29299285 0.40153424 0.64631488 0.75006296 0.4237617  0.7921679  0.54595004 0.4467348  0.21761722 0.36307498 0.35666435 0.40497089 0.45162306 0.37303772 0.31060401 0.21339511 0.35502327]\n",
            " [0.18854511 0.40872279 0.40619877 0.58046992 0.44616775 0.05219256 0.48935939 0.27418213 0.42332519 0.12927591 0.06964719 0.55147345 0.22964366 0.4401754  0.37012794 0.40059338 0.45174356 0.48002644 0.50092957 0.27160493 0.40234338 0.18222491 0.34099101 0.64759376 0.52692387 0.66817938 0.37202705 0.29731417 0.39351629 0.27569802 0.28641296 0.24960524 0.57269071 0.13611529 0.14433082 0.53194963 0.65329402 0.03363282 0.19438827 0.40902004 0.66165823 0.32906434 0.29238239 0.13600636 0.56517765 0.20147452 0.51351235 0.15708447 0.         0.27067002 0.31364755 0.37129825 0.27579678 0.56214013 0.4548036  0.64956378 0.421087   0.61042489 0.34051895 0.44426538 0.4313544  0.15463497 0.40338868 0.19108718 0.51486372 0.370333   0.41054647 0.52692543 0.34022705 0.47047553 0.57639419 0.45302884 0.37787038 0.26527463 0.54452959 0.1001264  0.17984009 0.27154822 0.47578785 0.56319468 0.06837702 0.52362981 0.45543614 0.29243729 0.47228319 0.4899652  0.62093991 0.26859828 0.65792277 0.49812292 0.33046028 0.37144479 0.34098181 0.39803502 0.35659433 0.33462927 0.40889723 0.16306399 0.34200999 0.23612262]\n",
            " [0.3623062  0.316871   0.26762927 0.75542418 0.39647443 0.30506756 0.64992433 0.35862023 0.6736651  0.39994468 0.20319574 0.42844521 0.11088742 0.22966456 0.63760338 0.55621922 0.65776942 0.37380068 0.70858969 0.27706279 0.47338295 0.41964847 0.49766168 0.88853361 0.28174726 0.59908936 0.59773617 0.0268016  0.65088454 0.45000161 0.2178001  0.50847205 0.55112226 0.30164956 0.35727466 0.65745919 0.85358294 0.28485926 0.45929811 0.33358139 0.57176963 0.54238018 0.41730494 0.24162515 0.42347847 0.36026216 0.36540834 0.30552565 0.27067002 0.         0.49934673 0.64187684 0.09125069 0.35959762 0.7078525  0.59285876 0.68493784 0.37273307 0.46978589 0.20840492 0.21601039 0.13923463 0.2531261  0.39568016 0.24882652 0.21180494 0.39425367 0.31959103 0.26717656 0.22299311 0.52879575 0.18238098 0.64747866 0.52492558 0.75409062 0.17090774 0.4106639  0.49452308 0.21563496 0.53998212 0.33875204 0.7878455  0.19581285 0.55582376 0.28432259 0.5974505  0.8262193  0.35311772 0.56535085 0.24085081 0.22417684 0.41160956 0.07094847 0.18446537 0.09968288 0.57484671 0.1843686  0.38146592 0.5137665  0.48365091]\n",
            " [0.47391738 0.71849161 0.45158133 0.26806935 0.37383463 0.33945411 0.72672786 0.18032361 0.53245792 0.27992535 0.36206542 0.52091484 0.39953914 0.71636174 0.41561709 0.65431304 0.15957464 0.45612541 0.20999073 0.58521435 0.20494631 0.15054229 0.60359528 0.41009799 0.78106621 0.5443521  0.12734604 0.52327949 0.48644356 0.04998774 0.35050406 0.19436387 0.4181582  0.2035013  0.41726571 0.23423106 0.3548209  0.28018634 0.342383   0.38605351 0.56328324 0.53769309 0.58137566 0.25876836 0.55228899 0.49160953 0.52419135 0.46148642 0.31364755 0.49934673 0.         0.35017463 0.54753363 0.62389816 0.27591429 0.51563596 0.305069   0.87170672 0.62029045 0.57878651 0.70468609 0.44204612 0.70071777 0.45291089 0.73942847 0.45478124 0.31899197 0.60347183 0.36125559 0.72228825 0.45077631 0.65697779 0.33014947 0.39655361 0.25542607 0.36510334 0.41679592 0.08413608 0.71272747 0.41335215 0.28207527 0.38724749 0.69356575 0.39486077 0.75992098 0.21390591 0.32687729 0.18228274 0.56350206 0.65314889 0.39183993 0.67908858 0.56429467 0.67082528 0.54250882 0.14750807 0.67623259 0.15137363 0.59264087 0.15246472]\n",
            " [0.38378984 0.71046707 0.72428277 0.49209696 0.69629294 0.3438392  0.488148   0.48304142 0.21479871 0.24217725 0.43997473 0.83490347 0.58662228 0.79389106 0.08744995 0.45184107 0.34660169 0.76395253 0.36782366 0.56037563 0.55199346 0.26892968 0.42738167 0.37619441 0.88986919 0.88860327 0.26476654 0.66856507 0.16914256 0.36655053 0.6021161  0.17011864 0.76531934 0.39246515 0.34059226 0.55099177 0.48853938 0.35908914 0.20057496 0.68846017 0.9020502  0.3133709  0.45785332 0.44614267 0.85994865 0.40207727 0.81949954 0.41570846 0.37129825 0.64187684 0.35017463 0.         0.63994822 0.89601185 0.19158583 0.86126646 0.11179107 0.96800773 0.46815226 0.8018881  0.78740835 0.51948941 0.7366026  0.33846514 0.88521044 0.70474814 0.64438298 0.86604494 0.63894132 0.83559496 0.7932656  0.82414456 0.03135713 0.17332832 0.38925506 0.47101522 0.29539145 0.2696376  0.84469532 0.75965755 0.3031253  0.18411307 0.82441106 0.14095858 0.81410919 0.55304981 0.45258754 0.48131187 0.90121718 0.86276556 0.65013482 0.58512821 0.71227929 0.7558508  0.72436521 0.2137379  0.76932525 0.31353918 0.40214674 0.21534811]\n",
            " [0.31601357 0.22596615 0.35885483 0.81112834 0.48524745 0.29611426 0.5833365  0.42595383 0.64216803 0.39999122 0.20680468 0.51936878 0.19032283 0.16941878 0.62326145 0.49116392 0.7020568  0.46502694 0.75283138 0.19735014 0.54788978 0.44686431 0.43541055 0.9184636  0.25128894 0.69015702 0.63340741 0.0950642  0.62510599 0.50000723 0.30268864 0.52484562 0.63937842 0.34424995 0.32487323 0.72473286 0.90177708 0.29892555 0.44600144 0.42328924 0.6630166  0.49648336 0.3515545  0.29056548 0.51346404 0.30958517 0.45548125 0.26052637 0.27579678 0.09125069 0.54753363 0.63994822 0.         0.44149113 0.72932517 0.68353253 0.69669953 0.33512271 0.40182753 0.28499313 0.15866901 0.12149264 0.1680642  0.35593893 0.25141666 0.30296058 0.47968381 0.4013411  0.35510305 0.19574527 0.61872699 0.21442655 0.64984934 0.50434288 0.79802674 0.18782815 0.37975694 0.52963788 0.20716954 0.62827496 0.34271491 0.79903575 0.18733447 0.53784964 0.21369512 0.66764689 0.87236514 0.42010704 0.65658747 0.30019369 0.31371053 0.32849535 0.11341104 0.12469593 0.1743714  0.60337109 0.13358351 0.41461341 0.45506206 0.50718052]\n",
            " [0.70632132 0.64800295 0.17451874 0.8036858  0.28558485 0.61100598 1.00518709 0.44404712 0.98517572 0.67622044 0.5140588  0.17636394 0.33578158 0.49210602 0.91906464 0.91110472 0.769223   0.19460367 0.8133838  0.63604527 0.47266718 0.63032836 0.8512173  1.0298947  0.45417368 0.35683893 0.75003567 0.3473422  0.95343323 0.5795714  0.29397201 0.73214785 0.39147333 0.50354907 0.68741767 0.65875118 0.92567557 0.55754285 0.75280609 0.24464434 0.30887088 0.87926995 0.77387522 0.45213675 0.14192664 0.70806717 0.11929729 0.6513143  0.56214013 0.35959762 0.62389816 0.89601185 0.44149113 0.         0.89305992 0.36940891 0.90064994 0.52553123 0.82699135 0.15856164 0.4784174  0.48507582 0.56490501 0.73152707 0.35931456 0.19329795 0.33198636 0.04015813 0.26466074 0.42243917 0.34155259 0.28984301 0.89088766 0.82563881 0.85465141 0.47552472 0.73504175 0.66639311 0.3802682  0.38261194 0.6179349  0.9967759  0.37739612 0.8497391  0.55258396 0.59243047 0.90986193 0.44272387 0.30062405 0.18552229 0.24603331 0.76951531 0.33342029 0.46513617 0.26725689 0.75410044 0.45062127 0.58484193 0.86436983 0.69210436]\n",
            " [0.53136362 0.84376549 0.71885477 0.318665   0.64971517 0.44777252 0.67802374 0.45042047 0.40438515 0.3439631  0.52270745 0.79681103 0.62751692 0.8949771  0.27875121 0.63554937 0.19151073 0.73147759 0.19440258 0.6944906  0.47342907 0.28853158 0.60443852 0.20087269 0.97914265 0.80970633 0.15011468 0.73426528 0.35989478 0.31500188 0.60741108 0.20544281 0.68094144 0.41467441 0.47895049 0.41143975 0.29822339 0.43042089 0.34421468 0.66017768 0.83339074 0.49759602 0.62120881 0.47647092 0.82790602 0.55081392 0.79803577 0.54899289 0.4548036  0.7078525  0.27591429 0.19158583 0.72932517 0.89305992 0.         0.77947303 0.08117278 1.06444505 0.64028914 0.82967266 0.88605011 0.60908297 0.85359244 0.49112511 0.95664267 0.71400525 0.59484198 0.86958002 0.62842892 0.92159496 0.71917853 0.8834015  0.16029357 0.34694824 0.2053585  0.54378011 0.44623637 0.22795566 0.92204788 0.67773303 0.3913555  0.11446257 0.90183578 0.32110637 0.92564912 0.43265331 0.26268851 0.45115085 0.83426856 0.89958633 0.65274607 0.74409042 0.77819801 0.85259883 0.7733313  0.13990752 0.86286529 0.32950866 0.58185046 0.22421849]\n",
            " [0.83521359 0.90949847 0.3305206  0.56965435 0.20745374 0.7005036  1.1389185  0.39431448 1.01895448 0.71281483 0.6390512  0.19655139 0.50305685 0.79615035 0.91629506 1.04963815 0.60386186 0.22357619 0.63175042 0.8424132  0.31071111 0.60861213 0.98942205 0.85089159 0.79035428 0.03210067 0.63124137 0.59672533 0.97659232 0.4947337  0.39270757 0.69443561 0.09853265 0.52754141 0.79386385 0.41366865 0.6941024  0.62661922 0.79378518 0.26213753 0.07883649 0.97106269 0.93142103 0.51376787 0.22759579 0.84526532 0.26675708 0.79251736 0.64956378 0.59285876 0.51563596 0.86126646 0.68353253 0.36940891 0.77947303 0.         0.81964092 0.87265707 0.98314662 0.47300641 0.78142023 0.66127528 0.84319031 0.84047875 0.70276655 0.38607899 0.23928397 0.38718584 0.33453146 0.74590546 0.07325602 0.61828498 0.84387313 0.86370584 0.66102733 0.60900028 0.82377008 0.59202981 0.71003268 0.10233103 0.67401947 0.89386097 0.70068512 0.8743844  0.85734399 0.36297745 0.69116363 0.39817007 0.08539911 0.53391749 0.37083324 0.97451568 0.60816335 0.75785508 0.5419563  0.66266917 0.74927052 0.57258208 0.991559   0.64854491]\n",
            " [0.47261492 0.79297151 0.72627424 0.39437342 0.6740216  0.40559363 0.59979688 0.46591019 0.32327577 0.29967418 0.49058054 0.81866822 0.61436678 0.85834108 0.19826851 0.56103576 0.25735718 0.75048699 0.26914531 0.64262497 0.50947207 0.27527024 0.53319312 0.26737665 0.94794696 0.84882183 0.19243176 0.71169015 0.27902879 0.33513164 0.60911083 0.1773106  0.72158818 0.40555363 0.42341154 0.47345602 0.37939453 0.40112754 0.2840423  0.67677795 0.86833978 0.42258033 0.55627897 0.46540458 0.84740366 0.49174506 0.81286583 0.49634583 0.421087   0.68493784 0.305069   0.11179107 0.69669953 0.90064994 0.08117278 0.81964092 0.         1.03047153 0.57145508 0.82385956 0.85042176 0.57525981 0.809919   0.42989042 0.93299176 0.71514886 0.61985519 0.87428963 0.63711514 0.89155223 0.75573556 0.86456559 0.08099318 0.27566672 0.284657   0.51612392 0.38523276 0.2386383  0.8957049  0.71731825 0.35408537 0.10292044 0.87536157 0.24699236 0.88463684 0.48653008 0.34382518 0.46558083 0.86850461 0.89036917 0.65611112 0.68158703 0.75586632 0.81761477 0.7581441  0.15759043 0.82930671 0.32001356 0.50927392 0.21052065]\n",
            " [0.60995695 0.32158711 0.55531137 1.12754507 0.71261553 0.62635836 0.80026424 0.7273992  0.9392885  0.73186055 0.54182011 0.6784962  0.47868545 0.17445042 0.9419037  0.72236356 1.02948428 0.65417581 1.08035786 0.43739617 0.83248253 0.7810636  0.68142427 1.25284496 0.09197745 0.86763715 0.96554392 0.34998694 0.93085116 0.82255251 0.56721328 0.85982771 0.86147232 0.67157631 0.63624087 1.02314319 1.22621474 0.63404686 0.76947548 0.6474707  0.82539366 0.77561702 0.59898619 0.61319346 0.65440554 0.5970556  0.60693744 0.56280991 0.61042489 0.37273307 0.87170672 0.96800773 0.33512271 0.52553123 1.06444505 0.87265707 1.03047153 0.         0.63468676 0.39987181 0.18064099 0.45579001 0.25048177 0.65581181 0.16991306 0.50734662 0.72887066 0.49565975 0.60025879 0.15004664 0.82439988 0.25647724 0.98021728 0.8197152  1.12582415 0.52194    0.68924554 0.86172052 0.17027931 0.85062621 0.67648094 1.1323454  0.18573998 0.85488256 0.1713071  0.96050756 1.19854395 0.72219913 0.81743761 0.34248831 0.55272717 0.50865366 0.31237188 0.21290429 0.35619307 0.93768072 0.20159673 0.7469703  0.70864897 0.84209831]\n",
            " [0.15250459 0.31717067 0.70328094 0.86794223 0.77649474 0.29514115 0.18151026 0.61459352 0.34098448 0.34229256 0.34451013 0.86207946 0.50539204 0.47594621 0.40110259 0.09081674 0.72165508 0.79467442 0.76311455 0.21148539 0.74151543 0.46989833 0.05063538 0.83827829 0.58619323 0.99929401 0.62889827 0.48671292 0.3521393  0.59444143 0.59935669 0.47034634 0.91086287 0.47537785 0.20520545 0.85257343 0.9100433  0.36958537 0.30217006 0.73065058 0.98698614 0.1701839  0.05352915 0.47219722 0.86778243 0.13919864 0.81129105 0.19068433 0.34051895 0.46978589 0.62029045 0.46815226 0.40182753 0.82699135 0.64028914 0.98314662 0.57145508 0.63468676 0.         0.67815762 0.4776848  0.34386653 0.38561505 0.16749323 0.62951895 0.65484996 0.74625279 0.78743266 0.65776422 0.5506075  0.91057219 0.6134734  0.49441268 0.29602679 0.79964844 0.37702284 0.20685425 0.55230586 0.58119776 0.90104536 0.34275476 0.65183674 0.56502139 0.32719616 0.46338784 0.81911686 0.87424914 0.60905547 0.98234742 0.70168155 0.63477924 0.13822108 0.51451185 0.45884746 0.56818544 0.57530386 0.47811574 0.47578769 0.08101301 0.48959162]\n",
            " [0.56685682 0.48962836 0.16359963 0.79856865 0.3219221  0.48856264 0.85830116 0.40327543 0.86468977 0.56815384 0.38662233 0.28062347 0.21621762 0.33909367 0.81263917 0.76454115 0.73527781 0.25505875 0.78359177 0.48134751 0.4743857  0.54859087 0.70574664 0.98827108 0.31783435 0.46913935 0.69764149 0.19261289 0.8372105  0.52997702 0.22849859 0.64825575 0.46451084 0.41833867 0.55516243 0.66987308 0.91285163 0.44706942 0.6386392  0.25972146 0.4292914  0.74470072 0.62570948 0.35887888 0.26066462 0.56634173 0.20894598 0.51051728 0.44426538 0.20840492 0.57878651 0.8018881  0.28499313 0.15856164 0.82967266 0.47300641 0.82385956 0.39987181 0.67815762 0.         0.32492177 0.34250582 0.40743123 0.59673056 0.23018446 0.13024732 0.34896298 0.11899493 0.23334247 0.27688915 0.4251646  0.14585481 0.80153679 0.70910723 0.82774478 0.34866687 0.60612986 0.60265249 0.23835949 0.45390482 0.50701588 0.92448998 0.23112452 0.73669035 0.40046243 0.60354151 0.89162539 0.3999202  0.4215859  0.07730211 0.19159715 0.61348838 0.17509807 0.3089704  0.11099939 0.69008899 0.295583   0.50409287 0.72115446 0.61357834]\n",
            " [0.43437313 0.19299696 0.45125602 0.96628711 0.59812469 0.44583468 0.65269488 0.5738181  0.76519367 0.55145651 0.36351751 0.59858884 0.32687893 0.01474081 0.76253498 0.56795851 0.86016828 0.55784699 0.91098944 0.269908   0.68924844 0.60524915 0.52097041 1.07658281 0.11000815 0.7825238  0.79207595 0.19947034 0.75437779 0.65657961 0.42994818 0.68095946 0.75246467 0.50192354 0.45733757 0.87302112 1.05933652 0.45620696 0.58915894 0.53293584 0.74752656 0.60580332 0.43614784 0.44644056 0.58321865 0.4228217  0.52836739 0.3849615  0.4313544  0.21601039 0.70468609 0.78740835 0.15866901 0.4784174  0.88605011 0.78142023 0.85042176 0.18064099 0.4776848  0.32492177 0.         0.27698883 0.10321949 0.47934409 0.16278047 0.39667044 0.60333604 0.44100716 0.47365928 0.07699518 0.72354039 0.19150535 0.79958802 0.64074206 0.95625629 0.34643422 0.51096205 0.68830578 0.11724241 0.7413208  0.49669406 0.95209044 0.10914717 0.67567087 0.07624167 0.81340197 1.03030491 0.5682089  0.74021885 0.29996427 0.42741788 0.36594004 0.17538787 0.03399825 0.23947562 0.76162805 0.03278597 0.57328102 0.54614147 0.66493848]\n",
            " [0.22442608 0.28374711 0.36156326 0.70927184 0.45460579 0.17593505 0.5202966  0.34584236 0.53565121 0.27874228 0.0866338  0.5225541  0.163991   0.28619911 0.50657173 0.42620271 0.59187095 0.45808656 0.64225086 0.18198231 0.47522278 0.32989985 0.36615425 0.80015307 0.37278029 0.67333739 0.51863994 0.16284828 0.51451925 0.39700027 0.26868756 0.40412664 0.60186231 0.239932   0.21831743 0.637074   0.79309578 0.17943293 0.32827117 0.4006427  0.65482386 0.40355999 0.29038484 0.19631933 0.52569449 0.22403243 0.46860626 0.16801164 0.15463497 0.13923463 0.44204612 0.51948941 0.12149264 0.48507582 0.60908297 0.66127528 0.57525981 0.45579001 0.34386653 0.34250582 0.27698883 0.         0.25874292 0.25649988 0.3670512  0.31150658 0.43568964 0.44603484 0.32730409 0.31699029 0.59125454 0.31523891 0.52873736 0.3903022  0.68697085 0.07747471 0.27214558 0.41551112 0.32536873 0.59117081 0.22123083 0.67755367 0.30513808 0.42257074 0.32175608 0.5851106  0.76238445 0.33975846 0.64946452 0.38002581 0.29725727 0.3133268  0.20252753 0.24352136 0.23780402 0.48563028 0.25427369 0.30114604 0.379705   0.38829386]\n",
            " [0.36485009 0.09002277 0.51387485 0.96758284 0.64947956 0.40595814 0.55610561 0.59144932 0.69110493 0.51107408 0.34195472 0.66941104 0.35811187 0.09632213 0.70215324 0.4745237  0.85006804 0.62132784 0.90025651 0.18803887 0.71522016 0.58467062 0.43149892 1.04965004 0.20368562 0.84749884 0.7744848  0.24653811 0.68505396 0.65522568 0.46964837 0.64865923 0.80420908 0.4980223  0.39758418 0.88889519 1.05151496 0.4327976  0.53605328 0.58611529 0.81658914 0.52566275 0.34857381 0.44985457 0.65829504 0.35050576 0.60152823 0.32245454 0.40338868 0.2531261  0.70071777 0.7366026  0.1680642  0.56490501 0.85359244 0.84319031 0.809919   0.25048177 0.38561505 0.40743123 0.10321949 0.25874292 0.         0.41151535 0.26599771 0.45776432 0.64661913 0.52606876 0.52028851 0.18011873 0.7808075  0.28646608 0.75210406 0.57940362 0.94473483 0.33566614 0.44816207 0.67228969 0.22002619 0.79306424 0.46273403 0.90928316 0.21011992 0.61509315 0.08065617 0.83330533 1.02046904 0.58551207 0.80969911 0.39367675 0.47702708 0.26624816 0.23923315 0.1020725  0.30846875 0.73796682 0.11976093 0.55884961 0.45838271 0.6392755 ]\n",
            " [0.04693143 0.37458954 0.58741606 0.70166804 0.63720411 0.14004769 0.29855532 0.45895443 0.28728832 0.1750576  0.21915539 0.7385746  0.39648722 0.48275058 0.29239272 0.21182473 0.5567036  0.6680042  0.59958162 0.22671666 0.58213865 0.30245221 0.154643   0.69175483 0.58808322 0.85926106 0.46477295 0.41864401 0.27514552 0.4281575  0.47235356 0.30789252 0.76218014 0.31888628 0.04694742 0.68563419 0.74850524 0.21479336 0.1469406  0.59856038 0.85237596 0.14811248 0.13379192 0.32709348 0.74975907 0.06389435 0.69602499 0.09587427 0.19108718 0.39568016 0.45291089 0.33846514 0.35593893 0.73152707 0.49112511 0.84047875 0.42989042 0.65581181 0.16749323 0.59673056 0.47934409 0.25649988 0.41151535 0.         0.60617211 0.54563216 0.60131268 0.69388167 0.52826291 0.5403611  0.76727127 0.56684055 0.35963561 0.17038414 0.63758932 0.25713288 0.04489698 0.38515298 0.56016489 0.75290313 0.17847569 0.52050572 0.54108424 0.20619813 0.49165499 0.65374571 0.71311223 0.45375299 0.84851468 0.63651573 0.51362586 0.25297485 0.45614293 0.45172902 0.4941678  0.41269196 0.46839292 0.30998243 0.15169447 0.32366421]\n",
            " [0.56462282 0.35571155 0.38804511 0.98509309 0.546383   0.54273549 0.80799138 0.5818915  0.89307378 0.64322001 0.44552923 0.50865456 0.33988947 0.1710623  0.87327025 0.72032971 0.89894239 0.48495012 0.94941513 0.41821047 0.67748036 0.66831621 0.66966361 1.13570341 0.09607504 0.69777441 0.84381709 0.22237945 0.87651967 0.68949417 0.41316104 0.75696991 0.69327744 0.5477355  0.57625171 0.87119101 1.09024954 0.53203585 0.69521307 0.48183229 0.65586228 0.74318007 0.5842351  0.48637597 0.48506747 0.55634287 0.43706127 0.51035429 0.51486372 0.24882652 0.73942847 0.88521044 0.25141666 0.35931456 0.95664267 0.70276655 0.93299176 0.16991306 0.62951895 0.23018446 0.16278047 0.3670512  0.26599771 0.60617211 0.         0.34262072 0.56607779 0.32758994 0.43971998 0.08618846 0.65516429 0.09025337 0.89271827 0.75533526 0.99482449 0.41710696 0.63113288 0.74134283 0.04834552 0.68252082 0.58322317 1.03590951 0.06548779 0.78848384 0.21950295 0.80686019 1.06481864 0.57716944 0.64794368 0.17428443 0.39261525 0.5257154  0.17855483 0.17249935 0.20120055 0.8230022  0.15286587 0.62943087 0.69272452 0.73245854]\n",
            " [0.52430743 0.52763465 0.05620491 0.66850137 0.20563635 0.42016184 0.82861854 0.27642087 0.79264097 0.48292307 0.32655068 0.21695331 0.15044694 0.41140867 0.72592238 0.7347909  0.60905965 0.16356715 0.65662211 0.48082168 0.34450385 0.44171657 0.67401493 0.86487512 0.41886504 0.38973564 0.57682386 0.21208068 0.76036654 0.4070635  0.10661383 0.54331774 0.35758317 0.31291514 0.50033579 0.54006777 0.78351627 0.36449622 0.5597434  0.14022453 0.3603032  0.6922296  0.60132081 0.25940723 0.21517278 0.52820689 0.15749431 0.47133705 0.370333   0.21180494 0.45478124 0.70474814 0.30296058 0.19329795 0.71400525 0.38607899 0.71514886 0.50734662 0.65484996 0.13024732 0.39667044 0.31150658 0.45776432 0.54563216 0.34262072 0.         0.22380192 0.16134131 0.10312525 0.3685401  0.32687212 0.25253159 0.70086572 0.63273303 0.70032631 0.28851607 0.54585951 0.48604965 0.33793891 0.34651845 0.42479635 0.81355813 0.32519075 0.65651368 0.47216251 0.4739234  0.76291898 0.27354622 0.35376138 0.20753972 0.06309613 0.61616064 0.22228607 0.37206782 0.15792662 0.57411935 0.36421275 0.39627435 0.68444671 0.50503656]\n",
            " [0.59706145 0.70190902 0.18655606 0.47170039 0.05492787 0.46129732 0.89982048 0.16267586 0.78699163 0.47648463 0.40373082 0.2027051  0.28985871 0.61780452 0.69101135 0.81095365 0.44744999 0.14344191 0.48819848 0.61756929 0.14112234 0.38099799 0.75095923 0.70872802 0.63895202 0.2596425  0.44539246 0.40542809 0.74620038 0.28473752 0.17702329 0.47445631 0.16663131 0.28919647 0.55477066 0.32888398 0.5940505  0.38733546 0.55804652 0.09175227 0.26159349 0.73218878 0.69517043 0.27505702 0.23609224 0.60771915 0.2180854  0.55604413 0.41054647 0.39425367 0.31899197 0.64438298 0.47968381 0.33198636 0.59484198 0.23928397 0.61985519 0.72887066 0.74625279 0.34896298 0.60333604 0.43568964 0.64661913 0.60131268 0.56607779 0.22380192 0.         0.32328062 0.13000748 0.58595518 0.16603153 0.47585429 0.63087549 0.62928028 0.52746858 0.37625454 0.5845795  0.38224484 0.55869243 0.1562007  0.43538081 0.70600421 0.54449197 0.64238326 0.67593776 0.26209452 0.57926639 0.16537325 0.25965548 0.42496387 0.17719882 0.7461533  0.42908003 0.57473684 0.37374101 0.46343467 0.57057796 0.3412928  0.7525464  0.42903488]\n",
            " [0.66794922 0.60862162 0.15190697 0.79353399 0.28108477 0.575161   0.96591845 0.42315108 0.95022921 0.64306769 0.47716387 0.1908747  0.29911273 0.45486261 0.88669728 0.87185352 0.75202186 0.19411762 0.79731442 0.59592737 0.46215285 0.60211322 0.81209069 1.01163885 0.42133053 0.37746464 0.72855616 0.30718882 0.91924337 0.55788235 0.26546272 0.70386799 0.39973255 0.47396927 0.65011806 0.65203108 0.91401775 0.52358322 0.71870595 0.23288743 0.33195184 0.84178991 0.73437903 0.42068229 0.16116268 0.66937508 0.12453122 0.61270292 0.52692543 0.31959103 0.60347183 0.86604494 0.4013411  0.04015813 0.86958002 0.38718584 0.87428963 0.49565975 0.78743266 0.11899493 0.44100716 0.44603484 0.52606876 0.69388167 0.32758994 0.16134131 0.32328062 0.         0.24228512 0.3871461  0.35247732 0.25420746 0.86188287 0.79122851 0.83939882 0.43859482 0.69834484 0.64208922 0.34571217 0.39023339 0.58409974 0.9715748  0.34175632 0.81600803 0.5156817  0.58530817 0.89684716 0.42136318 0.32382464 0.15336456 0.21818005 0.72935976 0.29353207 0.42681132 0.22713521 0.73008097 0.41268221 0.55661268 0.82555978 0.66479114]\n",
            " [0.51539417 0.57988904 0.09057597 0.56586743 0.13050127 0.39237652 0.82249892 0.18094253 0.74995662 0.43475482 0.31443112 0.21133077 0.16910454 0.4881754  0.67026557 0.73042988 0.51170125 0.13985782 0.55818389 0.5079642  0.24160602 0.37052521 0.66944088 0.77011864 0.50983641 0.34603613 0.4863272  0.27665104 0.71369069 0.31565832 0.05887512 0.47184928 0.28428226 0.24975635 0.48142368 0.43716771 0.68190977 0.32550211 0.51547348 0.07348719 0.32949691 0.66928561 0.60494732 0.20972172 0.22759333 0.52296842 0.1813689  0.46783586 0.34022705 0.26717656 0.36125559 0.63894132 0.35510305 0.26466074 0.62842892 0.33453146 0.63711514 0.60025879 0.65776422 0.23334247 0.47365928 0.32730409 0.52028851 0.52826291 0.43971998 0.10312525 0.13000748 0.24228512 0.         0.45627942 0.26606041 0.34954741 0.63146545 0.58899823 0.60123986 0.28074148 0.5200593  0.40180997 0.42997973 0.27317415 0.38245246 0.73238562 0.41529248 0.60853859 0.54672824 0.37120559 0.66214045 0.17908007 0.32467763 0.31064363 0.04754173 0.64061718 0.2991267  0.44547709 0.24437491 0.48945038 0.44088244 0.3254816  0.67540642 0.43021659]\n",
            " [0.49685901 0.26964076 0.41997516 0.97749899 0.57393094 0.49179956 0.72727466 0.57761393 0.82753916 0.59568342 0.40098582 0.55676907 0.32872461 0.08487767 0.81679835 0.64122693 0.88047007 0.52348535 0.93132031 0.34057802 0.6845816  0.63585097 0.5925322  1.10721159 0.05879105 0.74416813 0.81827357 0.19995394 0.81401216 0.67298866 0.4199023  0.71827585 0.72589852 0.5231955  0.51434528 0.87408661 1.07657355 0.49177006 0.64056191 0.50836151 0.7057896  0.67227356 0.50727043 0.46411875 0.53752704 0.48686451 0.48531513 0.44473894 0.47047553 0.22299311 0.72228825 0.83559496 0.19574527 0.42243917 0.92159496 0.74590546 0.89155223 0.15004664 0.5506075  0.27688915 0.07699518 0.31699029 0.18011873 0.5403611  0.08618846 0.3685401  0.58595518 0.3871461  0.45627942 0.         0.69251994 0.13295762 0.84558728 0.69647494 0.97681127 0.37781648 0.5688705  0.71459431 0.04417616 0.71487313 0.53794644 0.99409502 0.04577119 0.73066803 0.13622213 0.81195493 1.04916541 0.57237264 0.69816367 0.23856601 0.40883621 0.44215457 0.16284203 0.09196735 0.2123677  0.79229809 0.07324549 0.60028    0.61677726 0.69807242]\n",
            " [0.76228575 0.84445091 0.27297192 0.52967838 0.13665116 0.62728176 1.06573577 0.32209943 0.94741596 0.64014689 0.56675678 0.16557564 0.43515446 0.73827793 0.84632128 0.97657745 0.54925377 0.17023153 0.58069014 0.77285206 0.24649227 0.53769058 0.91642157 0.80201632 0.73953221 0.09603192 0.56978051 0.53439919 0.90541806 0.42693655 0.32337847 0.62537183 0.0548515  0.45442509 0.72067769 0.37321575 0.65533763 0.55336536 0.72127396 0.19546155 0.11486538 0.89787856 0.85900761 0.44065974 0.20269018 0.77249738 0.22808352 0.72001223 0.57639419 0.52879575 0.45077631 0.7932656  0.61872699 0.34155259 0.71917853 0.07325602 0.75573556 0.82439988 0.91057219 0.4251646  0.72354039 0.59125454 0.7808075  0.76727127 0.65516429 0.32687212 0.16603153 0.35247732 0.26606041 0.69251994 0.         0.56826372 0.77678641 0.79151863 0.61287722 0.53726331 0.75052348 0.52487405 0.65862384 0.05015724 0.6008694  0.83320273 0.64793206 0.80276902 0.79895017 0.31618075 0.64912295 0.32579738 0.11679531 0.49134634 0.30503024 0.90417569 0.54885204 0.6985608  0.48453916 0.59826135 0.69105968 0.50084336 0.91840073 0.57946786]\n",
            " [0.52888438 0.37477463 0.29898311 0.89836715 0.45685339 0.48667368 0.79468961 0.49520048 0.85025562 0.58230436 0.38543944 0.4264745  0.25881892 0.20441706 0.81932154 0.70361444 0.81652062 0.39812513 0.86668466 0.40392354 0.58793133 0.59501319 0.64898523 1.05778661 0.17210201 0.61492972 0.76516199 0.15586015 0.82975814 0.60699179 0.32439919 0.6874618  0.60499994 0.47056024 0.53214647 0.78208919 1.00542355 0.46630044 0.64084384 0.39206063 0.57504072 0.70986004 0.56447099 0.40862971 0.40570335 0.52341453 0.35478573 0.47263023 0.45302884 0.18238098 0.65697779 0.82414456 0.21442655 0.28984301 0.8834015  0.61828498 0.86456559 0.25647724 0.6134734  0.14585481 0.19150535 0.31523891 0.28646608 0.56684055 0.09025337 0.25253159 0.47585429 0.25420746 0.34954741 0.13295762 0.56826372 0.         0.82931131 0.70509451 0.91194728 0.35313077 0.58659573 0.66389017 0.09265232 0.59416145 0.52103278 0.96733175 0.0875895  0.73671724 0.26367112 0.71746038 0.98080476 0.49066664 0.56729902 0.10845991 0.30252768 0.52526296 0.11310856 0.18439817 0.11471267 0.74751192 0.16720356 0.55427904 0.66925505 0.65997612]\n",
            " [0.40409707 0.72907953 0.71809141 0.46211895 0.68350821 0.35420958 0.5188164  0.47082888 0.24588813 0.25003681 0.44722241 0.82399393 0.58742189 0.80654481 0.11878994 0.48085876 0.31770842 0.75364418 0.33754322 0.57868085 0.53369079 0.26102565 0.45472689 0.34696203 0.9006008  0.87170735 0.23826851 0.67425298 0.20042044 0.34991919 0.5969715  0.15971408 0.7472536  0.38795337 0.35846825 0.52482557 0.4571984  0.36307283 0.217669   0.67845174 0.88670342 0.34234307 0.48207179 0.44379948 0.85006619 0.42275798 0.81114115 0.43307693 0.37787038 0.64747866 0.33014947 0.03135713 0.64984934 0.89088766 0.16029357 0.84387313 0.08099318 0.98021728 0.49441268 0.80153679 0.79958802 0.52873736 0.75210406 0.35963561 0.89271827 0.70086572 0.63087549 0.86188287 0.63146545 0.84558728 0.77678641 0.82931131 0.         0.19852102 0.35825746 0.47666167 0.3157627  0.25194289 0.8531485  0.7419238  0.30949945 0.16087037 0.83281665 0.16790458 0.82877821 0.52921937 0.42126032 0.46945746 0.88612335 0.86416591 0.64485744 0.60871214 0.71820725 0.76758082 0.72734125 0.18946809 0.78050261 0.30633771 0.43009612 0.20314832]\n",
            " [0.2171191  0.54497169 0.66404627 0.60621914 0.67477919 0.2213607  0.34309227 0.4694374  0.16099213 0.1547082  0.32440753 0.79808015 0.49491222 0.64548668 0.12274963 0.28987649 0.45581028 0.72559711 0.49030735 0.39670849 0.57135888 0.26066308 0.25778589 0.54288681 0.74741364 0.88718993 0.36270585 0.55047307 0.12824298 0.39046417 0.5409682  0.20890235 0.77466629 0.34373454 0.1834838  0.62648155 0.62923396 0.26827729 0.07357471 0.65090906 0.89046625 0.15427408 0.28458021 0.37991498 0.81658468 0.23415136 0.76849893 0.25747264 0.26527463 0.52492558 0.39655361 0.17332832 0.50434288 0.82563881 0.34694824 0.86370584 0.27566672 0.8197152  0.29602679 0.70910723 0.64074206 0.3903022  0.57940362 0.17038414 0.75533526 0.63273303 0.62928028 0.79122851 0.58899823 0.69647494 0.79151863 0.70509451 0.19852102 0.         0.52163985 0.3612517  0.13124233 0.31444532 0.71149749 0.76699016 0.20830247 0.35743377 0.69167191 0.03584732 0.65887227 0.6103276  0.59294395 0.46573386 0.88806589 0.76027165 0.58760328 0.41207385 0.5920371  0.6111787  0.61736739 0.30588156 0.62652943 0.29173511 0.23492649 0.24488909]\n",
            " [0.67039798 0.95288683 0.68893504 0.1203214  0.58014902 0.55630487 0.86325863 0.42447322 0.60405175 0.46775592 0.60279287 0.72562956 0.65493895 0.96741764 0.47629774 0.81000613 0.09634429 0.6709096  0.04550331 0.81082591 0.387795   0.36256019 0.77074444 0.18987937 1.03560196 0.69292442 0.17517342 0.7783288  0.55812549 0.30533231 0.59962026 0.32979809 0.56553298 0.45465584 0.61366346 0.25270976 0.11108434 0.51319755 0.49776753 0.61021432 0.72664763 0.67591147 0.77137768 0.51270288 0.76150933 0.68970573 0.74499233 0.67343057 0.54452959 0.75409062 0.25542607 0.38925506 0.79802674 0.85465141 0.2053585  0.66102733 0.284657   1.12582415 0.79964844 0.82774478 0.95625629 0.68697085 0.94473483 0.63758932 0.99482449 0.70032631 0.52746858 0.83939882 0.60123986 0.97681127 0.61287722 0.91194728 0.35825746 0.52163985 0.         0.61195562 0.59452029 0.27304129 0.96801971 0.5653663  0.49549282 0.29640569 0.94878129 0.50266802 1.00814905 0.29812413 0.07672446 0.42785961 0.7293506  0.90346541 0.63735378 0.88503879 0.81960641 0.92227827 0.79733702 0.22489736 0.92867955 0.38593368 0.75206923 0.31848125]\n",
            " [0.23739215 0.36018772 0.3315568  0.6320014  0.40159782 0.1400595  0.54406922 0.27239524 0.51602801 0.2292925  0.03857123 0.48675345 0.1397804  0.35680354 0.46954201 0.45111765 0.51642447 0.41819744 0.56700204 0.24717362 0.40296383 0.25919599 0.39005321 0.73095346 0.43548636 0.62371663 0.44574753 0.19764591 0.48904314 0.31966987 0.22239887 0.34104876 0.54281278 0.16252208 0.21214745 0.56044392 0.71722458 0.1149991  0.29242447 0.35370418 0.61005339 0.40414521 0.32425112 0.12066931 0.49519378 0.24331071 0.44033455 0.18743632 0.1001264  0.17090774 0.36510334 0.47101522 0.18782815 0.47552472 0.54378011 0.60900028 0.51612392 0.52194    0.37702284 0.34866687 0.34643422 0.07747471 0.33566614 0.25713288 0.41710696 0.28851607 0.37625454 0.43859482 0.28074148 0.37781648 0.53726331 0.35313077 0.47666167 0.3612517  0.61195562 0.         0.25979191 0.34207299 0.37968891 0.53244865 0.16790469 0.61901081 0.35936208 0.39015329 0.39622845 0.5095472  0.68695951 0.26631006 0.60535656 0.39937146 0.2596464  0.37079693 0.24154797 0.31249266 0.25709615 0.41579197 0.320966   0.22710528 0.3980678  0.32041648]\n",
            " [0.08842363 0.41569711 0.58453101 0.66109585 0.62325373 0.12775942 0.32021373 0.43649368 0.26366445 0.13695453 0.22122371 0.7313132  0.39930567 0.51526828 0.25399167 0.23952191 0.51499811 0.65983617 0.5570927  0.26636613 0.5559799  0.26639112 0.18681691 0.64685789 0.6185204  0.84382517 0.4225304  0.43491021 0.24549625 0.39502798 0.46601985 0.26472642 0.74247541 0.29752064 0.05488372 0.65056625 0.70530317 0.19781346 0.10204368 0.58845211 0.83958937 0.14930238 0.17733495 0.31373185 0.74470845 0.10700051 0.69244677 0.12649521 0.17984009 0.4106639  0.41679592 0.29539145 0.37975694 0.73504175 0.44623637 0.82377008 0.38523276 0.68924554 0.20685425 0.60612986 0.51096205 0.27214558 0.44816207 0.04489698 0.63113288 0.54585951 0.5845795  0.69834484 0.5200593  0.5688705  0.75052348 0.58659573 0.3157627  0.13124233 0.59452029 0.25979191 0.         0.34610426 0.58613645 0.73354755 0.15206574 0.4765967  0.56663405 0.1669496  0.52766037 0.62137614 0.66977681 0.43158913 0.83610685 0.65043455 0.50935668 0.29785585 0.47441673 0.48207009 0.5072484  0.36970107 0.49796051 0.27845178 0.17777975 0.28274184]\n",
            " [0.41117194 0.68013331 0.49193371 0.31794569 0.43602032 0.28632581 0.64898003 0.22742496 0.44832458 0.21009566 0.33042099 0.58008064 0.40553071 0.69884639 0.33205391 0.57998362 0.18067168 0.51188321 0.22941136 0.53964687 0.28235681 0.09025262 0.53178827 0.39436332 0.77314169 0.61976872 0.10384953 0.52011436 0.40231625 0.09831724 0.37945655 0.11023047 0.49574614 0.19364865 0.35381923 0.31248434 0.3818686  0.24017653 0.26422271 0.43840996 0.63525425 0.45892339 0.51691501 0.25535532 0.60879798 0.42976384 0.57506132 0.40644459 0.27154822 0.49452308 0.08413608 0.2696376  0.52963788 0.66639311 0.22795566 0.59202981 0.2386383  0.86172052 0.55230586 0.60265249 0.68830578 0.41551112 0.67228969 0.38515298 0.74134283 0.48604965 0.38224484 0.64208922 0.40180997 0.71459431 0.52487405 0.66389017 0.25194289 0.31444532 0.27304129 0.34207299 0.34610426 0.         0.71015692 0.49021061 0.22587525 0.33078257 0.69031157 0.31131276 0.7372388  0.29734562 0.34939379 0.22729711 0.63486309 0.67365766 0.42488107 0.62221864 0.56317369 0.6543245  0.55157154 0.08808969 0.66203179 0.11502488 0.51873401 0.0695583 ]\n",
            " [0.51808518 0.31001205 0.38735144 0.96342358 0.54352034 0.50130176 0.75965235 0.56126251 0.8473197  0.60321252 0.40617895 0.5189593  0.31461499 0.12699967 0.83030651 0.67200589 0.87182075 0.48882103 0.92252773 0.36992619 0.66312591 0.63447119 0.62147658 1.10412923 0.08107229 0.70719435 0.81332168 0.19024755 0.83162946 0.66300919 0.39775249 0.72062448 0.69381818 0.51713551 0.5312971  0.85486316 1.06563216 0.49462602 0.65271508 0.47816337 0.66763132 0.69603438 0.536048   0.45661832 0.49834972 0.50940068 0.44730064 0.4642927  0.47578785 0.21563496 0.71272747 0.84469532 0.20716954 0.3802682  0.92204788 0.71003268 0.8957049  0.17027931 0.58119776 0.23835949 0.11724241 0.32536873 0.22002619 0.56016489 0.04834552 0.33793891 0.55869243 0.34571217 0.42997973 0.04417616 0.65862384 0.09265232 0.8531485  0.71149749 0.96801971 0.37968891 0.58613645 0.71015692 0.         0.68287855 0.54396567 0.9985467  0.0203543  0.7450114  0.18034256 0.79163058 1.03921414 0.55625956 0.65990477 0.19556273 0.38244786 0.47780748 0.14843657 0.12444849 0.18601677 0.79016079 0.10480646 0.59696192 0.64467753 0.69789252]\n",
            " [0.75090943 0.8527699  0.29553946 0.48023004 0.14372267 0.61297429 1.0513337  0.29909392 0.92065892 0.61794749 0.55956765 0.20881792 0.44076728 0.75600902 0.81599405 0.96370869 0.50427283 0.20042234 0.53417285 0.77314547 0.20847144 0.50976429 0.90417528 0.75485902 0.7639507  0.13197816 0.52917978 0.54792952 0.87771305 0.39328575 0.32742479 0.59353509 0.01116303 0.43606553 0.70678474 0.32366697 0.60579612 0.53813902 0.69816776 0.20841575 0.16129785 0.87926931 0.85036706 0.42894516 0.24703349 0.76217009 0.2659424  0.71126451 0.56319468 0.53998212 0.41335215 0.75965755 0.62827496 0.38261194 0.67773303 0.10233103 0.71731825 0.85062621 0.90104536 0.45390482 0.7413208  0.59117081 0.79306424 0.75290313 0.68252082 0.34651845 0.1562007  0.39023339 0.27317415 0.71487313 0.05015724 0.59416145 0.7419238  0.76699016 0.5653663  0.53244865 0.73354755 0.49021061 0.68287855 0.         0.58235972 0.79205399 0.6710596  0.77634928 0.81590241 0.26782224 0.60010991 0.30344503 0.16424302 0.52322733 0.31620234 0.90226192 0.56595459 0.71488356 0.50419869 0.56034108 0.70861739 0.47528685 0.90453599 0.54769626]\n",
            " [0.19285675 0.45975814 0.45582738 0.54242052 0.47655251 0.06081299 0.47214068 0.2845636  0.36899321 0.06175963 0.13780676 0.59291056 0.29096772 0.50497561 0.3056281  0.38919671 0.40591627 0.52058682 0.45336421 0.31541486 0.40450998 0.13620772 0.33307482 0.58700679 0.59400274 0.69501787 0.32069157 0.36544693 0.33558636 0.25229803 0.33299713 0.18604028 0.59112691 0.14652998 0.1375755  0.51113807 0.60577823 0.06055471 0.13500686 0.4469256  0.69330773 0.29711689 0.30070885 0.17273846 0.60988329 0.20998329 0.56081797 0.18091781 0.06837702 0.33875204 0.28207527 0.3031253  0.34271491 0.6179349  0.3913555  0.67401947 0.35408537 0.67648094 0.34275476 0.50701588 0.49669406 0.22123083 0.46273403 0.17847569 0.58322317 0.42479635 0.43538081 0.58409974 0.38245246 0.53794644 0.6008694  0.52103278 0.30949945 0.20830247 0.49549282 0.16790469 0.15206574 0.22587525 0.54396567 0.58235972 0.         0.45632288 0.52361844 0.23190835 0.53429819 0.47636265 0.57221648 0.27973452 0.69024743 0.56343704 0.37939205 0.39788112 0.40920807 0.46370399 0.42293613 0.27807806 0.47522754 0.13345764 0.32798816 0.17932324]\n",
            " [0.56488763 0.88902142 0.8222578  0.41577868 0.76073147 0.50659846 0.65820515 0.55736113 0.36631206 0.40073303 0.59319082 0.90714935 0.71631183 0.95977859 0.25661959 0.63101604 0.30232532 0.84061886 0.2967028  0.73855101 0.58714855 0.37626721 0.61009222 0.20978869 1.05032062 0.924032   0.26351156 0.81459397 0.32848122 0.42329886 0.70713948 0.27989901 0.7953331  0.50624863 0.51842036 0.52198262 0.36863242 0.50401185 0.37771633 0.76816896 0.9472443  0.49340293 0.64189502 0.5667105  0.93736388 0.58359691 0.90541502 0.59255473 0.52362981 0.7878455  0.38724749 0.18411307 0.79903575 0.9967759  0.11446257 0.89386097 0.10292044 1.1323454  0.65183674 0.92448998 0.95209044 0.67755367 0.90928316 0.52050572 1.03590951 0.81355813 0.70600421 0.9715748  0.73238562 0.99409502 0.83320273 0.96733175 0.16087037 0.35743377 0.29640569 0.61901081 0.4765967  0.33078257 0.9985467  0.79205399 0.45632288 0.         0.97820067 0.32477985 0.98482626 0.54615205 0.33663313 0.55758948 0.94800795 0.99182976 0.75361646 0.76898711 0.85876999 0.91944476 0.86050847 0.24420854 0.9313888  0.42041231 0.5840099  0.31101455]\n",
            " [0.49930189 0.3000679  0.37577983 0.94517143 0.53080542 0.48107305 0.74408595 0.54342771 0.82813449 0.58289159 0.38582931 0.51111135 0.29606243 0.12054796 0.81030825 0.65583635 0.85254649 0.47858611 0.90328325 0.35357062 0.64678326 0.61434558 0.60467468 1.08419258 0.09455746 0.69867818 0.79354856 0.17066119 0.81210773 0.64390317 0.38148133 0.70031766 0.68205002 0.49742172 0.51177445 0.83789188 1.04676802 0.4742903  0.63262981 0.46530862 0.66009764 0.67770749 0.51925817 0.43705969 0.49175669 0.490902   0.43962221 0.44523071 0.45543614 0.19581285 0.69356575 0.82441106 0.18733447 0.37739612 0.90183578 0.70068512 0.87536157 0.18573998 0.56502139 0.23112452 0.10914717 0.30513808 0.21011992 0.54108424 0.06548779 0.32519075 0.54449197 0.34175632 0.41529248 0.04577119 0.64793206 0.0875895  0.83281665 0.69167191 0.94878129 0.35936208 0.56663405 0.69031157 0.0203543  0.6710596  0.52361844 0.97820067 0.         0.72510666 0.17752874 0.77497127 1.02017325 0.53836396 0.6524595  0.19449904 0.36775611 0.46409601 0.12946875 0.11130645 0.17092448 0.77011352 0.09189585 0.57698474 0.62751721 0.67769813]\n",
            " [0.25295669 0.58077451 0.68584233 0.5920125  0.68936938 0.25107476 0.36067822 0.48098988 0.14468296 0.17431837 0.35403311 0.81606805 0.52151352 0.68057777 0.08713864 0.3145324  0.4416421  0.74361107 0.4734582  0.43255557 0.57719958 0.26696517 0.28682938 0.51429288 0.78200303 0.89869761 0.34970626 0.58162096 0.10518479 0.39330784 0.56231547 0.2023617  0.78365562 0.36066126 0.21868236 0.62098962 0.60864403 0.29243451 0.09805129 0.66844361 0.9039587  0.17650385 0.31831924 0.40084743 0.83584011 0.26992764 0.78899955 0.29299285 0.29243729 0.55582376 0.39486077 0.14095858 0.53784964 0.8497391  0.32110637 0.8743844  0.24699236 0.85488256 0.32719616 0.73669035 0.67567087 0.42257074 0.61509315 0.20619813 0.78848384 0.65651368 0.64238326 0.81600803 0.60853859 0.73066803 0.80276902 0.73671724 0.16790458 0.03584732 0.50266802 0.39015329 0.1669496  0.31131276 0.7450114  0.77634928 0.23190835 0.32477985 0.72510666 0.         0.69447898 0.6086138  0.57231642 0.47764149 0.90185306 0.78952285 0.60946713 0.44613435 0.62360982 0.64588781 0.64699075 0.29282167 0.66105769 0.30193265 0.26234372 0.24240859]\n",
            " [0.44510006 0.15291652 0.52701632 1.02454604 0.67245851 0.47932809 0.63033946 0.63812994 0.7717611  0.58508453 0.4076161  0.67482723 0.39469169 0.06166482 0.78159614 0.55126707 0.91264994 0.63379271 0.96322746 0.26868982 0.75694548 0.65136773 0.51016894 1.11986941 0.13902835 0.85866167 0.84038865 0.27060801 0.76554392 0.7129409  0.50107515 0.72026247 0.8270572  0.55641968 0.47639835 0.93736943 1.1132832  0.49999068 0.61377409 0.60749132 0.82376801 0.60609822 0.4280597  0.50408059 0.65929418 0.43098328 0.6045665  0.40153424 0.47228319 0.28432259 0.75992098 0.81410919 0.21369512 0.55258396 0.92564912 0.85734399 0.88463684 0.1713071  0.46338784 0.40046243 0.07624167 0.32175608 0.08065617 0.49165499 0.21950295 0.47216251 0.67593776 0.5156817  0.54672824 0.13622213 0.79895017 0.26367112 0.82877821 0.65887227 1.00814905 0.39622845 0.52766037 0.7372388  0.18034256 0.81590241 0.53429819 0.98482626 0.17752874 0.69447898 0.         0.87918525 1.08318021 0.63237224 0.81646027 0.37171441 0.50100408 0.33885579 0.25018685 0.10125341 0.31540511 0.80639807 0.1080735  0.62268794 0.53753115 0.70828082]\n",
            " [0.66836477 0.86880721 0.44551709 0.21641015 0.30708164 0.52715522 0.93673154 0.24186628 0.74477123 0.48643041 0.51992815 0.44323644 0.48673291 0.82688912 0.62489512 0.86076265 0.24624879 0.39916552 0.26946575 0.75190541 0.12975449 0.35747297 0.80738129 0.4879483  0.86866535 0.39483313 0.29448359 0.61588189 0.69832727 0.22642463 0.39411477 0.40718604 0.2675781  0.3567503  0.6139219  0.06685461 0.34195471 0.45716063 0.55418619 0.35339306 0.42907    0.74916157 0.77604415 0.38900171 0.48109751 0.68452004 0.47545175 0.64631488 0.4899652  0.5974505  0.21390591 0.55304981 0.66764689 0.59243047 0.43265331 0.36297745 0.48653008 0.96050756 0.81911686 0.60354151 0.81340197 0.5851106  0.83330533 0.65374571 0.80686019 0.4739234  0.26209452 0.58530817 0.37120559 0.81195493 0.31618075 0.71746038 0.52921937 0.6103276  0.29812413 0.5095472  0.62137614 0.29734562 0.79163058 0.26782224 0.47636265 0.54615205 0.77497127 0.6086138  0.87918525 0.         0.33346118 0.24779402 0.43205223 0.68068943 0.41647752 0.86120306 0.64926489 0.78133517 0.60667256 0.33976592 0.78180158 0.34376479 0.79895836 0.36631005]\n",
            " [0.74648474 1.02942377 0.74800491 0.12237988 0.63014478 0.63302872 0.93288748 0.48913948 0.66668948 0.54408351 0.67861126 0.7727187  0.72522509 1.04165441 0.54003702 0.88225221 0.17054263 0.72205756 0.12022939 0.88754113 0.43818281 0.43910674 0.84435161 0.17977489 1.10794346 0.72326246 0.25183763 0.85006312 0.62165347 0.37631618 0.66460441 0.40522042 0.59896002 0.52839128 0.68987306 0.27751039 0.0363278  0.58944334 0.57211853 0.66532762 0.76075601 0.74701668 0.84685974 0.58542243 0.80965322 0.76583141 0.79732861 0.75006296 0.62093991 0.8262193  0.32687729 0.45258754 0.87236514 0.90986193 0.26268851 0.69116363 0.34382518 1.19854395 0.87424914 0.89162539 1.03030491 0.76238445 1.02046904 0.71311223 1.06481864 0.76291898 0.57926639 0.89684716 0.66214045 1.04916541 0.64912295 0.98080476 0.42126032 0.59294395 0.07672446 0.68695951 0.66977681 0.34939379 1.03921414 0.60010991 0.57221648 0.33663313 1.02017325 0.57231642 1.08318021 0.33346118 0.         0.49296483 0.76416674 0.96799169 0.70032088 0.96127626 0.89079051 0.99635813 0.86609299 0.30061931 1.00235848 0.4616298  0.82499737 0.39506548]\n",
            " [0.456799   0.62271963 0.2695529  0.4079251  0.21537784 0.31526279 0.75098554 0.00608958 0.62231946 0.31483186 0.28237656 0.35474151 0.24380317 0.5813784  0.52575815 0.66553612 0.33563519 0.28526001 0.38367859 0.51267629 0.13713369 0.21579816 0.60722645 0.59187805 0.63026903 0.42146933 0.30739764 0.37336869 0.58110253 0.13684758 0.17183029 0.311203   0.31189333 0.13486713 0.40868924 0.30504119 0.51591091 0.24004688 0.39562318 0.21119716 0.42677567 0.57611462 0.56083549 0.14650985 0.38212186 0.47007203 0.34785025 0.4237617  0.26859828 0.35311772 0.18228274 0.48131187 0.42010704 0.44272387 0.45115085 0.39817007 0.46558083 0.72219913 0.60905547 0.3999202  0.5682089  0.33975846 0.58551207 0.45375299 0.57716944 0.27354622 0.16537325 0.42136318 0.17908007 0.57237264 0.32579738 0.49066664 0.46945746 0.46573386 0.42785961 0.26631006 0.43158913 0.22729711 0.55625956 0.30344503 0.27973452 0.55758948 0.53836396 0.47764149 0.63237224 0.24779402 0.49296483 0.         0.42498164 0.47563942 0.21045394 0.63039014 0.40986467 0.53560718 0.37634468 0.31349103 0.53715371 0.17603831 0.60527033 0.26644411]\n",
            " [0.83855579 0.88135466 0.29773888 0.64386638 0.21378362 0.70988315 1.14511463 0.42212768 1.04638974 0.73445621 0.63843212 0.14170983 0.48661521 0.75482454 0.95028317 1.0537951  0.66595691 0.19265046 0.69744973 0.82743147 0.36086707 0.64032738 0.99294234 0.91864525 0.73882161 0.06078901 0.68449764 0.56552187 1.0058158  0.53655314 0.38334701 0.73196305 0.16527411 0.54570777 0.80157285 0.48726387 0.76921087 0.63841376 0.81624257 0.2517173  0.00827864 0.9850376  0.92959898 0.52247303 0.16314472 0.84685815 0.21285743 0.7921679  0.65792277 0.56535085 0.56350206 0.90121718 0.65658747 0.30062405 0.83426856 0.08539911 0.86850461 0.81743761 0.98234742 0.4215859  0.74021885 0.64946452 0.80969911 0.84851468 0.64794368 0.35376138 0.25965548 0.32382464 0.32467763 0.69816367 0.11679531 0.56729902 0.88612335 0.88806589 0.7293506  0.60535656 0.83610685 0.63486309 0.65990477 0.16424302 0.69024743 0.94800795 0.6524595  0.90185306 0.81646027 0.43205223 0.76416674 0.42498164 0.         0.47538458 0.35246441 0.96172128 0.57116154 0.71923925 0.50274943 0.71091526 0.70887929 0.60094747 0.99767852 0.68621979]\n",
            " [0.60277259 0.48098208 0.23868201 0.8757073  0.39551817 0.53892016 0.88312061 0.47916821 0.91239065 0.62512294 0.43586465 0.33799165 0.27684723 0.31284382 0.86823036 0.79043291 0.81046278 0.32289621 0.859111   0.49655128 0.55162399 0.61557197 0.73351172 1.06183621 0.26867781 0.5269175  0.77031232 0.21881677 0.88759294 0.60397497 0.30384544 0.71371553 0.5335638  0.48594283 0.59759231 0.7470743  0.98955529 0.50469759 0.69176502 0.33479708 0.48340252 0.78315703 0.6507365  0.42511975 0.3122437  0.59995483 0.26716048 0.54595004 0.49812292 0.24085081 0.65314889 0.86276556 0.30019369 0.18552229 0.89958633 0.53391749 0.89036917 0.34248831 0.70168155 0.07730211 0.29996427 0.38002581 0.39367675 0.63651573 0.17428443 0.20753972 0.42496387 0.15336456 0.31064363 0.23856601 0.49134634 0.10845991 0.86416591 0.76027165 0.90346541 0.39937146 0.65043455 0.67365766 0.19556273 0.52322733 0.56343704 0.99182976 0.19449904 0.78952285 0.37171441 0.68068943 0.96799169 0.47563942 0.47538458 0.         0.26854548 0.62335333 0.18717134 0.29172158 0.14330009 0.76050989 0.27512118 0.57182343 0.75142885 0.68089433]\n",
            " [0.49689264 0.53943484 0.07644324 0.60722942 0.1725077  0.38190345 0.80371562 0.21332869 0.74838509 0.43516599 0.29577306 0.22736454 0.13419724 0.44199228 0.67557933 0.71069274 0.54596898 0.16087071 0.59358474 0.47517499 0.28672363 0.38442194 0.64963336 0.80191019 0.46229766 0.37959152 0.51438197 0.23180887 0.71415706 0.34433757 0.04804166 0.48624051 0.32735971 0.25770875 0.46727131 0.48200935 0.72128671 0.32018812 0.51411878 0.10957894 0.35800863 0.6577395  0.58149803 0.20883352 0.23614433 0.50290433 0.18310499 0.4467348  0.33046028 0.22417684 0.39183993 0.65013482 0.31371053 0.24603331 0.65274607 0.37083324 0.65611112 0.55272717 0.63477924 0.19159715 0.42741788 0.29725727 0.47702708 0.51362586 0.39261525 0.06309613 0.17719882 0.21818005 0.04754173 0.40883621 0.30503024 0.30252768 0.64485744 0.58760328 0.63735378 0.2596464  0.50935668 0.42488107 0.38244786 0.31620234 0.37939205 0.75361646 0.36775611 0.60946713 0.50100408 0.41647752 0.70032088 0.21045394 0.35246441 0.26854548 0.         0.60927011 0.25246162 0.39977321 0.19684378 0.51296642 0.39463196 0.3389189  0.65755192 0.44670401]\n",
            " [0.21512254 0.18713221 0.66933554 0.9398753  0.76758321 0.33964329 0.29162452 0.63634706 0.47725291 0.41731252 0.34850207 0.83161064 0.47510737 0.36145453 0.52626011 0.21730572 0.79994272 0.76956019 0.84521118 0.13536949 0.76725814 0.53369928 0.18883489 0.94465894 0.46993358 0.98663656 0.71039977 0.42217684 0.48491618 0.64523741 0.58201217 0.55723611 0.91277291 0.5051473  0.2714048  0.90303044 0.99611786 0.40463057 0.3998799  0.71391012 0.9672741  0.30518963 0.12805572 0.48480418 0.83118689 0.19565076 0.77324937 0.21761722 0.37144479 0.41160956 0.67908858 0.58512821 0.32849535 0.76951531 0.74409042 0.97451568 0.68158703 0.50865366 0.13822108 0.61348838 0.36594004 0.3133268  0.26624816 0.25297485 0.5257154  0.61616064 0.7461533  0.72935976 0.64061718 0.44215457 0.90417569 0.52526296 0.60871214 0.41207385 0.88503879 0.37079693 0.29785585 0.62221864 0.47780748 0.90226192 0.39788112 0.76898711 0.46409601 0.44613435 0.33885579 0.86120306 0.96127626 0.63039014 0.96172128 0.62335333 0.60927011 0.         0.44029475 0.35336945 0.50277618 0.66087573 0.37300739 0.52820069 0.21910993 0.5671827 ]\n",
            " [0.41973353 0.3168839  0.27764932 0.81601418 0.4227396  0.37364945 0.69595025 0.41504186 0.73804609 0.47019503 0.27282492 0.43043041 0.16676925 0.190062   0.70627841 0.60332238 0.72342769 0.38492733 0.77411784 0.31061466 0.52229018 0.4898012  0.546671   0.95747688 0.2204163  0.61071868 0.66596083 0.04417617 0.71694243 0.51457277 0.25859418 0.57932897 0.5771012  0.36971526 0.42020478 0.7112533  0.91730683 0.35576067 0.52778092 0.3575564  0.57817655 0.60078683 0.4636216  0.3087387  0.41913132 0.4155504  0.36229511 0.36307498 0.34098181 0.07094847 0.56429467 0.71227929 0.11341104 0.33342029 0.77819801 0.60816335 0.75586632 0.31237188 0.51451185 0.17509807 0.17538787 0.20252753 0.23923315 0.45614293 0.17855483 0.22228607 0.42908003 0.29353207 0.2991267  0.16284203 0.54885204 0.11310856 0.71820725 0.5920371  0.81960641 0.24154797 0.47441673 0.56317369 0.14843657 0.56595459 0.40920807 0.85876999 0.12946875 0.62360982 0.25018685 0.64926489 0.89079051 0.40986467 0.57116154 0.18717134 0.25246162 0.44029475 0.         0.14978287 0.06934183 0.64447298 0.14266434 0.45091812 0.56514609 0.55405984]\n",
            " [0.40742039 0.19081443 0.42733795 0.93273157 0.57136398 0.4135491  0.63615631 0.54125704 0.73839836 0.51897195 0.32995332 0.57792347 0.29529506 0.04589189 0.73256914 0.54953281 0.8262007  0.53448645 0.87701783 0.24861172 0.65782352 0.57138258 0.50057215 1.04280063 0.1364772  0.7599987  0.75810111 0.1695613  0.72634926 0.62278917 0.40019829 0.64761597 0.72604175 0.46798793 0.42804469 0.84055766 1.02543707 0.42257359 0.5582559  0.50649999 0.72640051 0.58126911 0.41530327 0.41269411 0.56426633 0.39669026 0.50850801 0.35666435 0.39803502 0.18446537 0.67082528 0.7558508  0.12469593 0.46513617 0.85259883 0.75785508 0.81761477 0.21290429 0.45884746 0.3089704  0.03399825 0.24352136 0.1020725  0.45172902 0.17249935 0.37206782 0.57473684 0.42681132 0.44547709 0.09196735 0.6985608  0.18439817 0.76758082 0.6111787  0.92227827 0.31249266 0.48207009 0.6543245  0.12444849 0.71488356 0.46370399 0.91944476 0.11130645 0.64588781 0.10125341 0.78133517 0.99635813 0.53560718 0.71923925 0.29172158 0.39977321 0.35336945 0.14978287 0.         0.21665448 0.72780142 0.01964269 0.53929963 0.52482928 0.63123189]\n",
            " [0.46169869 0.38592561 0.21185956 0.78421848 0.36221219 0.39609967 0.74880302 0.38097131 0.76909171 0.4846947  0.29302843 0.36168431 0.14610037 0.25421008 0.72658124 0.65527077 0.70200891 0.3183922  0.75210446 0.37035691 0.4777168  0.48576913 0.59701321 0.94478612 0.26547766 0.54346653 0.65204486 0.08174147 0.74449209 0.4925327  0.21256695 0.58084467 0.51529104 0.35904535 0.45462014 0.67054778 0.89074565 0.36531653 0.54944033 0.29663599 0.50985728 0.64135944 0.51604715 0.29706812 0.34983384 0.45990402 0.29312605 0.40497089 0.35659433 0.09968288 0.54250882 0.72436521 0.1743714  0.26725689 0.7733313  0.5419563  0.7581441  0.35619307 0.56818544 0.11099939 0.23947562 0.23780402 0.30846875 0.4941678  0.20120055 0.15792662 0.37374101 0.22713521 0.24437491 0.2123677  0.48453916 0.11471267 0.72734125 0.61736739 0.79733702 0.25709615 0.5072484  0.55157154 0.18601677 0.50419869 0.42293613 0.86050847 0.17092448 0.64699075 0.31540511 0.60667256 0.86609299 0.37634468 0.50274943 0.14330009 0.19684378 0.50277618 0.06934183 0.21665448 0.         0.636224   0.20733646 0.44382279 0.61338846 0.55107997]\n",
            " [0.44594293 0.73781847 0.5797127  0.30035147 0.51789454 0.33824483 0.64884647 0.31318181 0.41532747 0.24415717 0.399126   0.66359199 0.49014993 0.77144735 0.29017173 0.58966532 0.15002839 0.59656004 0.187965   0.59232001 0.35218146 0.15661728 0.54784831 0.31516642 0.85047519 0.69162304 0.056932   0.60090302 0.36815448 0.17937992 0.46751811 0.10500784 0.56485547 0.27719182 0.38950124 0.33810917 0.33585015 0.30646284 0.27419265 0.52396125 0.71075301 0.45896208 0.54648071 0.33918576 0.6933692  0.46532301 0.66125298 0.45162306 0.33462927 0.57484671 0.14750807 0.2137379  0.60337109 0.75410044 0.13990752 0.66266917 0.15759043 0.93768072 0.57530386 0.69008899 0.76162805 0.48563028 0.73796682 0.41269196 0.8230022  0.57411935 0.46343467 0.73008097 0.48945038 0.79229809 0.59826135 0.74751192 0.18946809 0.30588156 0.22489736 0.41579197 0.36970107 0.08808969 0.79016079 0.56034108 0.27807806 0.24420854 0.77011352 0.29282167 0.80639807 0.33976592 0.30061931 0.31349103 0.71091526 0.76050989 0.51296642 0.66087573 0.64447298 0.72780142 0.636224   0.         0.73672978 0.19358669 0.53048412 0.09893268]\n",
            " [0.42445307 0.20917245 0.41896357 0.93668927 0.56538371 0.42629859 0.6556436  0.54271734 0.75534604 0.53133371 0.34022344 0.5673368  0.29510647 0.04740515 0.74756349 0.56883429 0.83247158 0.52572018 0.88333203 0.26760542 0.65724687 0.58015514 0.51958141 1.05187103 0.12100135 0.75067146 0.76587386 0.16708248 0.74265465 0.62781335 0.39737748 0.65823849 0.71976329 0.47405583 0.44370763 0.84175747 1.03102931 0.43249315 0.57250455 0.50022071 0.71613536 0.59918685 0.43426086 0.41761687 0.5526439  0.41410125 0.49740371 0.37303772 0.40889723 0.1843686  0.67623259 0.76932525 0.13358351 0.45062127 0.86286529 0.74927052 0.82930671 0.20159673 0.47811574 0.295583   0.03278597 0.25427369 0.11976093 0.46839292 0.15286587 0.36421275 0.57057796 0.41268221 0.44088244 0.07324549 0.69105968 0.16720356 0.78050261 0.62652943 0.92867955 0.320966   0.49796051 0.66203179 0.10480646 0.70861739 0.47522754 0.9313888  0.09189585 0.66105769 0.1080735  0.78180158 1.00235848 0.53715371 0.70887929 0.27512118 0.39463196 0.37300739 0.14266434 0.01964269 0.20733646 0.73672978 0.         0.54706034 0.54365069 0.64073772]\n",
            " [0.32630528 0.57063106 0.41175983 0.41741279 0.38996275 0.18866632 0.59683541 0.17918476 0.4465982  0.14726101 0.21699825 0.5234976  0.29807485 0.58383958 0.35094809 0.5179524  0.29132738 0.45185544 0.34140984 0.43456381 0.28242598 0.04550764 0.46376422 0.50725414 0.65872195 0.59676496 0.21882943 0.40741956 0.40508438 0.11884116 0.29122106 0.14732161 0.48293147 0.08589548 0.27082202 0.37771433 0.49296205 0.12999718 0.22423296 0.37616576 0.60279967 0.4134322  0.43416259 0.14715576 0.54721811 0.34328437 0.50597505 0.31060401 0.16306399 0.38146592 0.15137363 0.31353918 0.41461341 0.58484193 0.32950866 0.57258208 0.32001356 0.7469703  0.47578769 0.50409287 0.57328102 0.30114604 0.55884961 0.30998243 0.62943087 0.39627435 0.3412928  0.55661268 0.3254816  0.60028    0.50084336 0.55427904 0.30633771 0.29173511 0.38593368 0.22710528 0.27845178 0.11502488 0.59696192 0.47528685 0.13345764 0.42041231 0.57698474 0.30193265 0.62268794 0.34376479 0.4616298  0.17603831 0.60094747 0.57182343 0.3389189  0.52820069 0.45091812 0.53929963 0.44382279 0.19358669 0.54706034 0.         0.45623053 0.1095264 ]\n",
            " [0.16067841 0.39464671 0.72945764 0.82845374 0.78743931 0.29157176 0.14751875 0.61042436 0.26086194 0.31311039 0.36190034 0.88419094 0.53401361 0.54562238 0.32948106 0.06180859 0.67957449 0.81459312 0.71805299 0.27640056 0.73248724 0.44285771 0.03046314 0.77662109 0.6557061  1.00989308 0.58596263 0.53332423 0.27469555 0.57254606 0.61836272 0.42694829 0.91384101 0.47042556 0.19782604 0.82681624 0.86115351 0.36647453 0.25726343 0.74677077 1.00175259 0.09285188 0.11012109 0.47783557 0.89326137 0.15648056 0.83821553 0.21339511 0.34200999 0.5137665  0.59264087 0.40214674 0.45506206 0.86436983 0.58185046 0.991559   0.50927392 0.70864897 0.08101301 0.72115446 0.54614147 0.379705   0.45838271 0.15169447 0.69272452 0.68444671 0.7525464  0.82555978 0.67540642 0.61677726 0.91840073 0.66925505 0.43009612 0.23492649 0.75206923 0.3980678  0.17777975 0.51873401 0.64467753 0.90453599 0.32798816 0.5840099  0.62751721 0.26234372 0.53753115 0.79895836 0.82499737 0.60527033 0.99767852 0.75142885 0.65755192 0.21910993 0.56514609 0.52482928 0.61338846 0.53048412 0.54365069 0.45623053 0.         0.45232443]\n",
            " [0.3533504  0.6390717  0.51820334 0.37835445 0.48105934 0.23972587 0.58044039 0.26796736 0.38122736 0.15016968 0.30166439 0.62085438 0.40600684 0.67444401 0.26885987 0.51320347 0.23339512 0.55052353 0.27803479 0.49417283 0.34222875 0.06540668 0.46662667 0.41188625 0.75588245 0.67517123 0.14338437 0.51009051 0.33579521 0.15541677 0.39935725 0.04590709 0.55393488 0.1952584  0.29620273 0.38190798 0.42941493 0.20886192 0.19618373 0.47540488 0.68719304 0.39011824 0.45688144 0.25580544 0.64701034 0.37244965 0.60882181 0.35502327 0.23612262 0.48365091 0.15246472 0.21534811 0.50718052 0.69210436 0.22421849 0.64854491 0.21052065 0.84209831 0.48959162 0.61357834 0.66493848 0.38829386 0.6392755  0.32366421 0.73245854 0.50503656 0.42903488 0.66479114 0.43021659 0.69807242 0.57946786 0.65997612 0.20314832 0.24488909 0.31848125 0.32041648 0.28274184 0.0695583  0.69789252 0.54769626 0.17932324 0.31101455 0.67769813 0.24240859 0.70828082 0.36631005 0.39506548 0.26644411 0.68621979 0.68089433 0.44670401 0.5671827  0.55405984 0.63123189 0.55107997 0.09893268 0.64073772 0.1095264  0.45232443 0.        ]]\n"
          ]
        }
      ],
      "source": [
        "Z = np.random.random((100,2))\n",
        "X,Y = np.atleast_2d(Z[:,0]), np.atleast_2d(Z[:,1])\n",
        "D = np.sqrt( (X-X.T)**2 + (Y-Y.T)**2)\n",
        "\n",
        "print(D)"
      ]
    },
    {
      "cell_type": "markdown",
      "metadata": {
        "id": "f8Xs_jBXRiKU"
      },
      "source": [
        "#### 53. How to convert a float (32 bits) array into an integer (32 bits) in place? \n",
        "(**hint**: astype(copy=False))"
      ]
    },
    {
      "cell_type": "code",
      "execution_count": 54,
      "metadata": {
        "id": "tFQQ_oJeRiKU",
        "outputId": "64703094-13ff-4047-cee6-62105856812b",
        "colab": {
          "base_uri": "https://localhost:8080/"
        }
      },
      "outputs": [
        {
          "output_type": "stream",
          "name": "stdout",
          "text": [
            "[0. 1. 2. 3. 4. 5. 6. 7. 8. 9.]\n"
          ]
        }
      ],
      "source": [
        "Z = np.arange(10, dtype=np.int32)\n",
        "Z = Z.astype(np.float32, copy=False)\n",
        "\n",
        "print(Z)"
      ]
    },
    {
      "cell_type": "markdown",
      "metadata": {
        "id": "pk4_8C5IRiKU"
      },
      "source": [
        "#### 54. How to read the following file? (★★☆) \n",
        "(**hint**: np.genfromtxt)"
      ]
    },
    {
      "cell_type": "markdown",
      "metadata": {
        "id": "cdamW6d_RiKU"
      },
      "source": [
        "```\n",
        "1, 2, 3, 4, 5\n",
        "6,  ,  , 7, 8\n",
        " ,  , 9,10,11\n",
        "```"
      ]
    },
    {
      "cell_type": "code",
      "execution_count": 55,
      "metadata": {
        "id": "bDRZ56lLRiKU",
        "outputId": "402cbf7d-38be-42ee-fe8a-212f37936c1a",
        "colab": {
          "base_uri": "https://localhost:8080/"
        }
      },
      "outputs": [
        {
          "output_type": "stream",
          "name": "stdout",
          "text": [
            "[[ 1  2  3  4  5]\n",
            " [ 6 -1 -1  7  8]\n",
            " [-1 -1  9 10 11]]\n"
          ]
        },
        {
          "output_type": "stream",
          "name": "stderr",
          "text": [
            "/usr/local/lib/python3.7/dist-packages/ipykernel_launcher.py:7: DeprecationWarning: `np.int` is a deprecated alias for the builtin `int`. To silence this warning, use `int` by itself. Doing this will not modify any behavior and is safe. When replacing `np.int`, you may wish to use e.g. `np.int64` or `np.int32` to specify the precision. If you wish to review your current use, check the release note link for additional information.\n",
            "Deprecated in NumPy 1.20; for more details and guidance: https://numpy.org/devdocs/release/1.20.0-notes.html#deprecations\n",
            "  import sys\n"
          ]
        }
      ],
      "source": [
        "from io import StringIO\n",
        "\n",
        "s = StringIO(\"\"\"1, 2, 3, 4, 5\\n\n",
        "                6,  ,  , 7, 8\\n\n",
        "                 ,  , 9,10,11\\n\"\"\")\n",
        "\n",
        "Z = np.genfromtxt(s, delimiter=\",\", dtype=np.int)\n",
        "\n",
        "print(Z)"
      ]
    },
    {
      "cell_type": "markdown",
      "metadata": {
        "id": "O6Ji1FAyRiKU"
      },
      "source": [
        "#### 55. What is the equivalent of enumerate for numpy arrays? (★★☆) \n",
        "(**hint**: np.ndenumerate, np.ndindex)"
      ]
    },
    {
      "cell_type": "code",
      "execution_count": 56,
      "metadata": {
        "id": "_xqj6fg6RiKU",
        "outputId": "8af2dfd4-5121-4c8e-eb9c-01c42936057e",
        "colab": {
          "base_uri": "https://localhost:8080/"
        }
      },
      "outputs": [
        {
          "output_type": "stream",
          "name": "stdout",
          "text": [
            "numerate : \n",
            "(0, 0) 0\n",
            "(0, 1) 1\n",
            "(0, 2) 2\n",
            "(1, 0) 3\n",
            "(1, 1) 4\n",
            "(1, 2) 5\n",
            "(2, 0) 6\n",
            "(2, 1) 7\n",
            "(2, 2) 8\n",
            "\n",
            " index : \n",
            "(0, 0) 0\n",
            "(0, 1) 1\n",
            "(0, 2) 2\n",
            "(1, 0) 3\n",
            "(1, 1) 4\n",
            "(1, 2) 5\n",
            "(2, 0) 6\n",
            "(2, 1) 7\n",
            "(2, 2) 8\n"
          ]
        }
      ],
      "source": [
        "Z = np.arange(9).reshape(3,3)\n",
        "\n",
        "print(\"numerate : \")\n",
        "for index, value in np.ndenumerate(Z):\n",
        "    print(index, value)\n",
        "\n",
        "\n",
        "print(\"\\n\",\"index : \")  \n",
        "for index in np.ndindex(Z.shape):\n",
        "    print(index, Z[index])"
      ]
    },
    {
      "cell_type": "markdown",
      "metadata": {
        "id": "xDaUJUEzRiKV"
      },
      "source": [
        "#### 56. Generate a generic 2D Gaussian-like array (★★☆) \n",
        "(**hint**: np.meshgrid, np.exp)"
      ]
    },
    {
      "cell_type": "code",
      "execution_count": 57,
      "metadata": {
        "id": "GQhtyvtsRiKV",
        "outputId": "71cee797-bd3e-40a8-a83f-ff17121386dd",
        "colab": {
          "base_uri": "https://localhost:8080/"
        }
      },
      "outputs": [
        {
          "output_type": "stream",
          "name": "stdout",
          "text": [
            "[[0.36787944 0.44822088 0.51979489 0.57375342 0.60279818 0.60279818 0.57375342 0.51979489 0.44822088 0.36787944]\n",
            " [0.44822088 0.54610814 0.63331324 0.69905581 0.73444367 0.73444367 0.69905581 0.63331324 0.54610814 0.44822088]\n",
            " [0.51979489 0.63331324 0.73444367 0.81068432 0.85172308 0.85172308 0.81068432 0.73444367 0.63331324 0.51979489]\n",
            " [0.57375342 0.69905581 0.81068432 0.89483932 0.9401382  0.9401382  0.89483932 0.81068432 0.69905581 0.57375342]\n",
            " [0.60279818 0.73444367 0.85172308 0.9401382  0.98773022 0.98773022 0.9401382  0.85172308 0.73444367 0.60279818]\n",
            " [0.60279818 0.73444367 0.85172308 0.9401382  0.98773022 0.98773022 0.9401382  0.85172308 0.73444367 0.60279818]\n",
            " [0.57375342 0.69905581 0.81068432 0.89483932 0.9401382  0.9401382  0.89483932 0.81068432 0.69905581 0.57375342]\n",
            " [0.51979489 0.63331324 0.73444367 0.81068432 0.85172308 0.85172308 0.81068432 0.73444367 0.63331324 0.51979489]\n",
            " [0.44822088 0.54610814 0.63331324 0.69905581 0.73444367 0.73444367 0.69905581 0.63331324 0.54610814 0.44822088]\n",
            " [0.36787944 0.44822088 0.51979489 0.57375342 0.60279818 0.60279818 0.57375342 0.51979489 0.44822088 0.36787944]]\n"
          ]
        }
      ],
      "source": [
        "X, Y = np.meshgrid(np.linspace(-1,1,10), np.linspace(-1,1,10))\n",
        "D = np.sqrt(X*X+Y*Y)\n",
        "sigma, mu = 1.0, 0.0\n",
        "\n",
        "G = np.exp(-( (D-mu)**2 / ( 2.0 * sigma**2 ) ) )\n",
        "\n",
        "print(G)"
      ]
    },
    {
      "cell_type": "markdown",
      "metadata": {
        "id": "ZRGBZZj-RiKV"
      },
      "source": [
        "#### 57. How to randomly place p elements in a 2D array? (★★☆) \n",
        "(**hint**: np.put, np.random.choice)"
      ]
    },
    {
      "cell_type": "code",
      "execution_count": 58,
      "metadata": {
        "id": "Bh9NbZmCRiKV",
        "outputId": "8ca206a4-ab16-42a1-b946-646ae0831410",
        "colab": {
          "base_uri": "https://localhost:8080/"
        }
      },
      "outputs": [
        {
          "output_type": "stream",
          "name": "stdout",
          "text": [
            "[[0. 0. 0. 0. 0. 0. 0. 0. 0. 0.]\n",
            " [0. 0. 0. 0. 0. 0. 0. 0. 0. 0.]\n",
            " [0. 0. 0. 0. 0. 0. 0. 0. 0. 0.]\n",
            " [0. 0. 0. 0. 0. 0. 0. 0. 0. 0.]\n",
            " [0. 0. 0. 0. 0. 0. 1. 0. 0. 0.]\n",
            " [0. 0. 0. 0. 0. 0. 0. 0. 0. 0.]\n",
            " [0. 0. 0. 0. 0. 1. 0. 0. 0. 0.]\n",
            " [0. 0. 0. 0. 0. 0. 0. 0. 0. 0.]\n",
            " [0. 0. 0. 0. 0. 0. 0. 0. 0. 0.]\n",
            " [0. 0. 0. 0. 0. 1. 0. 0. 0. 0.]]\n"
          ]
        }
      ],
      "source": [
        "n = 10\n",
        "p = 3\n",
        "Z = np.zeros((n,n))\n",
        "\n",
        "np.put(Z, np.random.choice(range(n*n), p, replace=False),1)\n",
        "\n",
        "print (Z)"
      ]
    },
    {
      "cell_type": "markdown",
      "metadata": {
        "id": "xy0NbTS1RiKV"
      },
      "source": [
        "#### 58. Subtract the mean of each row of a matrix (★★☆) \n",
        "(**hint**: mean(axis=,keepdims=))"
      ]
    },
    {
      "cell_type": "code",
      "execution_count": 59,
      "metadata": {
        "id": "hrzhlxIERiKV",
        "outputId": "f4697d20-299b-490d-c96e-870a451e206a",
        "colab": {
          "base_uri": "https://localhost:8080/"
        }
      },
      "outputs": [
        {
          "output_type": "stream",
          "name": "stdout",
          "text": [
            "[[-0.03773505  0.18519287  0.01503254 -0.14171789 -0.33723951  0.30485614  0.22525431  0.16888221  0.40660063  0.11366489 -0.27957071 -0.11400954 -0.47150222  0.36192572  0.22496699 -0.40100945 -0.35661713  0.29609169 -0.11040278 -0.05266371]\n",
            " [ 0.10715004 -0.27821898 -0.03794999 -0.34717436 -0.04856147 -0.24811746  0.35688167 -0.38432915 -0.08359651 -0.08883551 -0.33720587  0.31959928  0.01875095  0.10127992  0.537792   -0.12375393  0.24187358  0.51887598  0.06028562 -0.28474579]\n",
            " [ 0.46148911 -0.01047762  0.25781113  0.07822519 -0.47558725 -0.08973479  0.31423533 -0.20554112  0.2464301   0.36776936  0.1463862  -0.05047094 -0.44941786 -0.24946082  0.17783854 -0.21035391  0.49259054 -0.03463062 -0.28904154 -0.47805904]\n",
            " [-0.08666991  0.24543228  0.26839944 -0.35759485  0.27144621  0.11717915  0.36538867 -0.34915987 -0.43387992  0.24611032 -0.41449591  0.27101135 -0.37267945  0.2343631  -0.23210281  0.47057794  0.12735771 -0.31908706  0.31052241 -0.3621188 ]\n",
            " [-0.2221104   0.36450927  0.26628259 -0.29024946  0.38583294  0.17687116 -0.26884886 -0.38880492  0.0855975  -0.26036575 -0.22531325 -0.2926712   0.07021749  0.32517717  0.00759921  0.21376988 -0.03854032 -0.302547    0.55683983 -0.16324587]\n",
            " [-0.42852088  0.16002853 -0.18685063  0.41770218 -0.22107456 -0.34420828  0.02239349  0.31763634 -0.05841419  0.4838546  -0.11166048 -0.08881154  0.01965992 -0.43164585  0.24070303  0.24250139  0.35302333 -0.37909453  0.19918219 -0.20640406]\n",
            " [-0.40341549  0.38432811 -0.17245816  0.45132576 -0.26799127  0.36851167 -0.18127022  0.06311562  0.03760694 -0.23229723 -0.32705982 -0.25934715  0.37125062  0.4215971   0.20120775  0.01377976 -0.28036358 -0.05589497  0.27225452 -0.40487997]\n",
            " [-0.28996444  0.233464   -0.10215843  0.19259163  0.36724407 -0.09997265 -0.17247999 -0.0887282  -0.47056515 -0.41688844 -0.41214635  0.11993591  0.29812685  0.2743793   0.3258998   0.23315935  0.30021545 -0.07517403 -0.08378927 -0.13314942]\n",
            " [ 0.09283056  0.3178413   0.24834258  0.07107438 -0.12401686 -0.12776629  0.37783133  0.46276287 -0.27742314 -0.22956739  0.2138879  -0.11773841  0.00882544  0.34745458 -0.3084084  -0.00965279 -0.28047665 -0.38428796  0.1121346  -0.39364764]\n",
            " [-0.1355169  -0.15019568  0.2362959  -0.17338557 -0.04532648  0.21852592 -0.27584284 -0.00592394  0.24395477  0.24904162 -0.27497037 -0.35405209  0.21218694 -0.26056802 -0.16653263  0.33674029  0.1046642  -0.12180629 -0.00906607  0.37177726]]\n"
          ]
        }
      ],
      "source": [
        "X = np.random.rand(10, 20)\n",
        "\n",
        "Y = X - X.mean(axis=1, keepdims=True)\n",
        "print(Y)"
      ]
    },
    {
      "cell_type": "markdown",
      "metadata": {
        "id": "wWxrvX19RiKV"
      },
      "source": [
        "#### 59. How to sort an array by the nth column? (★★☆) \n",
        "(**hint**: argsort)"
      ]
    },
    {
      "cell_type": "code",
      "execution_count": 60,
      "metadata": {
        "id": "xZ3pg89vRiKV",
        "outputId": "0da0d66c-2f95-4b65-a383-d86463a10c1f",
        "colab": {
          "base_uri": "https://localhost:8080/"
        }
      },
      "outputs": [
        {
          "output_type": "stream",
          "name": "stdout",
          "text": [
            "Before Sorted :  \n",
            " [[9 8 2 1 2]\n",
            " [0 8 9 6 1]\n",
            " [6 4 7 3 5]\n",
            " [3 7 0 3 7]\n",
            " [5 3 1 7 7]] \n",
            "\n",
            "After Sorted the nth column :  \n",
            " [[5 3 1 7 7]\n",
            " [6 4 7 3 5]\n",
            " [3 7 0 3 7]\n",
            " [9 8 2 1 2]\n",
            " [0 8 9 6 1]]\n"
          ]
        }
      ],
      "source": [
        "Z = np.random.randint(0,10,(5,5))\n",
        "print(\"Before Sorted : \",\"\\n\",Z,\"\\n\")\n",
        "\n",
        "print(\"After Sorted the nth column : \",\"\\n\",Z[Z[:,1].argsort()])"
      ]
    },
    {
      "cell_type": "markdown",
      "metadata": {
        "id": "dvAsJ7wIRiKV"
      },
      "source": [
        "#### 60. How to tell if a given 2D array has null columns? (★★☆) \n",
        "(**hint**: any, ~)"
      ]
    },
    {
      "cell_type": "code",
      "execution_count": 61,
      "metadata": {
        "id": "6uj4poL2RiKV",
        "outputId": "89a88458-84e6-4656-8082-9be67ad769be",
        "colab": {
          "base_uri": "https://localhost:8080/"
        }
      },
      "outputs": [
        {
          "output_type": "stream",
          "name": "stdout",
          "text": [
            "False\n"
          ]
        }
      ],
      "source": [
        "Z = np.random.randint(0,5,(5,12))\n",
        "\n",
        "print((~Z.any(axis=0)).any())"
      ]
    },
    {
      "cell_type": "markdown",
      "metadata": {
        "id": "ENLC1iugRiKW"
      },
      "source": [
        "#### 61. Find the nearest value from a given value in an array (★★☆) \n",
        "(**hint**: np.abs, argmin, flat)"
      ]
    },
    {
      "cell_type": "code",
      "execution_count": 62,
      "metadata": {
        "id": "c7UnQBuwRiKW",
        "outputId": "e966096b-7ec4-45db-cb56-b0bae34617b9",
        "colab": {
          "base_uri": "https://localhost:8080/"
        }
      },
      "outputs": [
        {
          "output_type": "stream",
          "name": "stdout",
          "text": [
            "0.7761435673623285\n"
          ]
        }
      ],
      "source": [
        "Z = np.random.uniform(0,5,10)\n",
        "z = 1\n",
        "m = Z.flat[np.abs(Z - z).argmin()]\n",
        "\n",
        "print(m)"
      ]
    },
    {
      "cell_type": "markdown",
      "metadata": {
        "id": "gHmZ1xtwRiKW"
      },
      "source": [
        "#### 62. Considering two arrays with shape (1,3) and (3,1), how to compute their sum using an iterator? (★★☆) \n",
        "(**hint**: np.nditer)"
      ]
    },
    {
      "cell_type": "code",
      "execution_count": 63,
      "metadata": {
        "id": "0CzznDbPRiKW",
        "outputId": "5fb73d0d-7d3d-4c54-f0a2-0d32bdc020a5",
        "colab": {
          "base_uri": "https://localhost:8080/"
        }
      },
      "outputs": [
        {
          "output_type": "stream",
          "name": "stdout",
          "text": [
            "[[0 1 2]\n",
            " [1 2 3]\n",
            " [2 3 4]]\n"
          ]
        }
      ],
      "source": [
        "A = np.arange(3).reshape(1,3)\n",
        "B = np.arange(3).reshape(3,1)\n",
        "it = np.nditer([A,B,None])\n",
        "\n",
        "for x,y,z in it: z[...] = x + y\n",
        "print(it.operands[2])"
      ]
    },
    {
      "cell_type": "markdown",
      "metadata": {
        "id": "mJrViGXLRiKW"
      },
      "source": [
        "#### 63. Create an array class that has a name attribute (★★☆) \n",
        "(**hint**: class method)"
      ]
    },
    {
      "cell_type": "code",
      "execution_count": 64,
      "metadata": {
        "id": "cCWnrXJvRiKW",
        "outputId": "4041c94a-4d0d-4e6b-a9c0-364b7f7ff848",
        "colab": {
          "base_uri": "https://localhost:8080/"
        }
      },
      "outputs": [
        {
          "output_type": "stream",
          "name": "stdout",
          "text": [
            "Range_10\n"
          ]
        }
      ],
      "source": [
        "class NamedArray(np.ndarray):\n",
        "    def __new__(cls, array, name=\"no name\"):\n",
        "        obj = np.asarray(array).view(cls)\n",
        "        obj.name = name\n",
        "        return obj\n",
        "    def __array_finalize__(self, obj):\n",
        "        if obj is None: return\n",
        "        self.info = getattr(obj, 'name', \"no name\")\n",
        "\n",
        "Z = NamedArray(np.arange(10),\"Range_10\")\n",
        "print (Z.name)"
      ]
    },
    {
      "cell_type": "markdown",
      "metadata": {
        "id": "_T77ZVW8RiKW"
      },
      "source": [
        "#### 64. Consider a given vector, how to add 1 to each element indexed by a second vector (be careful with repeated indices)? (★★★) \n",
        "(**hint**: np.bincount | np.add.at)"
      ]
    },
    {
      "cell_type": "code",
      "execution_count": 65,
      "metadata": {
        "id": "vc58m0XYRiKW",
        "outputId": "6c0fea76-6815-42f7-f9c7-38304e4407fb",
        "colab": {
          "base_uri": "https://localhost:8080/"
        }
      },
      "outputs": [
        {
          "output_type": "stream",
          "name": "stdout",
          "text": [
            "[3. 2. 2. 5. 4. 1. 3. 5. 2. 3.]\n"
          ]
        }
      ],
      "source": [
        "Z = np.ones(10)\n",
        "I = np.random.randint(0,len(Z),20)\n",
        "Z += np.bincount(I, minlength=len(Z))\n",
        "\n",
        "print(Z)"
      ]
    },
    {
      "cell_type": "markdown",
      "metadata": {
        "id": "256YCbJFRiKW"
      },
      "source": [
        "#### 65. How to accumulate elements of a vector (X) to an array (F) based on an index list (I)? (★★★) \n",
        "(**hint**: np.bincount)"
      ]
    },
    {
      "cell_type": "code",
      "execution_count": 66,
      "metadata": {
        "id": "Ah8-vZ6rRiKW",
        "outputId": "fc827138-7b89-48ab-9274-21c38e915574",
        "colab": {
          "base_uri": "https://localhost:8080/"
        }
      },
      "outputs": [
        {
          "output_type": "stream",
          "name": "stdout",
          "text": [
            "[0. 7. 0. 6. 5. 0. 0. 0. 0. 3.]\n"
          ]
        }
      ],
      "source": [
        "X = [1,2,3,4,5,6]\n",
        "I = [1,3,9,3,4,1]\n",
        "F = np.bincount(I,X)\n",
        "\n",
        "print(F)"
      ]
    },
    {
      "cell_type": "markdown",
      "metadata": {
        "id": "BCLx0inDRiKX"
      },
      "source": [
        "#### 66. Considering a (w,h,3) image of (dtype=ubyte), compute the number of unique colors (★★★) \n",
        "(**hint**: np.unique)"
      ]
    },
    {
      "cell_type": "code",
      "execution_count": 67,
      "metadata": {
        "id": "QRmy3gz7RiKX",
        "outputId": "7ea95159-47a7-4c51-d146-e2c84d23254f",
        "colab": {
          "base_uri": "https://localhost:8080/"
        }
      },
      "outputs": [
        {
          "output_type": "stream",
          "name": "stdout",
          "text": [
            "[0 1]\n"
          ]
        }
      ],
      "source": [
        "w,h = 16,16\n",
        "I = np.random.randint(0,2,(h,w,3)).astype(np.ubyte)\n",
        "F = I[...,0]*256*256 + I[...,1]*256 +I[...,2]\n",
        "n = len(np.unique(F))\n",
        "\n",
        "print(np.unique(I))"
      ]
    },
    {
      "cell_type": "markdown",
      "metadata": {
        "id": "_1_nUEJURiKX"
      },
      "source": [
        "#### 67. Considering a four dimensions array, how to get sum over the last two axis at once? (★★★) \n",
        "(**hint**: sum(axis=(-2,-1)))"
      ]
    },
    {
      "cell_type": "code",
      "execution_count": 68,
      "metadata": {
        "id": "fL82qwkFRiKX",
        "outputId": "93fbc40e-d7b3-412c-b6db-3be5f35252c0",
        "colab": {
          "base_uri": "https://localhost:8080/"
        }
      },
      "outputs": [
        {
          "output_type": "stream",
          "name": "stdout",
          "text": [
            "[[54 54 51 40]\n",
            " [44 61 56 62]\n",
            " [43 64 40 55]]\n"
          ]
        }
      ],
      "source": [
        "A = np.random.randint(0,10,(3,4,3,4))\n",
        "sum = A.reshape(A.shape[:-2] + (-1,)).sum(axis=-1)\n",
        "\n",
        "print(sum)"
      ]
    },
    {
      "cell_type": "markdown",
      "metadata": {
        "id": "xiwVW8u3RiKX"
      },
      "source": [
        "#### 68. Considering a one-dimensional vector D, how to compute means of subsets of D using a vector S of same size describing subset  indices? (★★★) \n",
        "(**hint**: np.bincount)"
      ]
    },
    {
      "cell_type": "code",
      "execution_count": 69,
      "metadata": {
        "id": "y9MhImXrRiKX",
        "outputId": "85906e69-3d8e-46f1-a8d6-a327dfdffaac",
        "colab": {
          "base_uri": "https://localhost:8080/"
        }
      },
      "outputs": [
        {
          "output_type": "stream",
          "name": "stdout",
          "text": [
            "[0.47601576 0.6257236  0.565609   0.58227156 0.28930841 0.48097786 0.40504124 0.51911461 0.45081479 0.66353062]\n"
          ]
        }
      ],
      "source": [
        "D = np.random.uniform(0,1,100)\n",
        "S = np.random.randint(0,10,100)\n",
        "\n",
        "D_sums = np.bincount(S, weights=D)\n",
        "D_counts = np.bincount(S)\n",
        "\n",
        "D_means = D_sums / D_counts\n",
        "\n",
        "print(D_means)"
      ]
    },
    {
      "cell_type": "markdown",
      "metadata": {
        "id": "NsINglG6RiKX"
      },
      "source": [
        "#### 69. How to get the diagonal of a dot product? (★★★) \n",
        "(**hint**: np.diag)"
      ]
    },
    {
      "cell_type": "code",
      "execution_count": 70,
      "metadata": {
        "id": "w7dPVA-uRiKY",
        "outputId": "2ef5c585-6cd3-46d2-a7f5-db3e9af87fad",
        "colab": {
          "base_uri": "https://localhost:8080/"
        }
      },
      "outputs": [
        {
          "output_type": "stream",
          "name": "stdout",
          "text": [
            "[396 462 127 460 508]\n"
          ]
        }
      ],
      "source": [
        "A = np.random.randint(0,20,(5,5))\n",
        "B= np.random.randint(0,20,(5,5))\n",
        "\n",
        "print(np.diag(np.dot(A, B)))"
      ]
    },
    {
      "cell_type": "markdown",
      "metadata": {
        "id": "tVrgqZx6RiKY"
      },
      "source": [
        "#### 70. Consider the vector \\[1, 2, 3, 4, 5\\], how to build a new vector with 3 consecutive zeros interleaved between each value? (★★★) \n",
        "(**hint**: array\\[::4\\])"
      ]
    },
    {
      "cell_type": "code",
      "execution_count": 71,
      "metadata": {
        "id": "LY4Zzh9pRiKY",
        "outputId": "472f3d47-1fb9-41e4-f9d2-27fa3283e3d7",
        "colab": {
          "base_uri": "https://localhost:8080/"
        }
      },
      "outputs": [
        {
          "output_type": "stream",
          "name": "stdout",
          "text": [
            "[1. 0. 0. 0. 2. 0. 0. 0. 3. 0. 0. 0. 4. 0. 0. 0. 5.]\n"
          ]
        }
      ],
      "source": [
        "Z = np.array([1,2,3,4,5])\n",
        "nz = 3\n",
        "\n",
        "Z0 = np.zeros(len(Z) + (len(Z)-1)*(nz))\n",
        "Z0[::nz+1] = Z\n",
        "\n",
        "print(Z0)"
      ]
    },
    {
      "cell_type": "markdown",
      "metadata": {
        "id": "ELNoHxafRiKY"
      },
      "source": [
        "#### 71. Consider an array of dimension (5,5,3), how to mulitply it by an array with dimensions (5,5)? (★★★) \n",
        "(**hint**: array\\[:, :, None\\])"
      ]
    },
    {
      "cell_type": "code",
      "execution_count": 72,
      "metadata": {
        "collapsed": true,
        "id": "delxY4wwRiKY",
        "outputId": "348982f4-629e-4f4a-b9c4-c18082b37955",
        "colab": {
          "base_uri": "https://localhost:8080/"
        }
      },
      "outputs": [
        {
          "output_type": "stream",
          "name": "stdout",
          "text": [
            "[[[2. 2. 2.]\n",
            "  [2. 2. 2.]\n",
            "  [2. 2. 2.]\n",
            "  [2. 2. 2.]\n",
            "  [2. 2. 2.]]\n",
            "\n",
            " [[2. 2. 2.]\n",
            "  [2. 2. 2.]\n",
            "  [2. 2. 2.]\n",
            "  [2. 2. 2.]\n",
            "  [2. 2. 2.]]\n",
            "\n",
            " [[2. 2. 2.]\n",
            "  [2. 2. 2.]\n",
            "  [2. 2. 2.]\n",
            "  [2. 2. 2.]\n",
            "  [2. 2. 2.]]\n",
            "\n",
            " [[2. 2. 2.]\n",
            "  [2. 2. 2.]\n",
            "  [2. 2. 2.]\n",
            "  [2. 2. 2.]\n",
            "  [2. 2. 2.]]\n",
            "\n",
            " [[2. 2. 2.]\n",
            "  [2. 2. 2.]\n",
            "  [2. 2. 2.]\n",
            "  [2. 2. 2.]\n",
            "  [2. 2. 2.]]]\n"
          ]
        }
      ],
      "source": [
        "A = np.ones((5,5,3))\n",
        "B = 2*np.ones((5,5))\n",
        "\n",
        "print(A * B[:,:,None])"
      ]
    },
    {
      "cell_type": "markdown",
      "metadata": {
        "id": "7oRP-_nuRiKY"
      },
      "source": [
        "#### 72. How to swap two rows of an array? (★★★) \n",
        "(**hint**: array\\[\\[\\]\\] = array\\[\\[\\]\\])"
      ]
    },
    {
      "cell_type": "code",
      "execution_count": 73,
      "metadata": {
        "id": "W1Bs5DxnRiKY",
        "outputId": "efaf1e2e-1e97-43ad-8093-5515e5b1aaf4",
        "colab": {
          "base_uri": "https://localhost:8080/"
        }
      },
      "outputs": [
        {
          "output_type": "stream",
          "name": "stdout",
          "text": [
            "Before Swap :  \n",
            " [[ 0  1  2  3  4]\n",
            " [ 5  6  7  8  9]\n",
            " [10 11 12 13 14]\n",
            " [15 16 17 18 19]\n",
            " [20 21 22 23 24]] \n",
            "\n",
            "After Swap :  \n",
            " [[ 5  6  7  8  9]\n",
            " [ 0  1  2  3  4]\n",
            " [10 11 12 13 14]\n",
            " [15 16 17 18 19]\n",
            " [20 21 22 23 24]]\n"
          ]
        }
      ],
      "source": [
        "A = np.arange(25).reshape(5,5)\n",
        "print(\"Before Swap : \",\"\\n\",A,\"\\n\")\n",
        "\n",
        "A[[0,1]] = A[[1,0]]\n",
        "print(\"After Swap : \",\"\\n\",A)"
      ]
    },
    {
      "cell_type": "markdown",
      "metadata": {
        "id": "wK4Qc4sjRiKY"
      },
      "source": [
        "#### 73. Consider a set of 10 triplets describing 10 triangles (with shared vertices), find the set of unique line segments composing all the  triangles (★★★) \n",
        "(**hint**: repeat, np.roll, np.sort, view, np.unique)"
      ]
    },
    {
      "cell_type": "code",
      "execution_count": 74,
      "metadata": {
        "id": "PgmwzovfRiKZ",
        "outputId": "7656c79f-48ae-4391-a397-c3e420fd5084",
        "colab": {
          "base_uri": "https://localhost:8080/"
        }
      },
      "outputs": [
        {
          "output_type": "stream",
          "name": "stdout",
          "text": [
            "[( 1, 37) ( 1, 41) ( 3, 38) ( 3, 60) ( 4, 15) ( 4, 79) ( 5, 21) ( 5, 47) (12, 34) (12, 55) (13, 20) (13, 89) (15, 79) (20, 89) (21, 47) (31, 38) (31, 68) (34, 55) (37, 41) (38, 60) (38, 68) (42, 62) (42, 86) (45, 51) (45, 85) (51, 85) (62, 86) (72, 78) (72, 97) (78, 97)]\n"
          ]
        }
      ],
      "source": [
        "faces = np.random.randint(0,100,(10,3))\n",
        "\n",
        "F = np.roll(faces.repeat(2,axis=1),-1,axis=1)\n",
        "F = F.reshape(len(F)*3,2)\n",
        "F = np.sort(F,axis=1)\n",
        "G = F.view( dtype=[('p0',F.dtype),('p1',F.dtype)] )\n",
        "G = np.unique(G)\n",
        "\n",
        "print(G)"
      ]
    },
    {
      "cell_type": "markdown",
      "metadata": {
        "id": "wh-eGmgiRiKZ"
      },
      "source": [
        "#### 74. Given an array C that is a bincount, how to produce an array A such that np.bincount(A) == C? (★★★) \n",
        "(**hint**: np.repeat)"
      ]
    },
    {
      "cell_type": "code",
      "execution_count": 75,
      "metadata": {
        "id": "Zq-YoKoHRiKZ",
        "outputId": "36382a4b-cfa4-43c6-c3d8-b7ceafe1661c",
        "colab": {
          "base_uri": "https://localhost:8080/"
        }
      },
      "outputs": [
        {
          "output_type": "stream",
          "name": "stdout",
          "text": [
            "[1 1 2 3 4 4 6 7 8 8 9 9]\n"
          ]
        }
      ],
      "source": [
        "C = np.bincount([1,1,2,3,4,4,6,7,8,8,9,9])\n",
        "A = np.repeat(np.arange(len(C)), C)\n",
        "\n",
        "print(A)"
      ]
    },
    {
      "cell_type": "markdown",
      "metadata": {
        "id": "NKa50IJCRiKZ"
      },
      "source": [
        "#### 75. How to compute averages using a sliding window over an array? (★★★) \n",
        "(**hint**: np.cumsum)"
      ]
    },
    {
      "cell_type": "code",
      "execution_count": 76,
      "metadata": {
        "id": "dhF2WzR-RiKZ",
        "outputId": "b1177dce-1639-4461-f99c-d2c9d0fa05ba",
        "colab": {
          "base_uri": "https://localhost:8080/"
        }
      },
      "outputs": [
        {
          "output_type": "stream",
          "name": "stdout",
          "text": [
            "[ 1.  2.  3.  4.  5.  6.  7.  8.  9. 10. 11. 12. 13. 14. 15. 16. 17. 18. 19. 20. 21. 22. 23. 24. 25. 26. 27. 28. 29. 30. 31. 32. 33. 34. 35. 36. 37. 38. 39. 40. 41. 42. 43. 44. 45. 46. 47. 48.]\n"
          ]
        }
      ],
      "source": [
        "def moving_average(a, n=3) :\n",
        "    ret = np.cumsum(a, dtype=float)\n",
        "    ret[n:] = ret[n:] - ret[:-n]\n",
        "    return ret[n - 1:] / n\n",
        "\n",
        "Z = np.arange(50)\n",
        "print(moving_average(Z, n=3))"
      ]
    },
    {
      "cell_type": "markdown",
      "metadata": {
        "id": "3-FCcvBZRiKZ"
      },
      "source": [
        "#### 76. Consider a one-dimensional array Z, build a two-dimensional array whose first row is (Z\\[0\\],Z\\[1\\],Z\\[2\\]) and each subsequent row is  shifted by 1 (last row should be (Z\\[-3\\],Z\\[-2\\],Z\\[-1\\]) (★★★) \n",
        "(**hint**: from numpy.lib import stride_tricks)"
      ]
    },
    {
      "cell_type": "code",
      "execution_count": 77,
      "metadata": {
        "id": "XRpJtAtQRiKZ",
        "outputId": "e6f89006-0161-4ff8-d5e8-50d7358329dd",
        "colab": {
          "base_uri": "https://localhost:8080/"
        }
      },
      "outputs": [
        {
          "output_type": "stream",
          "name": "stdout",
          "text": [
            "[[0 1 2]\n",
            " [1 2 3]\n",
            " [2 3 4]\n",
            " [3 4 5]\n",
            " [4 5 6]\n",
            " [5 6 7]\n",
            " [6 7 8]\n",
            " [7 8 9]]\n"
          ]
        }
      ],
      "source": [
        "def rolling(a, window):\n",
        "    shape = (a.size - window + 1, window)\n",
        "    strides = (a.itemsize, a.itemsize)\n",
        "    return np.lib.stride_tricks.as_strided(a, shape=shape, strides=strides)\n",
        "    \n",
        "Z = rolling(np.arange(10), 3)\n",
        "print(Z)"
      ]
    },
    {
      "cell_type": "markdown",
      "metadata": {
        "id": "aJ7QenniRiKZ"
      },
      "source": [
        "#### 77. How to negate a boolean, or to change the sign of a float inplace? (★★★) \n",
        "(**hint**: np.logical_not, np.negative)"
      ]
    },
    {
      "cell_type": "code",
      "execution_count": 78,
      "metadata": {
        "id": "ENHEl6OGRiKa",
        "outputId": "256c87e1-5992-4795-e532-1942a4af3b0e",
        "colab": {
          "base_uri": "https://localhost:8080/"
        }
      },
      "outputs": [
        {
          "output_type": "stream",
          "name": "stdout",
          "text": [
            "Negating a boolean: \n",
            "[0 0 0 0 0 0 0 0 0 0 0 0 0 0 0 0 0 0 0 0 0 0 0 0 0 0 0 0 0 0 0 0 0 0 0 0 0 0 0 0 1 0 0 0 0 0 0 0 0 0 0 0 0 0 0 0 0 0 0 0 0 0 0 0 0 0 0 0 0 0 0 0 0 0 0 0 0 0 0 0 0 0 0 0 0 0 0 0 0 0 0 0 0 0 0 0 0 0 0 0] \n",
            "\n",
            "Change the sign of float inplace: \n",
            "[ 0.21585406 -0.46505499 -0.64658063 -0.91240545  0.37033872 -0.35851455 -0.16076906  0.09212697  0.56649326 -0.5739186 ]\n"
          ]
        }
      ],
      "source": [
        "Z = np.random.randint(0,20,100)\n",
        "\n",
        "print('Negating a boolean: ')\n",
        "print(np.logical_not(Z, out=Z),\"\\n\")\n",
        "\n",
        "Z = np.random.uniform(-1.0,1.0,10)\n",
        "\n",
        "print ('Change the sign of float inplace: ')\n",
        "print(np.negative(Z, out=Z))"
      ]
    },
    {
      "cell_type": "markdown",
      "metadata": {
        "id": "karL0v5ARiKa"
      },
      "source": [
        "#### 78. Consider 2 sets of points P0,P1 describing lines (2d) and a point p, how to compute distance from p to each line i  (P0\\[i\\],P1\\[i\\])? (★★★)"
      ]
    },
    {
      "cell_type": "code",
      "execution_count": 79,
      "metadata": {
        "id": "0GwvXUt6RiKa",
        "outputId": "cb73592b-bc86-476d-ef73-5dd536019262",
        "colab": {
          "base_uri": "https://localhost:8080/"
        }
      },
      "outputs": [
        {
          "output_type": "stream",
          "name": "stdout",
          "text": [
            "[ 8.89605409  7.85401533  2.42887014  3.58965992  3.83444696  2.83263983 14.82334875 17.62990612  5.800399   18.08550722]\n"
          ]
        }
      ],
      "source": [
        "def distance(P0, P1, p):\n",
        "    T = P1 - P0\n",
        "    L = (T**2).sum(axis=1)\n",
        "    U = -((P0[:,0]-p[...,0])*T[:,0] + (P0[:,1]-p[...,1])*T[:,1]) / L\n",
        "    U = U.reshape(len(U),1)\n",
        "    D = P0 + U*T - p\n",
        "    return np.sqrt((D**2).sum(axis=1))\n",
        "\n",
        "P0 = np.random.uniform(-10,10,(10,2))\n",
        "P1 = np.random.uniform(-10,10,(10,2))\n",
        "p  = np.random.uniform(-10,10,( 1,2))\n",
        "print(distance(P0, P1, p))"
      ]
    },
    {
      "cell_type": "markdown",
      "metadata": {
        "id": "pFOCQa4mRiKa"
      },
      "source": [
        "#### 79. Consider 2 sets of points P0,P1 describing lines (2d) and a set of points P, how to compute distance from each point j (P\\[j\\]) to each line i (P0\\[i\\],P1\\[i\\])? (★★★)"
      ]
    },
    {
      "cell_type": "code",
      "execution_count": 80,
      "metadata": {
        "id": "t_2JOPjxRiKa",
        "outputId": "ab8b903f-7eff-4116-fc8b-28a31dc90b55",
        "colab": {
          "base_uri": "https://localhost:8080/"
        }
      },
      "outputs": [
        {
          "output_type": "stream",
          "name": "stdout",
          "text": [
            "[[21.81234528 14.13476214 17.97879271 12.10980012 14.24062231 16.82226431  6.13360883 16.6026792  14.1862578  23.55889176]\n",
            " [14.97729819  6.19287745 16.73811011  9.38049563  9.67952796 10.96954716  7.1829229  11.08553498 12.92727032 16.63418228]\n",
            " [16.76973086 13.52439375 15.27245051 15.06387717 14.45698319 15.54033904  6.05433771 10.81265396 15.37578369 20.0705829 ]\n",
            " [ 6.28473903 10.35821234 20.97895152 18.90899581 13.73160753 11.57743254 18.95403134  9.88913892 20.45877429  3.29714143]\n",
            " [18.12626702 16.80584095  9.95054057  8.47432428 26.02458915 16.58824639  8.64262718 14.20896859 24.50427172 21.6082827 ]\n",
            " [16.36636411 12.48531288 21.66527054 14.95331867 11.18853274  4.50428154 18.03097422 18.03278049 10.11931725 14.31389493]\n",
            " [16.13878131 21.53613791 10.98971327 18.26209933 27.07162452 16.77459268 18.63752752 17.137781   22.81090133 20.44593627]\n",
            " [17.93325871 15.90121888 13.58112667 15.84564355 18.5422616  12.55083986 13.50923799 15.14722356  8.69137512 20.24566135]\n",
            " [18.80187535 15.07003382 17.96992663 18.29574156 17.46905022 17.50858026 10.71408451 13.35514088 13.84785794 22.27724965]\n",
            " [14.42993453 16.84290734  9.59902762 17.38187765 22.15592253 13.85782319 15.12214616 13.39182559 16.90026752 17.43191095]]\n"
          ]
        }
      ],
      "source": [
        "P0 = np.random.uniform(-10, 10, (10,5))\n",
        "P1 = np.random.uniform(-10,10,(10,5))\n",
        "p = np.random.uniform(-10, 10, (10,5))\n",
        "\n",
        "print (np.array([distance(P0,P1,p_i) for p_i in p]))"
      ]
    },
    {
      "cell_type": "markdown",
      "metadata": {
        "id": "NnWagiX5RiKa"
      },
      "source": [
        "#### 80. Consider an arbitrary array, write a function that extract a subpart with a fixed shape and centered on a given element (pad with a `fill` value when necessary) (★★★) \n",
        "(**hint**: minimum, maximum)"
      ]
    },
    {
      "cell_type": "code",
      "execution_count": 81,
      "metadata": {
        "id": "IWFKxyP-RiKa",
        "outputId": "39132b83-8cd6-4746-da70-d621797cc7be",
        "colab": {
          "base_uri": "https://localhost:8080/"
        }
      },
      "outputs": [
        {
          "output_type": "stream",
          "name": "stdout",
          "text": [
            "[[13  6  2  2 12  1  1  0 11  0  0 12 13 10  3 11 11  4 11 13]\n",
            " [ 4  9  1  6 12  8  4 14 12  6  2 11  4  8 13  7 12 13  0  0]\n",
            " [11 11  6 11 10  1  7  0 14 14  2 10 14  7 11  8  1  0 14 14]\n",
            " [ 0  4  9  9 13 12  2 13  9  8  7 12  3 13 12  7  5  6  4  6]\n",
            " [10  3  7  8  3  3  0  1  0  5  1  9  9 12 12 12  0  9  3 11]\n",
            " [ 0  6  0 12  9  7  5  4 10 12  1  7  8  9 13  8  6 10  1  4]\n",
            " [12  4  5  7  1 10  0  8  7 11  1 14  7  5 13 10 10 12  9  9]\n",
            " [ 9  3  5  2  2 11 12  3 11 10  5 12  6  7 13  1  9 11  2 11]\n",
            " [ 5  3  6  6  7 11  4 12 12  5  0  5 14  0  9 13 11 10  3  2]\n",
            " [ 6  1  0  0 11 14  7  9 10  0  4 12  9 11  1  6 14 14  2 10]] \n",
            "\n",
            "[[ 0  0  0  0  0]\n",
            " [ 0 13  6  2  2]\n",
            " [ 0  4  9  1  6]\n",
            " [ 0 11 11  6 11]\n",
            " [ 0  0  4  9  9]]\n"
          ]
        },
        {
          "output_type": "stream",
          "name": "stderr",
          "text": [
            "/usr/local/lib/python3.7/dist-packages/ipykernel_launcher.py:23: FutureWarning: Using a non-tuple sequence for multidimensional indexing is deprecated; use `arr[tuple(seq)]` instead of `arr[seq]`. In the future this will be interpreted as an array index, `arr[np.array(seq)]`, which will result either in an error or a different result.\n"
          ]
        }
      ],
      "source": [
        "Z = np.random.randint(0,15,(10,20))\n",
        "shape = (5,5)\n",
        "fill  = 0\n",
        "position = (1,1)\n",
        "\n",
        "R = np.ones(shape, dtype=Z.dtype)*fill\n",
        "P  = np.array(list(position)).astype(int)\n",
        "Rs = np.array(list(R.shape)).astype(int)\n",
        "Zs = np.array(list(Z.shape)).astype(int)\n",
        "\n",
        "R_start = np.zeros((len(shape),)).astype(int)\n",
        "R_stop  = np.array(list(shape)).astype(int)\n",
        "Z_start = (P-Rs//2)\n",
        "Z_stop  = (P+Rs//2)+Rs%2\n",
        "\n",
        "R_start = (R_start - np.minimum(Z_start,0)).tolist()\n",
        "Z_start = (np.maximum(Z_start,0)).tolist()\n",
        "R_stop = np.maximum(R_start, (R_stop - np.maximum(Z_stop-Zs,0))).tolist()\n",
        "Z_stop = (np.minimum(Z_stop,Zs)).tolist()\n",
        "\n",
        "r = [slice(start,stop) for start,stop in zip(R_start,R_stop)]\n",
        "z = [slice(start,stop) for start,stop in zip(Z_start,Z_stop)]\n",
        "R[r] = Z[z]\n",
        "\n",
        "print(Z,\"\\n\")\n",
        "print(R)"
      ]
    },
    {
      "cell_type": "markdown",
      "metadata": {
        "id": "mlYx3WLwRiKa"
      },
      "source": [
        "#### 81. Consider an array Z = \\[1,2,3,4,5,6,7,8,9,10,11,12,13,14\\], how to generate an array R = \\[\\[1,2,3,4\\], \\[2,3,4,5\\], \\[3,4,5,6\\], ..., \\[11,12,13,14\\]\\]? (★★★) \n",
        "(**hint**: stride\\_tricks.as\\_strided)"
      ]
    },
    {
      "cell_type": "code",
      "execution_count": 82,
      "metadata": {
        "id": "ODHUa0YeRiKa",
        "outputId": "96a4ae16-cbd3-46ed-c00e-43ca257e01f5",
        "colab": {
          "base_uri": "https://localhost:8080/"
        }
      },
      "outputs": [
        {
          "output_type": "stream",
          "name": "stdout",
          "text": [
            "Before stride: \n",
            "[ 1  2  3  4  5  6  7  8  9 10 11 12 13 14] \n",
            "\n",
            "after strides: \n",
            "[[ 1  2  3  4]\n",
            " [ 2  3  4  5]\n",
            " [ 3  4  5  6]\n",
            " [ 4  5  6  7]\n",
            " [ 5  6  7  8]\n",
            " [ 6  7  8  9]\n",
            " [ 7  8  9 10]\n",
            " [ 8  9 10 11]\n",
            " [ 9 10 11 12]\n",
            " [10 11 12 13]\n",
            " [11 12 13 14]]\n"
          ]
        }
      ],
      "source": [
        "Z = np.arange(1,15,dtype=int)\n",
        "\n",
        "def rolling(a, window):\n",
        "    shape = (a.size - window + 1, window)\n",
        "    strides = (a.itemsize, a.itemsize)\n",
        "    return np.lib.stride_tricks.as_strided(a, shape=shape, strides=strides)\n",
        "R = rolling(Z, 4)\n",
        "\n",
        "print ('Before stride: ')\n",
        "print (Z,\"\\n\")\n",
        "print ('after strides: ')\n",
        "print(R)"
      ]
    },
    {
      "cell_type": "markdown",
      "metadata": {
        "id": "gFips6HhRiKb"
      },
      "source": [
        "#### 82. Compute a matrix rank (★★★) \n",
        "(**hint**: np.linalg.svd) (suggestion: np.linalg.svd)"
      ]
    },
    {
      "cell_type": "code",
      "execution_count": 83,
      "metadata": {
        "id": "VHBAkT4LRiKb",
        "outputId": "0eeef673-9d59-4a08-9c84-4ac25b2face3",
        "colab": {
          "base_uri": "https://localhost:8080/"
        }
      },
      "outputs": [
        {
          "output_type": "stream",
          "name": "stdout",
          "text": [
            "The rank of the matrix is :  5\n"
          ]
        }
      ],
      "source": [
        "Z = np.random.uniform(0,2,(5,5))\n",
        "U, S, V = np.linalg.svd(Z) \n",
        "rank = np.sum(S > 1e-10)\n",
        "\n",
        "print (\"The rank of the matrix is : \",rank)"
      ]
    },
    {
      "cell_type": "markdown",
      "metadata": {
        "id": "SDjgUgr3RiKb"
      },
      "source": [
        "#### 83. How to find the most frequent value in an array? \n",
        "(**hint**: np.bincount, argmax)"
      ]
    },
    {
      "cell_type": "code",
      "execution_count": 84,
      "metadata": {
        "id": "jSCEVr5uRiKb",
        "outputId": "a936361b-05e4-4c6d-de92-666ba49a4168",
        "colab": {
          "base_uri": "https://localhost:8080/"
        }
      },
      "outputs": [
        {
          "output_type": "stream",
          "name": "stdout",
          "text": [
            "[1 7 9 0 5 2 3 7 5 5 3 7 8 7 5 6 0 2 6 8 6 1 5 8 4 1 0 5 9 5 1 9 6 0 9 9 0 0 2 3 1 1 1 9 2 3 1 6 2 2 4 4 6 8 4 8 4 0 7 1 3 1 1 9 7 4 8 6 2 3 8 8 5 1 7 7 4 9 7 7 1 1 1 9 8 3 6 5 9 2 8 3 5 4 0 1 2 0 2 3]\n",
            "rank: 1\n"
          ]
        }
      ],
      "source": [
        "Z = np.random.randint(0,10,100)\n",
        "\n",
        "print (Z)\n",
        "print('rank:', np.bincount(Z).argmax())"
      ]
    },
    {
      "cell_type": "markdown",
      "metadata": {
        "id": "uO_4Z4erRiKb"
      },
      "source": [
        "#### 84. Extract all the contiguous 3x3 blocks from a random 10x10 matrix (★★★) \n",
        "(**hint**: stride\\_tricks.as\\_strided)"
      ]
    },
    {
      "cell_type": "code",
      "execution_count": 85,
      "metadata": {
        "id": "laYalGXMRiKb",
        "outputId": "834511e5-9639-4192-8218-eec7929814ba",
        "colab": {
          "base_uri": "https://localhost:8080/"
        }
      },
      "outputs": [
        {
          "output_type": "stream",
          "name": "stdout",
          "text": [
            "[[[[2 0 3]\n",
            "   [2 3 1]\n",
            "   [1 2 1]]\n",
            "\n",
            "  [[0 3 1]\n",
            "   [3 1 3]\n",
            "   [2 1 3]]\n",
            "\n",
            "  [[3 1 4]\n",
            "   [1 3 4]\n",
            "   [1 3 3]]\n",
            "\n",
            "  [[1 4 2]\n",
            "   [3 4 2]\n",
            "   [3 3 4]]\n",
            "\n",
            "  [[4 2 0]\n",
            "   [4 2 0]\n",
            "   [3 4 3]]\n",
            "\n",
            "  [[2 0 2]\n",
            "   [2 0 1]\n",
            "   [4 3 2]]\n",
            "\n",
            "  [[0 2 1]\n",
            "   [0 1 0]\n",
            "   [3 2 4]]\n",
            "\n",
            "  [[2 1 4]\n",
            "   [1 0 4]\n",
            "   [2 4 0]]]\n",
            "\n",
            "\n",
            " [[[2 3 1]\n",
            "   [1 2 1]\n",
            "   [0 3 0]]\n",
            "\n",
            "  [[3 1 3]\n",
            "   [2 1 3]\n",
            "   [3 0 4]]\n",
            "\n",
            "  [[1 3 4]\n",
            "   [1 3 3]\n",
            "   [0 4 1]]\n",
            "\n",
            "  [[3 4 2]\n",
            "   [3 3 4]\n",
            "   [4 1 2]]\n",
            "\n",
            "  [[4 2 0]\n",
            "   [3 4 3]\n",
            "   [1 2 1]]\n",
            "\n",
            "  [[2 0 1]\n",
            "   [4 3 2]\n",
            "   [2 1 3]]\n",
            "\n",
            "  [[0 1 0]\n",
            "   [3 2 4]\n",
            "   [1 3 0]]\n",
            "\n",
            "  [[1 0 4]\n",
            "   [2 4 0]\n",
            "   [3 0 2]]]\n",
            "\n",
            "\n",
            " [[[1 2 1]\n",
            "   [0 3 0]\n",
            "   [0 2 0]]\n",
            "\n",
            "  [[2 1 3]\n",
            "   [3 0 4]\n",
            "   [2 0 1]]\n",
            "\n",
            "  [[1 3 3]\n",
            "   [0 4 1]\n",
            "   [0 1 3]]\n",
            "\n",
            "  [[3 3 4]\n",
            "   [4 1 2]\n",
            "   [1 3 3]]\n",
            "\n",
            "  [[3 4 3]\n",
            "   [1 2 1]\n",
            "   [3 3 2]]\n",
            "\n",
            "  [[4 3 2]\n",
            "   [2 1 3]\n",
            "   [3 2 1]]\n",
            "\n",
            "  [[3 2 4]\n",
            "   [1 3 0]\n",
            "   [2 1 2]]\n",
            "\n",
            "  [[2 4 0]\n",
            "   [3 0 2]\n",
            "   [1 2 3]]]\n",
            "\n",
            "\n",
            " [[[0 3 0]\n",
            "   [0 2 0]\n",
            "   [2 1 4]]\n",
            "\n",
            "  [[3 0 4]\n",
            "   [2 0 1]\n",
            "   [1 4 3]]\n",
            "\n",
            "  [[0 4 1]\n",
            "   [0 1 3]\n",
            "   [4 3 3]]\n",
            "\n",
            "  [[4 1 2]\n",
            "   [1 3 3]\n",
            "   [3 3 3]]\n",
            "\n",
            "  [[1 2 1]\n",
            "   [3 3 2]\n",
            "   [3 3 4]]\n",
            "\n",
            "  [[2 1 3]\n",
            "   [3 2 1]\n",
            "   [3 4 3]]\n",
            "\n",
            "  [[1 3 0]\n",
            "   [2 1 2]\n",
            "   [4 3 4]]\n",
            "\n",
            "  [[3 0 2]\n",
            "   [1 2 3]\n",
            "   [3 4 0]]]\n",
            "\n",
            "\n",
            " [[[0 2 0]\n",
            "   [2 1 4]\n",
            "   [3 4 2]]\n",
            "\n",
            "  [[2 0 1]\n",
            "   [1 4 3]\n",
            "   [4 2 3]]\n",
            "\n",
            "  [[0 1 3]\n",
            "   [4 3 3]\n",
            "   [2 3 1]]\n",
            "\n",
            "  [[1 3 3]\n",
            "   [3 3 3]\n",
            "   [3 1 1]]\n",
            "\n",
            "  [[3 3 2]\n",
            "   [3 3 4]\n",
            "   [1 1 1]]\n",
            "\n",
            "  [[3 2 1]\n",
            "   [3 4 3]\n",
            "   [1 1 4]]\n",
            "\n",
            "  [[2 1 2]\n",
            "   [4 3 4]\n",
            "   [1 4 1]]\n",
            "\n",
            "  [[1 2 3]\n",
            "   [3 4 0]\n",
            "   [4 1 1]]]\n",
            "\n",
            "\n",
            " [[[2 1 4]\n",
            "   [3 4 2]\n",
            "   [4 1 3]]\n",
            "\n",
            "  [[1 4 3]\n",
            "   [4 2 3]\n",
            "   [1 3 0]]\n",
            "\n",
            "  [[4 3 3]\n",
            "   [2 3 1]\n",
            "   [3 0 2]]\n",
            "\n",
            "  [[3 3 3]\n",
            "   [3 1 1]\n",
            "   [0 2 0]]\n",
            "\n",
            "  [[3 3 4]\n",
            "   [1 1 1]\n",
            "   [2 0 4]]\n",
            "\n",
            "  [[3 4 3]\n",
            "   [1 1 4]\n",
            "   [0 4 4]]\n",
            "\n",
            "  [[4 3 4]\n",
            "   [1 4 1]\n",
            "   [4 4 3]]\n",
            "\n",
            "  [[3 4 0]\n",
            "   [4 1 1]\n",
            "   [4 3 3]]]\n",
            "\n",
            "\n",
            " [[[3 4 2]\n",
            "   [4 1 3]\n",
            "   [4 1 2]]\n",
            "\n",
            "  [[4 2 3]\n",
            "   [1 3 0]\n",
            "   [1 2 3]]\n",
            "\n",
            "  [[2 3 1]\n",
            "   [3 0 2]\n",
            "   [2 3 0]]\n",
            "\n",
            "  [[3 1 1]\n",
            "   [0 2 0]\n",
            "   [3 0 2]]\n",
            "\n",
            "  [[1 1 1]\n",
            "   [2 0 4]\n",
            "   [0 2 1]]\n",
            "\n",
            "  [[1 1 4]\n",
            "   [0 4 4]\n",
            "   [2 1 1]]\n",
            "\n",
            "  [[1 4 1]\n",
            "   [4 4 3]\n",
            "   [1 1 3]]\n",
            "\n",
            "  [[4 1 1]\n",
            "   [4 3 3]\n",
            "   [1 3 3]]]\n",
            "\n",
            "\n",
            " [[[4 1 3]\n",
            "   [4 1 2]\n",
            "   [0 0 1]]\n",
            "\n",
            "  [[1 3 0]\n",
            "   [1 2 3]\n",
            "   [0 1 1]]\n",
            "\n",
            "  [[3 0 2]\n",
            "   [2 3 0]\n",
            "   [1 1 3]]\n",
            "\n",
            "  [[0 2 0]\n",
            "   [3 0 2]\n",
            "   [1 3 0]]\n",
            "\n",
            "  [[2 0 4]\n",
            "   [0 2 1]\n",
            "   [3 0 1]]\n",
            "\n",
            "  [[0 4 4]\n",
            "   [2 1 1]\n",
            "   [0 1 2]]\n",
            "\n",
            "  [[4 4 3]\n",
            "   [1 1 3]\n",
            "   [1 2 2]]\n",
            "\n",
            "  [[4 3 3]\n",
            "   [1 3 3]\n",
            "   [2 2 3]]]]\n"
          ]
        }
      ],
      "source": [
        "Z = np.random.randint(0,5,(10,10))\n",
        "n = 3\n",
        "i = 1 + (Z.shape[0]-3)\n",
        "j = 1 + (Z.shape[1]-3)\n",
        "C = np.lib.stride_tricks.as_strided(Z, shape=(i, j, n, n), strides=Z.strides + Z.strides)\n",
        "\n",
        "print(C)"
      ]
    },
    {
      "cell_type": "markdown",
      "metadata": {
        "id": "QA4FJO9ERiKb"
      },
      "source": [
        "#### 85. Create a 2D array subclass such that Z\\[i,j\\] == Z\\[j,i\\] (★★★) \n",
        "(**hint**: class method)"
      ]
    },
    {
      "cell_type": "code",
      "execution_count": 86,
      "metadata": {
        "id": "MTAiElVYRiKb",
        "outputId": "d11e06c8-8632-456c-9ac3-5e3bd3041627",
        "colab": {
          "base_uri": "https://localhost:8080/"
        }
      },
      "outputs": [
        {
          "output_type": "stream",
          "name": "stdout",
          "text": [
            "[[ 3 14  9 13  4]\n",
            " [14  4  9  4  8]\n",
            " [ 9  9  4 42  4]\n",
            " [13  4 42  2  9]\n",
            " [ 4  8  4  9  3]]\n"
          ]
        }
      ],
      "source": [
        "class Symetric(np.ndarray):\n",
        "    def __setitem__(self, index, value):\n",
        "        i,j = index\n",
        "        super(Symetric, self).__setitem__((i,j), value)\n",
        "        super(Symetric, self).__setitem__((j,i), value)\n",
        "\n",
        "def symetric(Z):\n",
        "    return np.asarray(Z + Z.T - np.diag(Z.diagonal())).view(Symetric)\n",
        "\n",
        "S = symetric(np.random.randint(0,10,(5,5)))\n",
        "S[2,3] = 42\n",
        "print(S)"
      ]
    },
    {
      "cell_type": "markdown",
      "metadata": {
        "id": "rdXIysOyRiKb"
      },
      "source": [
        "#### 86. Consider a set of p matrices wich shape (n,n) and a set of p vectors with shape (n,1). How to compute the sum of of the p matrix products at once? (result has shape (n,1)) (★★★) \n",
        "(**hint**: np.tensordot)"
      ]
    },
    {
      "cell_type": "code",
      "execution_count": 87,
      "metadata": {
        "id": "yCkJLGqBRiKc",
        "outputId": "1b25a1ff-81e9-4f04-f520-d079cf3244e6",
        "colab": {
          "base_uri": "https://localhost:8080/"
        }
      },
      "outputs": [
        {
          "output_type": "stream",
          "name": "stdout",
          "text": [
            "[[20000.]\n",
            " [20000.]\n",
            " [20000.]\n",
            " [20000.]\n",
            " [20000.]\n",
            " [20000.]\n",
            " [20000.]\n",
            " [20000.]\n",
            " [20000.]\n",
            " [20000.]\n",
            " [20000.]\n",
            " [20000.]\n",
            " [20000.]\n",
            " [20000.]\n",
            " [20000.]\n",
            " [20000.]\n",
            " [20000.]\n",
            " [20000.]\n",
            " [20000.]\n",
            " [20000.]\n",
            " [20000.]\n",
            " [20000.]\n",
            " [20000.]\n",
            " [20000.]\n",
            " [20000.]\n",
            " [20000.]\n",
            " [20000.]\n",
            " [20000.]\n",
            " [20000.]\n",
            " [20000.]\n",
            " [20000.]\n",
            " [20000.]\n",
            " [20000.]\n",
            " [20000.]\n",
            " [20000.]\n",
            " [20000.]\n",
            " [20000.]\n",
            " [20000.]\n",
            " [20000.]\n",
            " [20000.]\n",
            " [20000.]\n",
            " [20000.]\n",
            " [20000.]\n",
            " [20000.]\n",
            " [20000.]\n",
            " [20000.]\n",
            " [20000.]\n",
            " [20000.]\n",
            " [20000.]\n",
            " [20000.]\n",
            " [20000.]\n",
            " [20000.]\n",
            " [20000.]\n",
            " [20000.]\n",
            " [20000.]\n",
            " [20000.]\n",
            " [20000.]\n",
            " [20000.]\n",
            " [20000.]\n",
            " [20000.]\n",
            " [20000.]\n",
            " [20000.]\n",
            " [20000.]\n",
            " [20000.]\n",
            " [20000.]\n",
            " [20000.]\n",
            " [20000.]\n",
            " [20000.]\n",
            " [20000.]\n",
            " [20000.]\n",
            " [20000.]\n",
            " [20000.]\n",
            " [20000.]\n",
            " [20000.]\n",
            " [20000.]\n",
            " [20000.]\n",
            " [20000.]\n",
            " [20000.]\n",
            " [20000.]\n",
            " [20000.]\n",
            " [20000.]\n",
            " [20000.]\n",
            " [20000.]\n",
            " [20000.]\n",
            " [20000.]\n",
            " [20000.]\n",
            " [20000.]\n",
            " [20000.]\n",
            " [20000.]\n",
            " [20000.]\n",
            " [20000.]\n",
            " [20000.]\n",
            " [20000.]\n",
            " [20000.]\n",
            " [20000.]\n",
            " [20000.]\n",
            " [20000.]\n",
            " [20000.]\n",
            " [20000.]\n",
            " [20000.]\n",
            " [20000.]\n",
            " [20000.]\n",
            " [20000.]\n",
            " [20000.]\n",
            " [20000.]\n",
            " [20000.]\n",
            " [20000.]\n",
            " [20000.]\n",
            " [20000.]\n",
            " [20000.]\n",
            " [20000.]\n",
            " [20000.]\n",
            " [20000.]\n",
            " [20000.]\n",
            " [20000.]\n",
            " [20000.]\n",
            " [20000.]\n",
            " [20000.]\n",
            " [20000.]\n",
            " [20000.]\n",
            " [20000.]\n",
            " [20000.]\n",
            " [20000.]\n",
            " [20000.]\n",
            " [20000.]\n",
            " [20000.]\n",
            " [20000.]\n",
            " [20000.]\n",
            " [20000.]\n",
            " [20000.]\n",
            " [20000.]\n",
            " [20000.]\n",
            " [20000.]\n",
            " [20000.]\n",
            " [20000.]\n",
            " [20000.]\n",
            " [20000.]\n",
            " [20000.]\n",
            " [20000.]\n",
            " [20000.]\n",
            " [20000.]\n",
            " [20000.]\n",
            " [20000.]\n",
            " [20000.]\n",
            " [20000.]\n",
            " [20000.]\n",
            " [20000.]\n",
            " [20000.]\n",
            " [20000.]\n",
            " [20000.]\n",
            " [20000.]\n",
            " [20000.]\n",
            " [20000.]\n",
            " [20000.]\n",
            " [20000.]\n",
            " [20000.]\n",
            " [20000.]\n",
            " [20000.]\n",
            " [20000.]\n",
            " [20000.]\n",
            " [20000.]\n",
            " [20000.]\n",
            " [20000.]\n",
            " [20000.]\n",
            " [20000.]\n",
            " [20000.]\n",
            " [20000.]\n",
            " [20000.]\n",
            " [20000.]\n",
            " [20000.]\n",
            " [20000.]\n",
            " [20000.]\n",
            " [20000.]\n",
            " [20000.]\n",
            " [20000.]\n",
            " [20000.]\n",
            " [20000.]\n",
            " [20000.]\n",
            " [20000.]\n",
            " [20000.]\n",
            " [20000.]\n",
            " [20000.]\n",
            " [20000.]\n",
            " [20000.]\n",
            " [20000.]\n",
            " [20000.]\n",
            " [20000.]\n",
            " [20000.]\n",
            " [20000.]\n",
            " [20000.]\n",
            " [20000.]\n",
            " [20000.]\n",
            " [20000.]\n",
            " [20000.]\n",
            " [20000.]\n",
            " [20000.]\n",
            " [20000.]\n",
            " [20000.]\n",
            " [20000.]\n",
            " [20000.]]\n"
          ]
        }
      ],
      "source": [
        "p, n = 100, 200\n",
        "M = np.ones((p,n,n))\n",
        "V = np.ones((p,n,1))\n",
        "S = np.tensordot(M, V, axes=[[0, 2], [0, 1]])\n",
        "\n",
        "print(S)"
      ]
    },
    {
      "cell_type": "markdown",
      "metadata": {
        "id": "ZAV6WSXuRiKc"
      },
      "source": [
        "#### 87. Consider a 16x16 array, how to get the block-sum (block size is 4x4)? (★★★) \n",
        "(**hint**: np.add.reduceat)"
      ]
    },
    {
      "cell_type": "code",
      "execution_count": 88,
      "metadata": {
        "id": "DUsS2CXSRiKc",
        "outputId": "dcfc01b2-024c-4dd9-cdd4-51b86b9700dd",
        "colab": {
          "base_uri": "https://localhost:8080/"
        }
      },
      "outputs": [
        {
          "output_type": "stream",
          "name": "stdout",
          "text": [
            "[[16. 16. 16. 16.]\n",
            " [16. 16. 16. 16.]\n",
            " [16. 16. 16. 16.]\n",
            " [16. 16. 16. 16.]]\n"
          ]
        }
      ],
      "source": [
        "Z = np.ones((16,16))\n",
        "k = 4\n",
        "S = np.add.reduceat(np.add.reduceat(Z, np.arange(0, Z.shape[0], k), axis=0),\n",
        "                                       np.arange(0, Z.shape[1], k), axis=1)\n",
        "print (S)"
      ]
    },
    {
      "cell_type": "markdown",
      "metadata": {
        "id": "IBEt3TZARiKc"
      },
      "source": [
        "#### 88. How to implement the Game of Life using numpy arrays? (★★★)"
      ]
    },
    {
      "cell_type": "code",
      "execution_count": 89,
      "metadata": {
        "id": "zfZJncNJRiKc",
        "outputId": "dabed3a3-4b34-426a-bd10-106ba52612be",
        "colab": {
          "base_uri": "https://localhost:8080/"
        }
      },
      "outputs": [
        {
          "output_type": "stream",
          "name": "stdout",
          "text": [
            "[[0 0 0 0 0 0 0 0 0 0 0 0 0 0 0 0 0 0 0 0 0 0 0 0 0 0 0 0 0 0 0 0 0 0 0 0 0 0 0 0 0 0 0 0 0 0 0 0 0 0]\n",
            " [0 0 0 0 0 0 0 0 0 0 0 0 1 1 1 0 0 0 0 0 0 0 0 0 0 0 0 0 0 0 0 1 0 0 0 0 0 0 0 0 0 0 0 0 0 0 0 0 0 0]\n",
            " [0 0 0 0 0 0 0 0 0 0 0 0 0 0 0 1 0 0 0 0 0 0 0 0 0 0 0 0 0 0 1 0 1 0 0 0 0 0 0 0 0 0 0 0 0 0 0 0 0 0]\n",
            " [0 0 0 0 0 0 0 0 0 0 0 0 0 0 0 0 1 0 0 0 0 0 0 0 0 0 0 0 0 0 1 0 1 0 0 0 0 1 1 0 0 0 0 0 0 0 0 0 0 0]\n",
            " [0 0 0 0 0 0 0 0 0 0 0 0 0 0 0 0 1 0 0 0 0 0 0 0 0 0 0 0 0 0 0 1 0 0 0 0 0 1 1 0 0 0 0 0 0 0 0 0 0 0]\n",
            " [0 0 0 0 0 0 0 0 0 0 0 0 0 0 0 0 0 0 0 0 0 0 0 0 0 0 0 0 0 0 0 0 0 0 0 0 0 0 0 0 0 0 0 0 0 0 0 0 0 0]\n",
            " [0 0 0 0 0 0 0 0 0 0 0 0 0 0 0 0 1 0 0 0 0 0 0 0 0 0 0 0 0 0 0 0 0 0 0 0 0 0 0 0 0 0 0 0 0 0 0 0 0 0]\n",
            " [0 0 0 0 0 0 0 0 0 1 0 0 0 0 0 0 1 1 0 1 1 0 0 0 0 0 0 0 0 0 0 0 0 0 0 0 0 0 0 0 0 0 0 0 0 0 0 0 0 0]\n",
            " [0 0 0 0 0 0 0 0 0 0 0 0 0 0 1 0 1 1 0 1 1 0 0 0 0 1 0 0 0 0 0 0 0 0 0 0 0 0 0 0 0 0 0 0 0 0 0 0 0 0]\n",
            " [0 0 0 0 0 0 0 0 0 0 1 0 0 0 0 1 0 1 1 0 0 0 0 0 0 1 0 0 0 0 0 0 0 0 0 0 0 0 0 0 0 0 0 0 0 0 0 0 0 0]\n",
            " [0 0 0 0 0 1 0 0 0 0 0 1 0 0 0 0 0 0 1 0 0 0 0 0 0 0 1 0 0 0 0 0 0 0 0 0 0 1 1 0 0 0 0 0 0 0 0 0 0 0]\n",
            " [0 0 0 0 0 1 0 0 0 0 0 0 1 1 1 0 1 0 1 0 0 0 0 0 1 1 0 0 0 0 0 0 0 0 0 0 0 1 1 0 0 0 1 0 0 0 0 0 0 0]\n",
            " [0 0 0 0 0 1 0 0 0 0 0 0 0 0 0 0 0 1 1 0 0 0 0 1 0 0 1 0 0 0 0 0 0 0 0 0 0 0 0 0 0 1 1 0 0 0 0 0 0 0]\n",
            " [0 0 0 0 0 0 0 0 0 0 0 0 0 0 0 0 0 0 0 0 0 0 0 0 1 1 0 0 0 0 0 0 0 0 0 0 0 0 0 0 1 1 0 0 0 0 0 0 0 0]\n",
            " [0 0 0 0 0 0 0 0 0 0 1 0 0 0 0 0 0 0 0 0 0 0 0 0 0 0 0 0 1 1 1 0 0 0 0 0 0 1 1 0 0 1 0 0 0 0 0 0 0 0]\n",
            " [0 0 0 0 0 0 0 0 0 1 0 1 0 0 0 0 1 1 1 0 0 0 0 0 0 0 0 0 1 1 1 1 0 0 0 0 1 0 0 1 0 0 1 1 1 1 0 0 0 0]\n",
            " [0 0 0 0 0 0 0 0 0 0 1 1 0 0 0 1 0 1 1 0 0 0 0 0 0 0 0 1 0 0 0 1 1 0 0 0 0 1 0 1 0 0 0 1 1 1 0 0 0 0]\n",
            " [0 1 1 0 0 0 0 0 0 0 1 1 0 0 0 1 0 0 0 0 0 0 0 0 0 1 0 1 0 0 0 1 0 0 0 0 0 1 0 0 1 0 0 0 0 0 0 0 0 0]\n",
            " [0 1 1 0 0 0 0 0 0 0 0 0 0 0 0 0 0 1 0 0 0 0 0 0 1 1 0 1 0 0 0 1 1 0 0 0 0 0 0 1 1 0 0 0 0 0 0 0 0 0]\n",
            " [0 0 0 0 0 0 0 0 0 0 0 0 0 0 0 0 0 0 1 1 0 0 0 1 0 1 1 0 1 0 0 1 0 0 0 0 0 0 1 1 0 1 1 0 0 0 0 0 0 0]\n",
            " [0 0 0 0 0 0 0 0 0 0 0 0 0 0 0 1 1 1 0 0 1 0 0 0 1 1 1 0 1 0 0 1 1 0 0 1 1 1 1 1 1 0 1 1 0 0 0 0 0 0]\n",
            " [0 0 0 0 0 0 0 0 0 0 0 0 0 0 0 1 0 0 1 0 1 0 0 0 0 1 0 0 1 1 0 1 1 0 0 1 1 0 1 1 1 0 0 0 1 0 0 0 0 0]\n",
            " [0 0 0 0 0 0 0 0 0 0 0 0 0 0 0 0 0 0 0 0 0 0 0 0 0 0 0 0 1 1 1 0 0 0 1 0 1 0 1 1 0 0 1 1 0 0 0 0 0 0]\n",
            " [0 0 0 0 1 1 0 0 0 0 0 0 0 0 0 0 0 0 0 0 0 0 0 0 0 0 0 0 0 1 0 0 0 1 1 1 0 1 1 1 0 0 1 0 0 0 0 0 0 0]\n",
            " [0 0 0 1 1 0 1 1 0 0 0 0 0 0 0 0 1 0 1 0 0 0 0 0 0 0 0 0 0 0 0 0 0 1 1 0 0 0 1 0 0 0 0 0 0 0 0 0 0 0]\n",
            " [0 0 0 0 0 0 1 1 0 0 0 0 0 0 0 0 1 0 0 1 0 0 0 0 0 0 0 0 0 0 0 0 0 0 0 0 0 0 0 0 0 0 0 0 0 0 0 0 0 0]\n",
            " [0 0 0 0 0 0 1 0 0 1 0 0 0 0 0 0 0 0 1 1 0 1 0 0 0 0 0 0 0 0 0 0 0 1 0 0 0 0 0 0 0 0 0 0 0 0 0 0 0 0]\n",
            " [0 0 0 1 1 1 0 1 1 1 0 0 0 0 0 0 0 0 1 0 0 1 0 0 0 0 0 0 0 0 0 0 0 0 1 0 0 0 0 0 0 0 0 0 0 0 0 0 0 0]\n",
            " [0 0 0 0 0 0 1 0 0 0 1 0 0 1 1 0 0 0 1 1 0 0 0 0 0 0 0 0 0 0 0 0 0 0 1 0 0 0 0 0 0 0 0 0 0 0 0 0 0 0]\n",
            " [0 0 0 0 0 0 0 1 0 0 0 1 0 1 1 0 0 0 0 0 0 0 0 0 0 0 0 0 0 0 0 0 0 0 0 0 0 0 0 0 0 0 0 0 0 0 0 0 0 0]\n",
            " [0 0 0 0 0 1 0 1 0 1 1 0 0 0 0 0 0 0 0 0 0 0 0 0 0 0 0 0 0 0 0 0 0 0 0 0 0 0 0 0 0 0 0 0 0 0 0 0 0 0]\n",
            " [0 0 0 0 0 1 0 1 1 0 0 0 0 0 0 0 0 0 0 0 0 0 0 0 0 0 0 0 0 0 0 0 0 0 0 0 0 0 0 0 0 0 0 0 0 0 0 0 0 0]\n",
            " [0 0 0 0 0 0 1 0 0 0 0 0 0 0 0 0 0 0 0 0 1 1 1 0 0 0 0 0 0 0 0 0 0 0 0 0 0 0 0 0 1 0 0 0 0 0 0 0 0 0]\n",
            " [0 0 0 0 0 0 0 0 0 0 0 0 0 0 0 1 1 0 0 0 0 1 0 0 1 0 0 0 0 0 0 0 0 0 0 0 0 0 0 1 0 1 0 0 0 0 0 0 0 0]\n",
            " [0 0 0 0 0 0 0 0 0 0 0 0 0 1 1 1 1 0 0 0 1 1 1 1 1 1 0 0 0 0 0 0 0 0 0 0 0 0 0 1 1 1 0 0 0 0 0 0 0 0]\n",
            " [0 0 0 0 0 0 0 0 0 0 0 0 1 1 0 0 0 0 0 1 1 0 1 0 0 0 1 0 0 0 0 0 0 0 0 0 0 0 0 0 1 0 0 0 0 0 0 0 0 0]\n",
            " [0 0 0 0 0 0 0 0 0 0 0 1 0 0 0 0 0 1 1 1 0 0 0 1 1 0 1 0 0 1 1 0 0 0 0 0 0 0 1 0 1 0 0 0 0 0 0 0 0 0]\n",
            " [0 0 0 0 0 0 0 0 0 0 0 0 1 0 0 0 0 1 0 0 0 1 1 1 0 0 1 0 0 1 1 1 0 1 0 0 0 0 1 1 0 0 0 0 0 0 0 0 0 0]\n",
            " [0 0 0 0 0 0 0 0 0 0 0 0 0 0 0 0 0 0 1 1 0 0 0 1 1 0 1 0 0 0 0 0 0 1 1 0 0 0 0 0 0 0 0 0 0 0 0 0 0 0]\n",
            " [0 0 0 0 0 0 0 0 0 0 0 0 0 0 0 1 1 0 0 1 0 0 0 0 1 0 1 0 0 0 0 0 0 1 0 0 0 0 1 0 0 0 0 0 0 0 0 0 0 0]\n",
            " [0 0 1 1 0 0 0 0 0 0 0 0 0 0 0 0 1 0 0 0 1 0 0 1 1 0 1 1 0 0 0 0 0 0 0 0 0 0 1 0 0 0 0 0 0 0 0 0 0 0]\n",
            " [0 0 1 1 0 0 0 0 0 0 0 0 0 0 0 1 0 1 0 0 1 1 0 1 0 0 0 1 0 0 0 0 0 0 0 0 0 0 1 0 0 0 0 0 0 0 0 0 0 0]\n",
            " [0 0 0 0 0 0 0 0 0 0 0 0 0 0 0 0 0 0 0 0 0 0 0 0 0 1 1 0 0 0 0 0 0 0 0 0 0 0 0 0 0 0 0 0 0 0 0 0 0 0]\n",
            " [0 0 0 0 0 0 0 0 0 0 0 0 0 0 0 0 0 0 0 0 0 1 1 0 1 0 1 0 0 0 0 0 0 0 0 0 0 0 0 0 0 0 0 0 0 0 0 0 0 0]\n",
            " [0 0 0 1 0 0 0 0 0 0 0 0 0 0 0 0 0 0 0 0 1 0 0 0 1 1 0 0 0 0 0 0 0 0 0 0 0 0 0 0 0 0 0 0 0 0 0 0 0 0]\n",
            " [0 0 1 0 1 0 0 0 0 0 0 0 0 0 0 0 0 0 0 0 1 0 0 0 1 1 0 0 0 0 0 0 0 0 0 0 0 0 0 0 0 0 0 0 0 0 0 0 0 0]\n",
            " [0 0 1 1 0 0 0 0 0 0 0 0 0 0 0 0 0 0 0 0 1 1 1 0 0 0 0 0 0 0 0 0 0 0 0 0 0 0 0 0 0 0 0 0 0 0 0 0 0 0]\n",
            " [0 0 0 0 0 0 0 0 0 0 0 0 0 0 0 0 0 0 0 0 0 0 1 1 1 0 0 0 0 0 0 0 0 0 0 0 0 0 0 0 0 0 0 0 0 1 1 0 0 0]\n",
            " [0 0 0 0 0 0 0 0 0 0 0 0 0 0 0 0 0 0 0 0 0 0 0 0 0 0 0 0 0 0 0 0 0 0 0 0 0 0 0 0 0 0 0 0 0 1 1 0 0 0]\n",
            " [0 0 0 0 0 0 0 0 0 0 0 0 0 0 0 0 0 0 0 0 0 0 0 0 0 0 0 0 0 0 0 0 0 0 0 0 0 0 0 0 0 0 0 0 0 0 0 0 0 0]]\n"
          ]
        }
      ],
      "source": [
        "def iterate(Z):\n",
        "   \n",
        "    N = (Z[0:-2,0:-2] + Z[0:-2,1:-1] + Z[0:-2,2:] +\n",
        "         Z[1:-1,0:-2]                + Z[1:-1,2:] +\n",
        "         Z[2:  ,0:-2] + Z[2:  ,1:-1] + Z[2:  ,2:])\n",
        "\n",
        "    birth = (N==3) & (Z[1:-1,1:-1]==0)\n",
        "    survive = ((N==2) | (N==3)) & (Z[1:-1,1:-1]==1)\n",
        "    Z[...] = 0\n",
        "    Z[1:-1,1:-1][birth | survive] = 1\n",
        "    return Z\n",
        "\n",
        "Z = np.random.randint(0,2,(50,50))\n",
        "for i in range(100): Z = iterate(Z)\n",
        "print(Z)"
      ]
    },
    {
      "cell_type": "markdown",
      "metadata": {
        "id": "VcHd-1JTRiKc"
      },
      "source": [
        "#### 89. How to get the n largest values of an array (★★★) \n",
        "(**hint**: np.argsort | np.argpartition)"
      ]
    },
    {
      "cell_type": "code",
      "execution_count": 90,
      "metadata": {
        "id": "xcL8WR_XRiKc",
        "outputId": "17ec4720-e5a1-479f-cc38-efb6d5510eb8",
        "colab": {
          "base_uri": "https://localhost:8080/"
        }
      },
      "outputs": [
        {
          "output_type": "stream",
          "name": "stdout",
          "text": [
            "[9995 9996 9997 9998 9999]\n",
            "[9999 9998 9997 9996 9995]\n"
          ]
        }
      ],
      "source": [
        "Z = np.arange(10000)\n",
        "np.random.shuffle(Z)\n",
        "n = 5\n",
        "\n",
        "print (Z[np.argsort(Z)[-n:]])\n",
        "\n",
        "print (Z[np.argpartition(-Z,n)[:n]])"
      ]
    },
    {
      "cell_type": "markdown",
      "metadata": {
        "id": "sODFY8YARiKc"
      },
      "source": [
        "#### 90. Given an arbitrary number of vectors, build the cartesian product (every combinations of every item) (★★★) \n",
        "(**hint**: np.indices)"
      ]
    },
    {
      "cell_type": "code",
      "execution_count": 91,
      "metadata": {
        "scrolled": true,
        "id": "dvSxgm7yRiKc",
        "outputId": "3d3341d9-d1a4-4fe5-8a46-a0fa4bee3594",
        "colab": {
          "base_uri": "https://localhost:8080/"
        }
      },
      "outputs": [
        {
          "output_type": "stream",
          "name": "stdout",
          "text": [
            "[[1 4 6]\n",
            " [1 4 7]\n",
            " [1 5 6]\n",
            " [1 5 7]\n",
            " [2 4 6]\n",
            " [2 4 7]\n",
            " [2 5 6]\n",
            " [2 5 7]\n",
            " [3 4 6]\n",
            " [3 4 7]\n",
            " [3 5 6]\n",
            " [3 5 7]]\n"
          ]
        }
      ],
      "source": [
        "def cartesian(arrays):\n",
        "    arrays = [np.asarray(a) for a in arrays]\n",
        "    shape = (len(x) for x in arrays)\n",
        "\n",
        "    ix = np.indices(shape, dtype=int)\n",
        "    ix = ix.reshape(len(arrays), -1).T\n",
        "\n",
        "    for n, arr in enumerate(arrays):\n",
        "        ix[:, n] = arrays[n][ix[:, n]]\n",
        "\n",
        "    return ix\n",
        "\n",
        "print (cartesian(([1, 2, 3], [4, 5], [6, 7])))"
      ]
    },
    {
      "cell_type": "markdown",
      "metadata": {
        "id": "6zfWn7iiRiKc"
      },
      "source": [
        "#### 91. How to create a record array from a regular array? (★★★) \n",
        "(**hint**: np.core.records.fromarrays)"
      ]
    },
    {
      "cell_type": "code",
      "execution_count": 92,
      "metadata": {
        "id": "U0C8dr3GRiKd",
        "outputId": "23544e7d-8d05-44a9-f2b0-b85f31cc167c",
        "colab": {
          "base_uri": "https://localhost:8080/"
        }
      },
      "outputs": [
        {
          "output_type": "stream",
          "name": "stdout",
          "text": [
            "[(b'Hello', 2.5, 3) (b'World', 3.6, 2)]\n"
          ]
        }
      ],
      "source": [
        "Z = np.array([(\"Hello\", 2.5, 3),\n",
        "              (\"World\", 3.6, 2)])\n",
        "R = np.core.records.fromarrays(Z.T,\n",
        "                               names='col1, col2, col3',\n",
        "                               formats = 'S8, f8, i8')\n",
        "print(R)"
      ]
    },
    {
      "cell_type": "markdown",
      "metadata": {
        "id": "IblQADl5RiKd"
      },
      "source": [
        "#### 92. Consider a large vector Z, compute Z to the power of 3 using 3 different methods (★★★) \n",
        "(**hint**: np.power, \\*, np.einsum)"
      ]
    },
    {
      "cell_type": "code",
      "execution_count": 93,
      "metadata": {
        "id": "1dJxFPP9RiKd",
        "outputId": "b165c7bd-5f94-47d2-ff27-5365cea238ae",
        "colab": {
          "base_uri": "https://localhost:8080/"
        }
      },
      "outputs": [
        {
          "output_type": "stream",
          "name": "stdout",
          "text": [
            "2.11 s ± 8.9 ms per loop (mean ± std. dev. of 7 runs, 1 loop each)\n",
            "59.6 ms ± 726 µs per loop (mean ± std. dev. of 7 runs, 10 loops each)\n",
            "49.7 ms ± 1.38 ms per loop (mean ± std. dev. of 7 runs, 10 loops each)\n"
          ]
        }
      ],
      "source": [
        "x = np.random.rand(int(5e7))\n",
        "\n",
        "%timeit np.power(x,3)\n",
        "%timeit x*x*x\n",
        "%timeit np.einsum('i,i,i->i',x,x,x)"
      ]
    },
    {
      "cell_type": "markdown",
      "metadata": {
        "id": "u3ZgZ1YURiKd"
      },
      "source": [
        "#### 93. Consider two arrays A and B of shape (8,3) and (2,2). How to find rows of A that contain elements of each row of B regardless of the order of the elements in B? (★★★) \n",
        "(**hint**: np.where)"
      ]
    },
    {
      "cell_type": "code",
      "execution_count": 94,
      "metadata": {
        "id": "dBbQXKnKRiKd",
        "outputId": "ee800113-bf76-4009-b261-9a7149d4bbab",
        "colab": {
          "base_uri": "https://localhost:8080/"
        }
      },
      "outputs": [
        {
          "output_type": "stream",
          "name": "stdout",
          "text": [
            "[2 3 5]\n"
          ]
        }
      ],
      "source": [
        "A = np.random.randint(0,5,(8,3))\n",
        "B = np.random.randint(0,5,(2,2))\n",
        "\n",
        "C = (A[..., np.newaxis, np.newaxis] == B)\n",
        "rows = np.where(C.any((3,1)).all(1))[0]\n",
        "print(rows)"
      ]
    },
    {
      "cell_type": "markdown",
      "metadata": {
        "id": "I1rIyRruRiKd"
      },
      "source": [
        "#### 94. Considering a 10x3 matrix, extract rows with unequal values (e.g. \\[2,2,3\\]) (★★★)"
      ]
    },
    {
      "cell_type": "code",
      "execution_count": 95,
      "metadata": {
        "id": "r0aHdY-iRiKd",
        "outputId": "232132a1-ae2d-40a2-894c-6c3f9a5de62d",
        "colab": {
          "base_uri": "https://localhost:8080/"
        }
      },
      "outputs": [
        {
          "output_type": "stream",
          "name": "stdout",
          "text": [
            "[[1 1 0]\n",
            " [0 2 4]\n",
            " [4 3 4]\n",
            " [3 1 4]\n",
            " [4 1 3]\n",
            " [1 4 0]\n",
            " [0 1 3]\n",
            " [1 0 1]\n",
            " [3 4 4]\n",
            " [0 3 0]] \n",
            "\n",
            "[[1 1 0]\n",
            " [0 2 4]\n",
            " [4 3 4]\n",
            " [3 1 4]\n",
            " [4 1 3]\n",
            " [1 4 0]\n",
            " [0 1 3]\n",
            " [1 0 1]\n",
            " [3 4 4]\n",
            " [0 3 0]]\n"
          ]
        }
      ],
      "source": [
        "Z = np.random.randint(0,5,(10,3))\n",
        "E = np.logical_and.reduce(Z[:,1:] == Z[:,:-1], axis=1)\n",
        "U = Z[~E]\n",
        "\n",
        "print(Z,\"\\n\")\n",
        "print(U)"
      ]
    },
    {
      "cell_type": "markdown",
      "metadata": {
        "id": "xdzPCabpRiKd"
      },
      "source": [
        "#### 95. Convert a vector of ints into a matrix binary representation (★★★) \n",
        "(**hint**: np.unpackbits)"
      ]
    },
    {
      "cell_type": "code",
      "execution_count": 96,
      "metadata": {
        "id": "6dZQOtMMRiKd",
        "outputId": "aac8fd6e-0aca-4faf-a483-c529e35576fc",
        "colab": {
          "base_uri": "https://localhost:8080/"
        }
      },
      "outputs": [
        {
          "output_type": "stream",
          "name": "stdout",
          "text": [
            "[[0 0 0 0 0 0 0 0]\n",
            " [0 0 0 0 0 0 0 1]\n",
            " [0 0 0 0 0 0 1 0]\n",
            " [0 0 0 0 0 0 1 1]\n",
            " [0 0 0 0 1 1 1 1]\n",
            " [0 0 0 1 0 0 0 0]\n",
            " [0 0 1 0 0 0 0 0]\n",
            " [0 1 0 0 0 0 0 0]\n",
            " [1 0 0 0 0 0 0 0]]\n"
          ]
        }
      ],
      "source": [
        "I = np.array([0, 1, 2, 3, 15, 16, 32, 64, 128], dtype=np.uint8)\n",
        "\n",
        "print(np.unpackbits(I[:, np.newaxis], axis=1))"
      ]
    },
    {
      "cell_type": "markdown",
      "metadata": {
        "id": "GlWGrCk_RiKd"
      },
      "source": [
        "#### 96. Given a two dimensional array, how to extract unique rows? (★★★) \n",
        "(**hint**: np.ascontiguousarray)"
      ]
    },
    {
      "cell_type": "code",
      "execution_count": 97,
      "metadata": {
        "id": "mUDh98H9RiKe",
        "outputId": "0485d1ea-d8bd-4b57-f9c8-230548ea8046",
        "colab": {
          "base_uri": "https://localhost:8080/"
        }
      },
      "outputs": [
        {
          "output_type": "stream",
          "name": "stdout",
          "text": [
            "[[0 1 0 0]\n",
            " [0 0 0 1]\n",
            " [1 0 1 1]\n",
            " [1 0 1 1]\n",
            " [0 1 0 1]\n",
            " [0 0 0 1]] \n",
            "\n",
            "[[0 0 0 1]\n",
            " [0 1 0 0]\n",
            " [0 1 0 1]\n",
            " [1 0 1 1]]\n"
          ]
        }
      ],
      "source": [
        "Z = np.random.randint(0,2,(6,4))\n",
        "T = np.ascontiguousarray(Z).view(np.dtype((np.void, Z.dtype.itemsize * Z.shape[1])))\n",
        "_, idx = np.unique(T, return_index=True)\n",
        "uZ = Z[idx]\n",
        "print(Z,\"\\n\")\n",
        "print(uZ)"
      ]
    },
    {
      "cell_type": "markdown",
      "metadata": {
        "id": "KLJzDP2URiKe"
      },
      "source": [
        "#### 97. Considering 2 vectors A & B, write the einsum equivalent of inner, outer, sum, and mul function (★★★) \n",
        "(**hint**: np.einsum)"
      ]
    },
    {
      "cell_type": "code",
      "execution_count": 98,
      "metadata": {
        "id": "qhW15aD3RiKe",
        "outputId": "594994ce-d5b2-4724-ddb6-e0247be663b2",
        "colab": {
          "base_uri": "https://localhost:8080/"
        }
      },
      "outputs": [
        {
          "output_type": "stream",
          "name": "stdout",
          "text": [
            "5.071761510931966 \n",
            "\n",
            "[0.03538756 0.22626335 0.01174049 0.12337767 0.60760091 0.57102054 0.09151833 0.38009517 0.04713956 0.1681114 ] \n",
            "\n",
            "2.2622549797174374 \n",
            "\n",
            "[[0.03538756 0.25073446 0.0667085  0.19809235 0.58957714 0.40385821 0.47410069 0.4667147  0.13437042 0.11034766]\n",
            " [0.03193381 0.22626335 0.06019791 0.17875899 0.53203575 0.36444257 0.42782954 0.42116441 0.12125617 0.09957798]\n",
            " [0.0062281  0.04412849 0.01174049 0.03486364 0.10376376 0.0710778  0.08344026 0.08214035 0.02364878 0.01942085]\n",
            " [0.0220404  0.15616471 0.041548   0.12337767 0.36720578 0.25153463 0.29528369 0.29068348 0.0836898  0.06872773]\n",
            " [0.03646938 0.25839958 0.06874783 0.20414817 0.60760091 0.41620442 0.48859426 0.48098248 0.13847821 0.11372106]\n",
            " [0.05003495 0.35451682 0.09432005 0.28008543 0.83361104 0.57102054 0.67033733 0.65989418 0.18998814 0.15602204]\n",
            " [0.00683106 0.04840068 0.01287712 0.03823888 0.11380939 0.07795902 0.09151833 0.09009257 0.02593828 0.02130103]\n",
            " [0.02881984 0.20419961 0.0543278  0.16132757 0.48015506 0.32890448 0.38611037 0.38009517 0.10943205 0.08986778]\n",
            " [0.01241459 0.08796215 0.02340254 0.06949435 0.20683425 0.14168071 0.16632304 0.1637319  0.04713956 0.03871194]\n",
            " [0.0539119  0.38198655 0.10162844 0.30178785 0.89820336 0.61526606 0.7222784  0.71102606 0.20470936 0.1681114 ]]\n"
          ]
        }
      ],
      "source": [
        "A = np.random.uniform(0,1,10)\n",
        "B = np.random.uniform(0,1,10)\n",
        "\n",
        "print(np.einsum('i->', A),\"\\n\" )      \n",
        "print(np.einsum('i,i->i', A, B),\"\\n\") \n",
        "print(np.einsum('i,i', A, B),\"\\n\")    \n",
        "print(np.einsum('i,j->ij', A, B))"
      ]
    },
    {
      "cell_type": "markdown",
      "metadata": {
        "id": "tNYKYp6bRiKe"
      },
      "source": [
        "#### 98. Considering a path described by two vectors (X,Y), how to sample it using equidistant samples (★★★)? \n",
        "(**hint**: np.cumsum, np.interp)"
      ]
    },
    {
      "cell_type": "code",
      "execution_count": 99,
      "metadata": {
        "collapsed": true,
        "id": "Iu_17YmYRiKe",
        "outputId": "8b0376f5-128a-41c3-c063-25267511b9a5",
        "colab": {
          "base_uri": "https://localhost:8080/"
        }
      },
      "outputs": [
        {
          "output_type": "stream",
          "name": "stdout",
          "text": [
            "[1.00000000e-01 2.00994225e-01 3.03948099e-01 4.09773428e-01 5.19310334e-01 6.33316917e-01 7.52465988e-01 8.77347271e-01 1.00847317e+00 1.14628646e+00 1.29116861e+00 1.44344797e+00 1.60340735e+00 1.77129076e+00 1.94730924e+00 2.13164591e+00 2.32446017e+00 2.52589132e+00 2.73606151e+00 2.95507828e+00 3.18303664e+00 3.42002084e+00 3.66610588e+00 3.92135873e+00 4.18583938e+00 4.45960178e+00 4.74269456e+00 5.03516168e+00 5.33704304e+00 5.64837490e+00 5.96919031e+00 6.29951948e+00 6.63939009e+00 6.98882753e+00 7.34785520e+00 7.71649464e+00 8.09476576e+00 8.48268698e+00 8.88027538e+00 9.28754684e+00 9.70451612e+00 1.01311970e+01 1.05676022e+01 1.10137439e+01 1.14696332e+01 1.19352807e+01 1.24106962e+01 1.28958890e+01 1.33908678e+01 1.38956409e+01 1.44102161e+01 1.49346005e+01 1.54688013e+01 1.60128248e+01 1.65666773e+01 1.71303646e+01 1.77038924e+01 1.82872658e+01 1.88804900e+01 1.94835697e+01 2.00965094e+01 2.07193135e+01 2.13519861e+01 2.19945311e+01 2.26469523e+01 2.33092533e+01 2.39814376e+01 2.46635083e+01 2.53554686e+01 2.60573216e+01 2.67690702e+01 2.74907170e+01 2.82222648e+01 2.89637160e+01 2.97150732e+01 3.04763387e+01 3.12475148e+01 3.20286035e+01 3.28196071e+01 3.36205275e+01 3.44313667e+01 3.52521266e+01 3.60828088e+01 3.69234153e+01 3.77739476e+01 3.86344073e+01 3.95047962e+01 4.03851155e+01 4.12753669e+01 4.21755518e+01 4.30856714e+01 4.40057271e+01 4.49357203e+01 4.58756521e+01 4.68255237e+01 4.77853363e+01 4.87550910e+01 4.97347890e+01 5.07244312e+01 5.17240188e+01 5.27335526e+01 5.37530338e+01 5.47824631e+01 5.58218416e+01 5.68711701e+01 5.79304495e+01 5.89996806e+01 6.00788642e+01 6.11680012e+01 6.22670923e+01 6.33761382e+01 6.44951397e+01 6.56240975e+01 6.67630122e+01 6.79118847e+01 6.90707154e+01 7.02395051e+01 7.14182544e+01 7.26069639e+01 7.38056341e+01 7.50142658e+01 7.62328593e+01 7.74614153e+01 7.86999344e+01 7.99484170e+01 8.12068636e+01 8.24752748e+01 8.37536510e+01 8.50419928e+01 8.63403005e+01 8.76485747e+01 8.89668157e+01 9.02950241e+01 9.16332002e+01 9.29813445e+01 9.43394574e+01 9.57075392e+01 9.70855903e+01 9.84736112e+01 9.98716023e+01 1.01279564e+02 1.02697496e+02 1.04125400e+02 1.05563275e+02 1.07011121e+02 1.08468941e+02 1.09936732e+02 1.11414496e+02 1.12902234e+02 1.14399945e+02 1.15907630e+02 1.17425288e+02 1.18952921e+02 1.20490529e+02 1.22038111e+02 1.23595669e+02 1.25163202e+02 1.26740711e+02 1.28328195e+02 1.29925656e+02 1.31533093e+02 1.33150507e+02 1.34777897e+02 1.36415265e+02 1.38062610e+02 1.39719933e+02 1.41387233e+02 1.43064512e+02 1.44751768e+02 1.46449003e+02 1.48156217e+02 1.49873409e+02 1.51600581e+02 1.53337731e+02 1.55084861e+02 1.56841971e+02 1.58609060e+02 1.60386130e+02 1.62173179e+02 1.63970209e+02 1.65777219e+02 1.67594210e+02 1.69421182e+02 1.71258134e+02 1.73105068e+02 1.74961983e+02 1.76828879e+02 1.78705758e+02 1.80592617e+02 1.82489459e+02 1.84396283e+02 1.86313089e+02 1.88239877e+02 1.90176648e+02 1.92123401e+02 1.94080137e+02 1.96046856e+02 1.98023558e+02 2.00010243e+02 2.02006911e+02 2.04013563e+02 2.06030198e+02 2.08056817e+02 2.10093420e+02 2.12140006e+02 2.14196577e+02 2.16263131e+02 2.18339670e+02 2.20426193e+02 2.22522701e+02 2.24629193e+02 2.26745669e+02 2.28872131e+02 2.31008577e+02 2.33155008e+02 2.35311425e+02 2.37477826e+02 2.39654213e+02 2.41840585e+02 2.44036942e+02 2.46243285e+02 2.48459614e+02 2.50685929e+02 2.52922229e+02 2.55168515e+02 2.57424787e+02 2.59691045e+02 2.61967290e+02 2.64253520e+02 2.66549737e+02 2.68855941e+02 2.71172130e+02 2.73498307e+02 2.75834470e+02 2.78180620e+02 2.80536756e+02 2.82902880e+02 2.85278991e+02 2.87665088e+02 2.90061173e+02 2.92467244e+02 2.94883304e+02 2.97309350e+02 2.99745384e+02 3.02191405e+02 3.04647414e+02 3.07113410e+02 3.09589394e+02 3.12075366e+02 3.14571326e+02 3.17077273e+02 3.19593208e+02 3.22119132e+02 3.24655043e+02 3.27200943e+02 3.29756830e+02 3.32322706e+02 3.34898570e+02 3.37484423e+02 3.40080264e+02 3.42686093e+02 3.45301911e+02 3.47927718e+02 3.50563513e+02 3.53209297e+02 3.55865069e+02 3.58530831e+02 3.61206581e+02 3.63892320e+02 3.66588048e+02 3.69293765e+02 3.72009471e+02 3.74735166e+02 3.77470850e+02 3.80216524e+02 3.82972187e+02 3.85737839e+02 3.88513480e+02 3.91299111e+02 3.94094731e+02 3.96900341e+02 3.99715940e+02 4.02541528e+02 4.05377107e+02 4.08222675e+02 4.11078232e+02 4.13943780e+02 4.16819317e+02 4.19704844e+02 4.22600361e+02 4.25505868e+02 4.28421365e+02 4.31346851e+02 4.34282328e+02 4.37227795e+02 4.40183252e+02 4.43148699e+02 4.46124136e+02 4.49109564e+02 4.52104982e+02 4.55110390e+02 4.58125788e+02 4.61151177e+02 4.64186556e+02 4.67231925e+02 4.70287286e+02 4.73352636e+02 4.76427977e+02 4.79513309e+02 4.82608631e+02 4.85713944e+02 4.88829248e+02 4.91954542e+02 4.95089827e+02] \n",
            "\n",
            "[  0.           2.48788858   4.97577716   7.46366574   9.95155432  12.43944289  14.92733147  17.41522005  19.90310863  22.39099721  24.87888579  27.36677437  29.85466295  32.34255152  34.8304401   37.31832868  39.80621726  42.29410584  44.78199442  47.269883    49.75777158  52.24566016  54.73354873  57.22143731  59.70932589  62.19721447  64.68510305  67.17299163  69.66088021  72.14876879  74.63665736  77.12454594  79.61243452  82.1003231   84.58821168  87.07610026  89.56398884  92.05187742  94.539766    97.02765457  99.51554315 102.00343173 104.49132031 106.97920889 109.46709747 111.95498605 114.44287463 116.9307632  119.41865178 121.90654036 124.39442894 126.88231752 129.3702061  131.85809468 134.34598326 136.83387184 139.32176041 141.80964899 144.29753757 146.78542615 149.27331473 151.76120331 154.24909189 156.73698047 159.22486904 161.71275762 164.2006462  166.68853478 169.17642336 171.66431194 174.15220052 176.6400891  179.12797768 181.61586625 184.10375483 186.59164341 189.07953199 191.56742057 194.05530915 196.54319773 199.03108631 201.51897488 204.00686346 206.49475204 208.98264062 211.4705292  213.95841778 216.44630636 218.93419494 221.42208352 223.90997209 226.39786067 228.88574925 231.37363783 233.86152641 236.34941499 238.83730357 241.32519215 243.81308072 246.3009693  248.78885788 251.27674646 253.76463504 256.25252362 258.7404122  261.22830078 263.71618936 266.20407793 268.69196651 271.17985509 273.66774367 276.15563225 278.64352083 281.13140941 283.61929799 286.10718656 288.59507514 291.08296372 293.5708523  296.05874088 298.54662946 301.03451804 303.52240662 306.0102952  308.49818377 310.98607235 313.47396093 315.96184951 318.44973809 320.93762667 323.42551525 325.91340383 328.4012924  330.88918098 333.37706956 335.86495814 338.35284672 340.8407353  343.32862388 345.81651246 348.30440104 350.79228961 353.28017819 355.76806677 358.25595535 360.74384393 363.23173251 365.71962109 368.20750967 370.69539824 373.18328682 375.6711754  378.15906398 380.64695256 383.13484114 385.62272972 388.1106183  390.59850688 393.08639545 395.57428403 398.06217261 400.55006119 403.03794977 405.52583835 408.01372693 410.50161551 412.98950408 415.47739266 417.96528124 420.45316982 422.9410584  425.42894698 427.91683556 430.40472414 432.89261272 435.38050129 437.86838987 440.35627845 442.84416703 445.33205561 447.81994419 450.30783277 452.79572135 455.28360992 457.7714985  460.25938708 462.74727566 465.23516424 467.72305282 470.2109414  472.69882998 475.18671856 477.67460713 480.16249571 482.65038429 485.13827287 487.62616145 490.11405003 492.60193861 495.08982719] \n",
            "\n",
            "[ 0.00000000e+00 -3.73131229e-01 -2.59817608e+00 -3.26212050e+00 -2.18442687e+00 -2.98929946e-02  2.42923642e+00  4.54913599e+00  5.92318348e+00  6.35117933e+00  5.82369277e+00  4.46259540e+00  2.47320794e+00  1.09577220e-01 -2.36575300e+00 -4.71261671e+00 -6.72701769e+00 -8.25541575e+00 -9.18486120e+00 -9.46381505e+00 -9.11085788e+00 -8.12875279e+00 -6.63306046e+00 -4.69271059e+00 -2.44736165e+00 -2.05444585e-02  2.46101146e+00  4.86841760e+00  7.08937968e+00  9.02539126e+00  1.05948609e+01  1.17357250e+01  1.24068974e+01  1.25885805e+01  1.22815267e+01  1.15053927e+01  1.02963689e+01  8.70429550e+00  6.78948686e+00  4.61716636e+00  2.25853448e+00 -1.98731680e-01 -2.68040566e+00 -5.11543300e+00 -7.41973991e+00 -9.53891040e+00 -1.14237629e+01 -1.29919305e+01 -1.42355069e+01 -1.51243232e+01 -1.56061571e+01 -1.57219415e+01 -1.54217066e+01 -1.47579136e+01 -1.37255236e+01 -1.23634834e+01 -1.07024632e+01 -8.78327367e+00 -6.65029558e+00 -4.35514246e+00 -1.94290275e+00  5.28038914e-01  3.00985904e+00  5.45450275e+00  7.80093594e+00  1.00179639e+01  1.20595602e+01  1.38732623e+01  1.54564938e+01  1.67497894e+01  1.77435802e+01  1.84439878e+01  1.87990820e+01  1.88271003e+01  1.85472755e+01  1.79378850e+01  1.70105456e+01  1.58085777e+01  1.43501808e+01  1.26222364e+01  1.06905445e+01  8.58498641e+00  6.33562529e+00  3.96179025e+00  1.51802643e+00 -9.61699044e-01 -3.44349301e+00 -5.88951759e+00 -8.26006582e+00 -1.05270865e+01 -1.26610269e+01 -1.46343020e+01 -1.64206033e+01 -1.79708499e+01 -1.92894561e+01 -2.03605967e+01 -2.11716587e+01 -2.17133504e+01 -2.19797677e+01 -2.19626531e+01 -2.16476737e+01 -2.10622561e+01 -2.02145809e+01 -1.91158467e+01 -1.77800930e+01 -1.62239930e+01 -1.44666197e+01 -1.25291882e+01 -1.04347777e+01 -8.20773276e+00 -5.86978851e+00 -3.45563299e+00 -9.92556869e-01  1.49191203e+00  3.97031733e+00  6.41557503e+00  8.80126359e+00  1.11019001e+01  1.32931995e+01  1.53523150e+01  1.72580567e+01  1.89910866e+01  2.05340895e+01  2.18719167e+01  2.29917039e+01  2.38829603e+01  2.45376309e+01  2.49501314e+01  2.51173551e+01  2.50386548e+01  2.47157984e+01  2.41529019e+01  2.33563391e+01  2.23346314e+01  2.10983193e+01  1.96598169e+01  1.80332532e+01  1.62343003e+01  1.42799934e+01  1.21885425e+01  9.97914013e+00  7.67176574e+00  5.28699023e+00  2.84441658e+00  3.68190102e-01 -2.11846865e+00 -4.59426061e+00 -7.03829202e+00 -9.43024209e+00 -1.17505186e+01 -1.39803999e+01 -1.61021634e+01 -1.80991985e+01 -1.99561058e+01 -2.16587804e+01 -2.31850397e+01 -2.45166960e+01 -2.56568097e+01 -2.65976904e+01 -2.73332424e+01 -2.78589555e+01 -2.81718833e+01 -2.82706110e+01 -2.81552119e+01 -2.78066635e+01 -2.72341677e+01 -2.64578863e+01 -2.54844118e+01 -2.43214986e+01 -2.29779690e+01 -2.14636172e+01 -1.97837046e+01 -1.79341987e+01 -1.59545785e+01 -1.38585628e+01 -1.16602783e+01 -9.37416511e+00 -7.01488958e+00 -4.59184632e+00 -2.12995331e+00  3.50691071e-01  2.83498918e+00  5.30813450e+00  7.75565814e+00  1.01522531e+01  1.24813227e+01  1.47337756e+01  1.68973642e+01  1.89604991e+01  2.09071945e+01  2.26943693e+01  2.43420179e+01  2.58422998e+01  2.71881423e+01  2.83731992e+01  2.93376609e+01  3.01222558e+01  3.07280750e+01  3.11531219e+01  3.13960177e+01] \n",
            "\n",
            "[ 0.00000000e+00  1.74026724e+00  9.81816584e-01 -1.34251287e+00 -3.53191891e+00 -4.70449474e+00 -4.59573427e+00 -3.33831870e+00 -1.28956083e+00  1.14234685e+00  3.55645601e+00  5.62188218e+00  7.09389488e+00  7.82951803e+00  7.78700678e+00  6.99685666e+00  5.55535240e+00  3.60417006e+00  1.30506373e+00 -1.15819722e+00 -3.61328132e+00 -5.89130465e+00 -7.87065053e+00 -9.41689057e+00 -1.04714836e+01 -1.09903787e+01 -1.09354306e+01 -1.03330912e+01 -9.22690166e+00 -7.67489830e+00 -5.75257980e+00 -3.54832201e+00 -1.15854355e+00  1.31709956e+00  3.78023622e+00  6.13780326e+00  8.30540149e+00  1.02098724e+01  1.17910419e+01  1.29972950e+01  1.37774249e+01  1.41319792e+01  1.40585758e+01  1.35636816e+01  1.26345244e+01  1.13409083e+01  9.72216360e+00  7.79464305e+00  5.64544223e+00  3.32503222e+00  8.88107041e-01 -1.59329248e+00 -4.05992507e+00 -6.45313746e+00 -8.71327144e+00 -1.07900854e+01 -1.26380653e+01 -1.42147006e+01 -1.54892299e+01 -1.64390858e+01 -1.70351433e+01 -1.72938948e+01 -1.71685631e+01 -1.67219979e+01 -1.59044166e+01 -1.47824153e+01 -1.33665280e+01 -1.16678134e+01 -9.75246391e+00 -7.63091465e+00 -5.35345831e+00 -2.96905840e+00 -5.09631905e-01  1.97507060e+00  4.44430515e+00  6.85344809e+00  9.15903461e+00  1.13337844e+01  1.33467125e+01  1.51336120e+01  1.66966787e+01  1.80162922e+01  1.90746708e+01  1.98127969e+01  2.02634499e+01  2.04221761e+01  2.02877631e+01  1.98449702e+01  1.90974465e+01  1.80799531e+01  1.68069397e+01  1.52959771e+01  1.35665801e+01  1.16227312e+01  9.51601869e+00  7.27388893e+00  4.92519240e+00  2.49981337e+00  2.82932820e-02 -2.45817963e+00 -4.92460367e+00 -7.34030894e+00 -9.67635928e+00 -1.19050601e+01 -1.40002645e+01 -1.59376556e+01 -1.76950019e+01 -1.92523833e+01 -2.05923861e+01 -2.16995543e+01 -2.25478860e+01 -2.31432552e+01 -2.34800725e+01 -2.35556687e+01 -2.33702741e+01 -2.29269662e+01 -2.22315865e+01 -2.12926288e+01 -2.01211000e+01 -1.87303570e+01 -1.71359212e+01 -1.53552740e+01 -1.34076356e+01 -1.13137308e+01 -9.09554383e+00 -6.77606668e+00 -4.37904252e+00 -1.92870828e+00  5.50461201e-01  3.03400451e+00  5.49771780e+00  7.91788934e+00  1.02715222e+01  1.25365431e+01  1.46919953e+01  1.67182148e+01  1.85969872e+01  2.03116866e+01  2.18473923e+01  2.31909872e+01  2.43312337e+01  2.52588296e+01  2.59664444e+01  2.64391214e+01  2.66748505e+01  2.66796333e+01  2.64545680e+01  2.60026765e+01  2.53288265e+01  2.44396400e+01  2.33433894e+01  2.20498837e+01  2.05703459e+01  1.89172843e+01  1.71043584e+01  1.51396391e+01  1.30387952e+01  1.08294252e+01  8.52903617e+00  6.15551380e+00  3.72697869e+00  1.26164946e+00 -1.22228693e+00 -3.70679651e+00 -6.17014862e+00 -8.59028675e+00 -1.09516293e+01 -1.32379536e+01 -1.54338179e+01 -1.75246263e+01 -1.94966815e+01 -2.13317519e+01 -2.29952001e+01 -2.44987532e+01 -2.58335652e+01 -2.69919481e+01 -2.79673583e+01 -2.87543764e+01 -2.93186910e+01 -2.96679958e+01 -2.98181354e+01 -2.97693731e+01 -2.95229769e+01 -2.90811595e+01 -2.84133854e+01 -2.75430665e+01 -2.64934034e+01 -2.52713717e+01 -2.38845608e+01 -2.23353782e+01 -2.06051319e+01 -1.87442619e+01 -1.67635423e+01 -1.46739620e+01 -1.24866789e+01 -1.01933401e+01 -7.83474328e+00 -5.42495146e+00 -2.97607515e+00 -5.00072086e-01]\n"
          ]
        }
      ],
      "source": [
        "phi = np.arange(0, 10*np.pi, 0.1)\n",
        "a = 1\n",
        "x = a*phi*np.cos(phi)\n",
        "y = a*phi*np.sin(phi)\n",
        "\n",
        "dr = (np.diff(x)**2 + np.diff(y)**2)**.5 \n",
        "r = np.zeros_like(x)\n",
        "r[1:] = np.cumsum(dr)               \n",
        "r_int = np.linspace(0, r.max(), 200) \n",
        "x_int = np.interp(r_int, r, x)       \n",
        "y_int = np.interp(r_int, r, y)\n",
        "\n",
        "print(r[1:],\"\\n\")\n",
        "print(r_int,\"\\n\")\n",
        "print(x_int,\"\\n\")\n",
        "print(y_int)"
      ]
    },
    {
      "cell_type": "markdown",
      "metadata": {
        "id": "dosR5-ygRiKe"
      },
      "source": [
        "#### 99. Given an integer n and a 2D array X, select from X the rows which can be interpreted as draws from a multinomial distribution with n degrees, i.e., the rows which only contain integers and which sum to n. (★★★) \n",
        "(**hint**: np.logical\\_and.reduce, np.mod)"
      ]
    },
    {
      "cell_type": "code",
      "execution_count": 100,
      "metadata": {
        "id": "OE21F213RiKe",
        "outputId": "44a61f8f-d9cb-4037-fb30-c70876f9ade5",
        "colab": {
          "base_uri": "https://localhost:8080/"
        }
      },
      "outputs": [
        {
          "output_type": "stream",
          "name": "stdout",
          "text": [
            "[[2. 0. 1. 1.]]\n"
          ]
        }
      ],
      "source": [
        "X = np.asarray([[1.0, 0.0, 3.0, 8.0],\n",
        "                [2.0, 0.0, 1.0, 1.0],\n",
        "                [1.5, 2.5, 1.0, 0.0]])\n",
        "n = 4\n",
        "M = np.logical_and.reduce(np.mod(X, 1) == 0, axis=-1)\n",
        "M &= (X.sum(axis=-1) == n)\n",
        "\n",
        "print(X[M])"
      ]
    },
    {
      "cell_type": "markdown",
      "metadata": {
        "id": "3vLlNgbJRiKe"
      },
      "source": [
        "#### 100. Compute bootstrapped 95% confidence intervals for the mean of a 1D array X (i.e., resample the elements of an array with replacement N times, compute the mean of each sample, and then compute percentiles over the means). (★★★) \n",
        "(**hint**: np.percentile)"
      ]
    },
    {
      "cell_type": "code",
      "execution_count": 101,
      "metadata": {
        "id": "NYJPPMywRiKe",
        "outputId": "4bffc668-b13d-4a54-ea93-6a110b820fae",
        "colab": {
          "base_uri": "https://localhost:8080/"
        }
      },
      "outputs": [
        {
          "output_type": "stream",
          "name": "stdout",
          "text": [
            "[-0.27628787  0.0625312 ]\n"
          ]
        }
      ],
      "source": [
        "X = np.random.randn(100) \n",
        "N = 1000 \n",
        "\n",
        "idx = np.random.randint(0, X.size, (N, X.size))\n",
        "means = X[idx].mean(axis=1)\n",
        "confint = np.percentile(means, [5,95])\n",
        "\n",
        "print(confint)"
      ]
    }
  ],
  "metadata": {
    "kernelspec": {
      "display_name": "Python 3",
      "language": "python",
      "name": "python3"
    },
    "language_info": {
      "codemirror_mode": {
        "name": "ipython",
        "version": 3
      },
      "file_extension": ".py",
      "mimetype": "text/x-python",
      "name": "python",
      "nbconvert_exporter": "python",
      "pygments_lexer": "ipython3",
      "version": "3.8.3"
    },
    "colab": {
      "provenance": [],
      "include_colab_link": true
    }
  },
  "nbformat": 4,
  "nbformat_minor": 0
}